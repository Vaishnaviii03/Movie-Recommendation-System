{
 "cells": [
  {
   "cell_type": "markdown",
   "metadata": {},
   "source": [
    "# Build movie recommendation system\n",
    "- This project implements a movie recommendation system using both content-based and collaborative filtering techniques, providing personalized movie recommendations based on user preferences."
   ]
  },
  {
   "cell_type": "markdown",
   "metadata": {},
   "source": [
    "<img src=\"https://raw.githubusercontent.com/jalajthanaki/Movie_recommendation_engine/master/img/3_1.gif\" \n",
    "align=\"middle\" alt=\"Figure 3_1\" data-canonical-src=\"\" style=\"width:40%;height:40%\">"
   ]
  },
  {
   "cell_type": "markdown",
   "metadata": {},
   "source": [
    "# Project Outline\n",
    "\n",
    "## 1. Import Dependencies\n",
    "- Import necessary libraries such as pandas, numpy, and scikit-learn for data manipulation and modeling.\n",
    "\n",
    "## 2. Load Dataset\n",
    "- Load the movie dataset containing information about movies, users, and ratings.\n",
    "\n",
    "## 3. Data Preprocessing\n",
    "- Explore the dataset to understand its structure, features, and distributions.\n",
    "- Check for missing values and outliers that may need to be addressed during data preprocessing.\n",
    "\n",
    "## 4. Exploratory Data Analysis\n",
    "- Perform any necessary data cleaning and transformation steps to prepare the dataset for modeling.\n",
    "\n",
    "## 5. Build Recommendation System\n",
    "- Build different types of recommendation systems:\n",
    "\n",
    "   ### 5.1 Simple Recommendation System\n",
    "   - Implement a basic recommendation system (e.g., top N most popular movies) to establish a baseline for comparison.\n",
    "\n",
    "   ### 5.2 Content-Based Recommendation System\n",
    "   - Implement a content-based recommendation system that suggests movies similar to those a user has liked in the past, based on movie features (e.g., genres, directors, actors). \n",
    "\n",
    "   ### 5.3 Collaborative Filtering (CF) Recommendation System\n",
    "   - Implement user-based or item-based collaborative filtering to recommend movies based on the preferences of similar users or items.\n",
    "\n",
    "   ### 5.4 Hybrid Recommendation System\n",
    "   - Combine the content-based and CF recommendation systems to create a hybrid model that provides more accurate and diverse recommendations.\n",
    "\n",
    "## 6. Evaluate the performance\n",
    "- Evaluation of each recommendation system using metrics such as accuracy, precision, recall, and F1-score.\n",
    "\n",
    "\n",
    "\n",
    "\n",
    "\n"
   ]
  },
  {
   "cell_type": "markdown",
   "metadata": {},
   "source": [
    "## 1. Import libraries"
   ]
  },
  {
   "cell_type": "code",
   "execution_count": 1,
   "metadata": {
    "execution": {
     "iopub.execute_input": "2024-04-08T07:11:05.410715Z",
     "iopub.status.busy": "2024-04-08T07:11:05.410284Z",
     "iopub.status.idle": "2024-04-08T07:11:05.421273Z",
     "shell.execute_reply": "2024-04-08T07:11:05.420253Z",
     "shell.execute_reply.started": "2024-04-08T07:11:05.410685Z"
    },
    "scrolled": false
   },
   "outputs": [],
   "source": [
    "\n",
    "%matplotlib inline\n",
    "import matplotlib.pyplot as plt\n",
    "import seaborn as sns\n",
    "import pandas as pd\n",
    "import numpy as np\n",
    "import ast \n",
    "from scipy import stats\n",
    "from ast import literal_eval\n",
    "from sklearn.feature_extraction.text import TfidfVectorizer, CountVectorizer\n",
    "from sklearn.metrics.pairwise import linear_kernel, cosine_similarity\n",
    "from nltk.stem.snowball import SnowballStemmer\n",
    "from nltk.stem.wordnet import WordNetLemmatizer\n",
    "from nltk.corpus import wordnet\n",
    "from surprise.model_selection import cross_validate\n",
    "from surprise import Reader, Dataset, SVD\n",
    "\n",
    "\n",
    "\n",
    "\n",
    "import warnings; warnings.simplefilter('ignore')"
   ]
  },
  {
   "cell_type": "markdown",
   "metadata": {},
   "source": [
    "## 2. Load dataset"
   ]
  },
  {
   "cell_type": "markdown",
   "metadata": {},
   "source": [
    "We have MovieLens datasets.\n",
    "\n",
    "**The Full Dataset:** Consists of 26,000,000 ratings and 750,000 tag applications applied to 45,000 movies by 270,000 users. Includes tag genome data with 12 million relevance scores across 1,100 tags.\n",
    "\n",
    "**The Small Dataset:** Comprises of 100,000 ratings and 1,300 tag applications applied to 9,000 movies by 700 users.\n",
    "\n",
    "We will build our Simple Recommender using movies from the Full Dataset "
   ]
  },
  {
   "cell_type": "code",
   "execution_count": 2,
   "metadata": {
    "execution": {
     "iopub.execute_input": "2024-04-08T07:11:05.423369Z",
     "iopub.status.busy": "2024-04-08T07:11:05.422986Z",
     "iopub.status.idle": "2024-04-08T07:11:08.695720Z",
     "shell.execute_reply": "2024-04-08T07:11:08.694454Z",
     "shell.execute_reply.started": "2024-04-08T07:11:05.423336Z"
    }
   },
   "outputs": [],
   "source": [
    "credits = pd.read_csv('credits.csv')\n",
    "keywords = pd.read_csv('keywords.csv')\n",
    "links_small = pd.read_csv('links_small.csv')\n",
    "movies = pd.read_csv('movies_metadata.csv')\n",
    "ratings = pd.read_csv('ratings_small.csv')"
   ]
  },
  {
   "cell_type": "markdown",
   "metadata": {},
   "source": [
    "## 3. Data Preprocessing"
   ]
  },
  {
   "cell_type": "markdown",
   "metadata": {},
   "source": [
    "#### Credits dataframe"
   ]
  },
  {
   "cell_type": "code",
   "execution_count": 3,
   "metadata": {
    "execution": {
     "iopub.execute_input": "2024-04-08T07:11:08.697644Z",
     "iopub.status.busy": "2024-04-08T07:11:08.697158Z",
     "iopub.status.idle": "2024-04-08T07:11:08.711811Z",
     "shell.execute_reply": "2024-04-08T07:11:08.710190Z",
     "shell.execute_reply.started": "2024-04-08T07:11:08.697599Z"
    }
   },
   "outputs": [
    {
     "data": {
      "text/html": [
       "<div>\n",
       "<style scoped>\n",
       "    .dataframe tbody tr th:only-of-type {\n",
       "        vertical-align: middle;\n",
       "    }\n",
       "\n",
       "    .dataframe tbody tr th {\n",
       "        vertical-align: top;\n",
       "    }\n",
       "\n",
       "    .dataframe thead th {\n",
       "        text-align: right;\n",
       "    }\n",
       "</style>\n",
       "<table border=\"1\" class=\"dataframe\">\n",
       "  <thead>\n",
       "    <tr style=\"text-align: right;\">\n",
       "      <th></th>\n",
       "      <th>cast</th>\n",
       "      <th>crew</th>\n",
       "      <th>id</th>\n",
       "    </tr>\n",
       "  </thead>\n",
       "  <tbody>\n",
       "    <tr>\n",
       "      <th>0</th>\n",
       "      <td>[{'cast_id': 14, 'character': 'Woody (voice)',...</td>\n",
       "      <td>[{'credit_id': '52fe4284c3a36847f8024f49', 'de...</td>\n",
       "      <td>862</td>\n",
       "    </tr>\n",
       "    <tr>\n",
       "      <th>1</th>\n",
       "      <td>[{'cast_id': 1, 'character': 'Alan Parrish', '...</td>\n",
       "      <td>[{'credit_id': '52fe44bfc3a36847f80a7cd1', 'de...</td>\n",
       "      <td>8844</td>\n",
       "    </tr>\n",
       "    <tr>\n",
       "      <th>2</th>\n",
       "      <td>[{'cast_id': 2, 'character': 'Max Goldman', 'c...</td>\n",
       "      <td>[{'credit_id': '52fe466a9251416c75077a89', 'de...</td>\n",
       "      <td>15602</td>\n",
       "    </tr>\n",
       "    <tr>\n",
       "      <th>3</th>\n",
       "      <td>[{'cast_id': 1, 'character': \"Savannah 'Vannah...</td>\n",
       "      <td>[{'credit_id': '52fe44779251416c91011acb', 'de...</td>\n",
       "      <td>31357</td>\n",
       "    </tr>\n",
       "    <tr>\n",
       "      <th>4</th>\n",
       "      <td>[{'cast_id': 1, 'character': 'George Banks', '...</td>\n",
       "      <td>[{'credit_id': '52fe44959251416c75039ed7', 'de...</td>\n",
       "      <td>11862</td>\n",
       "    </tr>\n",
       "  </tbody>\n",
       "</table>\n",
       "</div>"
      ],
      "text/plain": [
       "                                                cast  \\\n",
       "0  [{'cast_id': 14, 'character': 'Woody (voice)',...   \n",
       "1  [{'cast_id': 1, 'character': 'Alan Parrish', '...   \n",
       "2  [{'cast_id': 2, 'character': 'Max Goldman', 'c...   \n",
       "3  [{'cast_id': 1, 'character': \"Savannah 'Vannah...   \n",
       "4  [{'cast_id': 1, 'character': 'George Banks', '...   \n",
       "\n",
       "                                                crew     id  \n",
       "0  [{'credit_id': '52fe4284c3a36847f8024f49', 'de...    862  \n",
       "1  [{'credit_id': '52fe44bfc3a36847f80a7cd1', 'de...   8844  \n",
       "2  [{'credit_id': '52fe466a9251416c75077a89', 'de...  15602  \n",
       "3  [{'credit_id': '52fe44779251416c91011acb', 'de...  31357  \n",
       "4  [{'credit_id': '52fe44959251416c75039ed7', 'de...  11862  "
      ]
     },
     "execution_count": 3,
     "metadata": {},
     "output_type": "execute_result"
    }
   ],
   "source": [
    "credits.head()"
   ]
  },
  {
   "cell_type": "code",
   "execution_count": 4,
   "metadata": {
    "execution": {
     "iopub.execute_input": "2024-04-08T07:11:08.716029Z",
     "iopub.status.busy": "2024-04-08T07:11:08.715536Z",
     "iopub.status.idle": "2024-04-08T07:11:08.727034Z",
     "shell.execute_reply": "2024-04-08T07:11:08.725913Z",
     "shell.execute_reply.started": "2024-04-08T07:11:08.715985Z"
    },
    "scrolled": true
   },
   "outputs": [
    {
     "data": {
      "text/plain": [
       "Index(['cast', 'crew', 'id'], dtype='object')"
      ]
     },
     "execution_count": 4,
     "metadata": {},
     "output_type": "execute_result"
    }
   ],
   "source": [
    "credits.columns"
   ]
  },
  {
   "cell_type": "code",
   "execution_count": 5,
   "metadata": {},
   "outputs": [
    {
     "data": {
      "text/plain": [
       "cast    0\n",
       "crew    0\n",
       "id      0\n",
       "dtype: int64"
      ]
     },
     "execution_count": 5,
     "metadata": {},
     "output_type": "execute_result"
    }
   ],
   "source": [
    "credits.isnull().sum()"
   ]
  },
  {
   "cell_type": "markdown",
   "metadata": {},
   "source": [
    "* **cast:** Information about casting. Name of actor, gender and it's character name in movie\n",
    "* **crew:** Information about crew members. Like who directed the movie, editor of the movie and so on. \n",
    "* **id:** It's movie ID given by TMDb"
   ]
  },
  {
   "cell_type": "code",
   "execution_count": 6,
   "metadata": {
    "execution": {
     "iopub.execute_input": "2024-04-08T07:11:08.729108Z",
     "iopub.status.busy": "2024-04-08T07:11:08.728642Z",
     "iopub.status.idle": "2024-04-08T07:11:08.738655Z",
     "shell.execute_reply": "2024-04-08T07:11:08.737710Z",
     "shell.execute_reply.started": "2024-04-08T07:11:08.729066Z"
    }
   },
   "outputs": [
    {
     "data": {
      "text/plain": [
       "(45476, 3)"
      ]
     },
     "execution_count": 6,
     "metadata": {},
     "output_type": "execute_result"
    }
   ],
   "source": [
    "credits.shape"
   ]
  },
  {
   "cell_type": "code",
   "execution_count": 7,
   "metadata": {
    "execution": {
     "iopub.execute_input": "2024-04-08T07:11:08.740520Z",
     "iopub.status.busy": "2024-04-08T07:11:08.740081Z",
     "iopub.status.idle": "2024-04-08T07:11:08.771116Z",
     "shell.execute_reply": "2024-04-08T07:11:08.769680Z",
     "shell.execute_reply.started": "2024-04-08T07:11:08.740465Z"
    }
   },
   "outputs": [
    {
     "name": "stdout",
     "output_type": "stream",
     "text": [
      "<class 'pandas.core.frame.DataFrame'>\n",
      "RangeIndex: 45476 entries, 0 to 45475\n",
      "Data columns (total 3 columns):\n",
      " #   Column  Non-Null Count  Dtype \n",
      "---  ------  --------------  ----- \n",
      " 0   cast    45476 non-null  object\n",
      " 1   crew    45476 non-null  object\n",
      " 2   id      45476 non-null  int64 \n",
      "dtypes: int64(1), object(2)\n",
      "memory usage: 1.0+ MB\n"
     ]
    }
   ],
   "source": [
    "credits.info()"
   ]
  },
  {
   "cell_type": "markdown",
   "metadata": {},
   "source": [
    "#### Keywords dataframe"
   ]
  },
  {
   "cell_type": "code",
   "execution_count": 8,
   "metadata": {
    "execution": {
     "iopub.execute_input": "2024-04-08T07:11:08.772900Z",
     "iopub.status.busy": "2024-04-08T07:11:08.772524Z",
     "iopub.status.idle": "2024-04-08T07:11:08.783919Z",
     "shell.execute_reply": "2024-04-08T07:11:08.782551Z",
     "shell.execute_reply.started": "2024-04-08T07:11:08.772868Z"
    }
   },
   "outputs": [
    {
     "data": {
      "text/html": [
       "<div>\n",
       "<style scoped>\n",
       "    .dataframe tbody tr th:only-of-type {\n",
       "        vertical-align: middle;\n",
       "    }\n",
       "\n",
       "    .dataframe tbody tr th {\n",
       "        vertical-align: top;\n",
       "    }\n",
       "\n",
       "    .dataframe thead th {\n",
       "        text-align: right;\n",
       "    }\n",
       "</style>\n",
       "<table border=\"1\" class=\"dataframe\">\n",
       "  <thead>\n",
       "    <tr style=\"text-align: right;\">\n",
       "      <th></th>\n",
       "      <th>id</th>\n",
       "      <th>keywords</th>\n",
       "    </tr>\n",
       "  </thead>\n",
       "  <tbody>\n",
       "    <tr>\n",
       "      <th>0</th>\n",
       "      <td>862</td>\n",
       "      <td>[{'id': 931, 'name': 'jealousy'}, {'id': 4290,...</td>\n",
       "    </tr>\n",
       "    <tr>\n",
       "      <th>1</th>\n",
       "      <td>8844</td>\n",
       "      <td>[{'id': 10090, 'name': 'board game'}, {'id': 1...</td>\n",
       "    </tr>\n",
       "    <tr>\n",
       "      <th>2</th>\n",
       "      <td>15602</td>\n",
       "      <td>[{'id': 1495, 'name': 'fishing'}, {'id': 12392...</td>\n",
       "    </tr>\n",
       "    <tr>\n",
       "      <th>3</th>\n",
       "      <td>31357</td>\n",
       "      <td>[{'id': 818, 'name': 'based on novel'}, {'id':...</td>\n",
       "    </tr>\n",
       "    <tr>\n",
       "      <th>4</th>\n",
       "      <td>11862</td>\n",
       "      <td>[{'id': 1009, 'name': 'baby'}, {'id': 1599, 'n...</td>\n",
       "    </tr>\n",
       "  </tbody>\n",
       "</table>\n",
       "</div>"
      ],
      "text/plain": [
       "      id                                           keywords\n",
       "0    862  [{'id': 931, 'name': 'jealousy'}, {'id': 4290,...\n",
       "1   8844  [{'id': 10090, 'name': 'board game'}, {'id': 1...\n",
       "2  15602  [{'id': 1495, 'name': 'fishing'}, {'id': 12392...\n",
       "3  31357  [{'id': 818, 'name': 'based on novel'}, {'id':...\n",
       "4  11862  [{'id': 1009, 'name': 'baby'}, {'id': 1599, 'n..."
      ]
     },
     "execution_count": 8,
     "metadata": {},
     "output_type": "execute_result"
    }
   ],
   "source": [
    "keywords.head()"
   ]
  },
  {
   "cell_type": "code",
   "execution_count": 9,
   "metadata": {
    "execution": {
     "iopub.execute_input": "2024-04-08T07:11:08.786170Z",
     "iopub.status.busy": "2024-04-08T07:11:08.785177Z",
     "iopub.status.idle": "2024-04-08T07:11:08.794530Z",
     "shell.execute_reply": "2024-04-08T07:11:08.793556Z",
     "shell.execute_reply.started": "2024-04-08T07:11:08.786130Z"
    }
   },
   "outputs": [
    {
     "data": {
      "text/plain": [
       "Index(['id', 'keywords'], dtype='object')"
      ]
     },
     "execution_count": 9,
     "metadata": {},
     "output_type": "execute_result"
    }
   ],
   "source": [
    "keywords.columns"
   ]
  },
  {
   "cell_type": "markdown",
   "metadata": {},
   "source": [
    "* **id:** It's movie ID given by TMDb\n",
    "* **Keywords:** Tags/keywords for the movie. It list of tags/keywords "
   ]
  },
  {
   "cell_type": "code",
   "execution_count": 10,
   "metadata": {
    "execution": {
     "iopub.execute_input": "2024-04-08T07:11:08.796231Z",
     "iopub.status.busy": "2024-04-08T07:11:08.795904Z",
     "iopub.status.idle": "2024-04-08T07:11:08.806714Z",
     "shell.execute_reply": "2024-04-08T07:11:08.805743Z",
     "shell.execute_reply.started": "2024-04-08T07:11:08.796202Z"
    }
   },
   "outputs": [
    {
     "data": {
      "text/plain": [
       "(46419, 2)"
      ]
     },
     "execution_count": 10,
     "metadata": {},
     "output_type": "execute_result"
    }
   ],
   "source": [
    "keywords.shape"
   ]
  },
  {
   "cell_type": "code",
   "execution_count": 11,
   "metadata": {
    "execution": {
     "iopub.execute_input": "2024-04-08T07:11:08.811254Z",
     "iopub.status.busy": "2024-04-08T07:11:08.810926Z",
     "iopub.status.idle": "2024-04-08T07:11:08.827589Z",
     "shell.execute_reply": "2024-04-08T07:11:08.826722Z",
     "shell.execute_reply.started": "2024-04-08T07:11:08.811227Z"
    }
   },
   "outputs": [
    {
     "name": "stdout",
     "output_type": "stream",
     "text": [
      "<class 'pandas.core.frame.DataFrame'>\n",
      "RangeIndex: 46419 entries, 0 to 46418\n",
      "Data columns (total 2 columns):\n",
      " #   Column    Non-Null Count  Dtype \n",
      "---  ------    --------------  ----- \n",
      " 0   id        46419 non-null  int64 \n",
      " 1   keywords  46419 non-null  object\n",
      "dtypes: int64(1), object(1)\n",
      "memory usage: 725.4+ KB\n"
     ]
    }
   ],
   "source": [
    "keywords.info()"
   ]
  },
  {
   "cell_type": "markdown",
   "metadata": {},
   "source": [
    "#### Link dataframe"
   ]
  },
  {
   "cell_type": "code",
   "execution_count": 12,
   "metadata": {
    "execution": {
     "iopub.execute_input": "2024-04-08T07:11:08.829668Z",
     "iopub.status.busy": "2024-04-08T07:11:08.828878Z",
     "iopub.status.idle": "2024-04-08T07:11:08.844079Z",
     "shell.execute_reply": "2024-04-08T07:11:08.843195Z",
     "shell.execute_reply.started": "2024-04-08T07:11:08.829633Z"
    }
   },
   "outputs": [
    {
     "data": {
      "text/html": [
       "<div>\n",
       "<style scoped>\n",
       "    .dataframe tbody tr th:only-of-type {\n",
       "        vertical-align: middle;\n",
       "    }\n",
       "\n",
       "    .dataframe tbody tr th {\n",
       "        vertical-align: top;\n",
       "    }\n",
       "\n",
       "    .dataframe thead th {\n",
       "        text-align: right;\n",
       "    }\n",
       "</style>\n",
       "<table border=\"1\" class=\"dataframe\">\n",
       "  <thead>\n",
       "    <tr style=\"text-align: right;\">\n",
       "      <th></th>\n",
       "      <th>movieId</th>\n",
       "      <th>imdbId</th>\n",
       "      <th>tmdbId</th>\n",
       "    </tr>\n",
       "  </thead>\n",
       "  <tbody>\n",
       "    <tr>\n",
       "      <th>0</th>\n",
       "      <td>1</td>\n",
       "      <td>114709</td>\n",
       "      <td>862.0</td>\n",
       "    </tr>\n",
       "    <tr>\n",
       "      <th>1</th>\n",
       "      <td>2</td>\n",
       "      <td>113497</td>\n",
       "      <td>8844.0</td>\n",
       "    </tr>\n",
       "    <tr>\n",
       "      <th>2</th>\n",
       "      <td>3</td>\n",
       "      <td>113228</td>\n",
       "      <td>15602.0</td>\n",
       "    </tr>\n",
       "    <tr>\n",
       "      <th>3</th>\n",
       "      <td>4</td>\n",
       "      <td>114885</td>\n",
       "      <td>31357.0</td>\n",
       "    </tr>\n",
       "    <tr>\n",
       "      <th>4</th>\n",
       "      <td>5</td>\n",
       "      <td>113041</td>\n",
       "      <td>11862.0</td>\n",
       "    </tr>\n",
       "  </tbody>\n",
       "</table>\n",
       "</div>"
      ],
      "text/plain": [
       "   movieId  imdbId   tmdbId\n",
       "0        1  114709    862.0\n",
       "1        2  113497   8844.0\n",
       "2        3  113228  15602.0\n",
       "3        4  114885  31357.0\n",
       "4        5  113041  11862.0"
      ]
     },
     "execution_count": 12,
     "metadata": {},
     "output_type": "execute_result"
    }
   ],
   "source": [
    "links_small.head()"
   ]
  },
  {
   "cell_type": "code",
   "execution_count": 13,
   "metadata": {
    "execution": {
     "iopub.execute_input": "2024-04-08T07:11:08.846432Z",
     "iopub.status.busy": "2024-04-08T07:11:08.845392Z",
     "iopub.status.idle": "2024-04-08T07:11:08.858655Z",
     "shell.execute_reply": "2024-04-08T07:11:08.856582Z",
     "shell.execute_reply.started": "2024-04-08T07:11:08.846390Z"
    }
   },
   "outputs": [
    {
     "data": {
      "text/plain": [
       "Index(['movieId', 'imdbId', 'tmdbId'], dtype='object')"
      ]
     },
     "execution_count": 13,
     "metadata": {},
     "output_type": "execute_result"
    }
   ],
   "source": [
    "links_small.columns"
   ]
  },
  {
   "cell_type": "code",
   "execution_count": 14,
   "metadata": {
    "scrolled": true
   },
   "outputs": [
    {
     "data": {
      "text/plain": [
       "movieId     0\n",
       "imdbId      0\n",
       "tmdbId     13\n",
       "dtype: int64"
      ]
     },
     "execution_count": 14,
     "metadata": {},
     "output_type": "execute_result"
    }
   ],
   "source": [
    "links_small.isnull().sum()"
   ]
  },
  {
   "cell_type": "code",
   "execution_count": 15,
   "metadata": {},
   "outputs": [],
   "source": [
    "links_small.dropna(inplace=True)"
   ]
  },
  {
   "cell_type": "code",
   "execution_count": 16,
   "metadata": {},
   "outputs": [
    {
     "data": {
      "text/plain": [
       "movieId    0\n",
       "imdbId     0\n",
       "tmdbId     0\n",
       "dtype: int64"
      ]
     },
     "execution_count": 16,
     "metadata": {},
     "output_type": "execute_result"
    }
   ],
   "source": [
    "links_small.isnull().sum()"
   ]
  },
  {
   "cell_type": "markdown",
   "metadata": {},
   "source": [
    "* **movieId:** It's serial number for movie\n",
    "* **imdbId:** Movie id given on IMDb platform\n",
    "* **tmdbId**: Movie id given on TMDb platform"
   ]
  },
  {
   "cell_type": "code",
   "execution_count": 17,
   "metadata": {
    "execution": {
     "iopub.execute_input": "2024-04-08T07:11:08.860843Z",
     "iopub.status.busy": "2024-04-08T07:11:08.859860Z",
     "iopub.status.idle": "2024-04-08T07:11:08.869599Z",
     "shell.execute_reply": "2024-04-08T07:11:08.868690Z",
     "shell.execute_reply.started": "2024-04-08T07:11:08.860800Z"
    }
   },
   "outputs": [
    {
     "data": {
      "text/plain": [
       "(9112, 3)"
      ]
     },
     "execution_count": 17,
     "metadata": {},
     "output_type": "execute_result"
    }
   ],
   "source": [
    "links_small.shape"
   ]
  },
  {
   "cell_type": "code",
   "execution_count": 18,
   "metadata": {
    "execution": {
     "iopub.execute_input": "2024-04-08T07:11:08.871584Z",
     "iopub.status.busy": "2024-04-08T07:11:08.870822Z",
     "iopub.status.idle": "2024-04-08T07:11:08.884532Z",
     "shell.execute_reply": "2024-04-08T07:11:08.883606Z",
     "shell.execute_reply.started": "2024-04-08T07:11:08.871553Z"
    }
   },
   "outputs": [
    {
     "name": "stdout",
     "output_type": "stream",
     "text": [
      "<class 'pandas.core.frame.DataFrame'>\n",
      "Int64Index: 9112 entries, 0 to 9124\n",
      "Data columns (total 3 columns):\n",
      " #   Column   Non-Null Count  Dtype  \n",
      "---  ------   --------------  -----  \n",
      " 0   movieId  9112 non-null   int64  \n",
      " 1   imdbId   9112 non-null   int64  \n",
      " 2   tmdbId   9112 non-null   float64\n",
      "dtypes: float64(1), int64(2)\n",
      "memory usage: 284.8 KB\n"
     ]
    }
   ],
   "source": [
    "links_small.info()"
   ]
  },
  {
   "cell_type": "markdown",
   "metadata": {},
   "source": [
    "#### Metadata dataframe"
   ]
  },
  {
   "cell_type": "code",
   "execution_count": 19,
   "metadata": {
    "execution": {
     "iopub.execute_input": "2024-04-08T07:11:08.886671Z",
     "iopub.status.busy": "2024-04-08T07:11:08.885849Z",
     "iopub.status.idle": "2024-04-08T07:11:08.900251Z",
     "shell.execute_reply": "2024-04-08T07:11:08.899050Z",
     "shell.execute_reply.started": "2024-04-08T07:11:08.886640Z"
    }
   },
   "outputs": [
    {
     "data": {
      "text/html": [
       "<div>\n",
       "<style scoped>\n",
       "    .dataframe tbody tr th:only-of-type {\n",
       "        vertical-align: middle;\n",
       "    }\n",
       "\n",
       "    .dataframe tbody tr th {\n",
       "        vertical-align: top;\n",
       "    }\n",
       "\n",
       "    .dataframe thead th {\n",
       "        text-align: right;\n",
       "    }\n",
       "</style>\n",
       "<table border=\"1\" class=\"dataframe\">\n",
       "  <thead>\n",
       "    <tr style=\"text-align: right;\">\n",
       "      <th></th>\n",
       "      <th>0</th>\n",
       "      <th>1</th>\n",
       "      <th>2</th>\n",
       "    </tr>\n",
       "  </thead>\n",
       "  <tbody>\n",
       "    <tr>\n",
       "      <th>adult</th>\n",
       "      <td>False</td>\n",
       "      <td>False</td>\n",
       "      <td>False</td>\n",
       "    </tr>\n",
       "    <tr>\n",
       "      <th>belongs_to_collection</th>\n",
       "      <td>{'id': 10194, 'name': 'Toy Story Collection', ...</td>\n",
       "      <td>NaN</td>\n",
       "      <td>{'id': 119050, 'name': 'Grumpy Old Men Collect...</td>\n",
       "    </tr>\n",
       "    <tr>\n",
       "      <th>budget</th>\n",
       "      <td>30000000</td>\n",
       "      <td>65000000</td>\n",
       "      <td>0</td>\n",
       "    </tr>\n",
       "    <tr>\n",
       "      <th>genres</th>\n",
       "      <td>[{'id': 16, 'name': 'Animation'}, {'id': 35, '...</td>\n",
       "      <td>[{'id': 12, 'name': 'Adventure'}, {'id': 14, '...</td>\n",
       "      <td>[{'id': 10749, 'name': 'Romance'}, {'id': 35, ...</td>\n",
       "    </tr>\n",
       "    <tr>\n",
       "      <th>homepage</th>\n",
       "      <td>http://toystory.disney.com/toy-story</td>\n",
       "      <td>NaN</td>\n",
       "      <td>NaN</td>\n",
       "    </tr>\n",
       "    <tr>\n",
       "      <th>id</th>\n",
       "      <td>862</td>\n",
       "      <td>8844</td>\n",
       "      <td>15602</td>\n",
       "    </tr>\n",
       "    <tr>\n",
       "      <th>imdb_id</th>\n",
       "      <td>tt0114709</td>\n",
       "      <td>tt0113497</td>\n",
       "      <td>tt0113228</td>\n",
       "    </tr>\n",
       "    <tr>\n",
       "      <th>original_language</th>\n",
       "      <td>en</td>\n",
       "      <td>en</td>\n",
       "      <td>en</td>\n",
       "    </tr>\n",
       "    <tr>\n",
       "      <th>original_title</th>\n",
       "      <td>Toy Story</td>\n",
       "      <td>Jumanji</td>\n",
       "      <td>Grumpier Old Men</td>\n",
       "    </tr>\n",
       "    <tr>\n",
       "      <th>overview</th>\n",
       "      <td>Led by Woody, Andy's toys live happily in his ...</td>\n",
       "      <td>When siblings Judy and Peter discover an encha...</td>\n",
       "      <td>A family wedding reignites the ancient feud be...</td>\n",
       "    </tr>\n",
       "    <tr>\n",
       "      <th>popularity</th>\n",
       "      <td>21.946943</td>\n",
       "      <td>17.015539</td>\n",
       "      <td>11.7129</td>\n",
       "    </tr>\n",
       "    <tr>\n",
       "      <th>poster_path</th>\n",
       "      <td>/rhIRbceoE9lR4veEXuwCC2wARtG.jpg</td>\n",
       "      <td>/vzmL6fP7aPKNKPRTFnZmiUfciyV.jpg</td>\n",
       "      <td>/6ksm1sjKMFLbO7UY2i6G1ju9SML.jpg</td>\n",
       "    </tr>\n",
       "    <tr>\n",
       "      <th>production_companies</th>\n",
       "      <td>[{'name': 'Pixar Animation Studios', 'id': 3}]</td>\n",
       "      <td>[{'name': 'TriStar Pictures', 'id': 559}, {'na...</td>\n",
       "      <td>[{'name': 'Warner Bros.', 'id': 6194}, {'name'...</td>\n",
       "    </tr>\n",
       "    <tr>\n",
       "      <th>production_countries</th>\n",
       "      <td>[{'iso_3166_1': 'US', 'name': 'United States o...</td>\n",
       "      <td>[{'iso_3166_1': 'US', 'name': 'United States o...</td>\n",
       "      <td>[{'iso_3166_1': 'US', 'name': 'United States o...</td>\n",
       "    </tr>\n",
       "    <tr>\n",
       "      <th>release_date</th>\n",
       "      <td>1995-10-30</td>\n",
       "      <td>1995-12-15</td>\n",
       "      <td>1995-12-22</td>\n",
       "    </tr>\n",
       "    <tr>\n",
       "      <th>revenue</th>\n",
       "      <td>373554033.0</td>\n",
       "      <td>262797249.0</td>\n",
       "      <td>0.0</td>\n",
       "    </tr>\n",
       "    <tr>\n",
       "      <th>runtime</th>\n",
       "      <td>81.0</td>\n",
       "      <td>104.0</td>\n",
       "      <td>101.0</td>\n",
       "    </tr>\n",
       "    <tr>\n",
       "      <th>spoken_languages</th>\n",
       "      <td>[{'iso_639_1': 'en', 'name': 'English'}]</td>\n",
       "      <td>[{'iso_639_1': 'en', 'name': 'English'}, {'iso...</td>\n",
       "      <td>[{'iso_639_1': 'en', 'name': 'English'}]</td>\n",
       "    </tr>\n",
       "    <tr>\n",
       "      <th>status</th>\n",
       "      <td>Released</td>\n",
       "      <td>Released</td>\n",
       "      <td>Released</td>\n",
       "    </tr>\n",
       "    <tr>\n",
       "      <th>tagline</th>\n",
       "      <td>NaN</td>\n",
       "      <td>Roll the dice and unleash the excitement!</td>\n",
       "      <td>Still Yelling. Still Fighting. Still Ready for...</td>\n",
       "    </tr>\n",
       "    <tr>\n",
       "      <th>title</th>\n",
       "      <td>Toy Story</td>\n",
       "      <td>Jumanji</td>\n",
       "      <td>Grumpier Old Men</td>\n",
       "    </tr>\n",
       "    <tr>\n",
       "      <th>video</th>\n",
       "      <td>False</td>\n",
       "      <td>False</td>\n",
       "      <td>False</td>\n",
       "    </tr>\n",
       "    <tr>\n",
       "      <th>vote_average</th>\n",
       "      <td>7.7</td>\n",
       "      <td>6.9</td>\n",
       "      <td>6.5</td>\n",
       "    </tr>\n",
       "    <tr>\n",
       "      <th>vote_count</th>\n",
       "      <td>5415.0</td>\n",
       "      <td>2413.0</td>\n",
       "      <td>92.0</td>\n",
       "    </tr>\n",
       "  </tbody>\n",
       "</table>\n",
       "</div>"
      ],
      "text/plain": [
       "                                                                       0  \\\n",
       "adult                                                              False   \n",
       "belongs_to_collection  {'id': 10194, 'name': 'Toy Story Collection', ...   \n",
       "budget                                                          30000000   \n",
       "genres                 [{'id': 16, 'name': 'Animation'}, {'id': 35, '...   \n",
       "homepage                            http://toystory.disney.com/toy-story   \n",
       "id                                                                   862   \n",
       "imdb_id                                                        tt0114709   \n",
       "original_language                                                     en   \n",
       "original_title                                                 Toy Story   \n",
       "overview               Led by Woody, Andy's toys live happily in his ...   \n",
       "popularity                                                     21.946943   \n",
       "poster_path                             /rhIRbceoE9lR4veEXuwCC2wARtG.jpg   \n",
       "production_companies      [{'name': 'Pixar Animation Studios', 'id': 3}]   \n",
       "production_countries   [{'iso_3166_1': 'US', 'name': 'United States o...   \n",
       "release_date                                                  1995-10-30   \n",
       "revenue                                                      373554033.0   \n",
       "runtime                                                             81.0   \n",
       "spoken_languages                [{'iso_639_1': 'en', 'name': 'English'}]   \n",
       "status                                                          Released   \n",
       "tagline                                                              NaN   \n",
       "title                                                          Toy Story   \n",
       "video                                                              False   \n",
       "vote_average                                                         7.7   \n",
       "vote_count                                                        5415.0   \n",
       "\n",
       "                                                                       1  \\\n",
       "adult                                                              False   \n",
       "belongs_to_collection                                                NaN   \n",
       "budget                                                          65000000   \n",
       "genres                 [{'id': 12, 'name': 'Adventure'}, {'id': 14, '...   \n",
       "homepage                                                             NaN   \n",
       "id                                                                  8844   \n",
       "imdb_id                                                        tt0113497   \n",
       "original_language                                                     en   \n",
       "original_title                                                   Jumanji   \n",
       "overview               When siblings Judy and Peter discover an encha...   \n",
       "popularity                                                     17.015539   \n",
       "poster_path                             /vzmL6fP7aPKNKPRTFnZmiUfciyV.jpg   \n",
       "production_companies   [{'name': 'TriStar Pictures', 'id': 559}, {'na...   \n",
       "production_countries   [{'iso_3166_1': 'US', 'name': 'United States o...   \n",
       "release_date                                                  1995-12-15   \n",
       "revenue                                                      262797249.0   \n",
       "runtime                                                            104.0   \n",
       "spoken_languages       [{'iso_639_1': 'en', 'name': 'English'}, {'iso...   \n",
       "status                                                          Released   \n",
       "tagline                        Roll the dice and unleash the excitement!   \n",
       "title                                                            Jumanji   \n",
       "video                                                              False   \n",
       "vote_average                                                         6.9   \n",
       "vote_count                                                        2413.0   \n",
       "\n",
       "                                                                       2  \n",
       "adult                                                              False  \n",
       "belongs_to_collection  {'id': 119050, 'name': 'Grumpy Old Men Collect...  \n",
       "budget                                                                 0  \n",
       "genres                 [{'id': 10749, 'name': 'Romance'}, {'id': 35, ...  \n",
       "homepage                                                             NaN  \n",
       "id                                                                 15602  \n",
       "imdb_id                                                        tt0113228  \n",
       "original_language                                                     en  \n",
       "original_title                                          Grumpier Old Men  \n",
       "overview               A family wedding reignites the ancient feud be...  \n",
       "popularity                                                       11.7129  \n",
       "poster_path                             /6ksm1sjKMFLbO7UY2i6G1ju9SML.jpg  \n",
       "production_companies   [{'name': 'Warner Bros.', 'id': 6194}, {'name'...  \n",
       "production_countries   [{'iso_3166_1': 'US', 'name': 'United States o...  \n",
       "release_date                                                  1995-12-22  \n",
       "revenue                                                              0.0  \n",
       "runtime                                                            101.0  \n",
       "spoken_languages                [{'iso_639_1': 'en', 'name': 'English'}]  \n",
       "status                                                          Released  \n",
       "tagline                Still Yelling. Still Fighting. Still Ready for...  \n",
       "title                                                   Grumpier Old Men  \n",
       "video                                                              False  \n",
       "vote_average                                                         6.5  \n",
       "vote_count                                                          92.0  "
      ]
     },
     "execution_count": 19,
     "metadata": {},
     "output_type": "execute_result"
    }
   ],
   "source": [
    "movies.iloc[0:3].transpose()"
   ]
  },
  {
   "cell_type": "code",
   "execution_count": 20,
   "metadata": {
    "execution": {
     "iopub.execute_input": "2024-04-08T07:11:08.902915Z",
     "iopub.status.busy": "2024-04-08T07:11:08.902112Z",
     "iopub.status.idle": "2024-04-08T07:11:08.911460Z",
     "shell.execute_reply": "2024-04-08T07:11:08.910513Z",
     "shell.execute_reply.started": "2024-04-08T07:11:08.902871Z"
    }
   },
   "outputs": [
    {
     "data": {
      "text/plain": [
       "Index(['adult', 'belongs_to_collection', 'budget', 'genres', 'homepage', 'id',\n",
       "       'imdb_id', 'original_language', 'original_title', 'overview',\n",
       "       'popularity', 'poster_path', 'production_companies',\n",
       "       'production_countries', 'release_date', 'revenue', 'runtime',\n",
       "       'spoken_languages', 'status', 'tagline', 'title', 'video',\n",
       "       'vote_average', 'vote_count'],\n",
       "      dtype='object')"
      ]
     },
     "execution_count": 20,
     "metadata": {},
     "output_type": "execute_result"
    }
   ],
   "source": [
    "movies.columns"
   ]
  },
  {
   "cell_type": "markdown",
   "metadata": {},
   "source": [
    "**Features**\n",
    "\n",
    "* **adult:** Indicates if the movie is X-Rated or Adult.\n",
    "* **belongs_to_collection:** A stringified dictionary that gives information on the movie series the particular film belongs to.\n",
    "* **budget:** The budget of the movie in dollars.\n",
    "* **genres:** A stringified list of dictionaries that list out all the genres associated with the movie.\n",
    "* **homepage:** The Official Homepage of the move.\n",
    "* **id:** The ID of the movie.\n",
    "* **imdb_id:** The IMDB ID of the movie.\n",
    "* **original_language:** The language in which the movie was originally shot in.\n",
    "* **original_title:** The original title of the movie.\n",
    "* **overview:** A brief blurb of the movie.\n",
    "* **popularity:** The Popularity Score assigned by TMDB.\n",
    "* **poster_path:** The URL of the poster image.\n",
    "* **production_companies:** A stringified list of production companies involved with the making of the movie.\n",
    "* **production_countries:** A stringified list of countries where the movie was shot/produced in.\n",
    "* **release_date:** Theatrical Release Date of the movie.\n",
    "* **revenue:** The total revenue of the movie in dollars.\n",
    "* **runtime:** The runtime of the movie in minutes.\n",
    "* **spoken_languages:** A stringified list of spoken languages in the film.\n",
    "* **status:** The status of the movie (Released, To Be Released, Announced, etc.)\n",
    "* **tagline:** The tagline of the movie.\n",
    "* **title:** The Official Title of the movie.\n",
    "* **video:** Indicates if there is a video present of the movie with TMDB.\n",
    "* **vote_average:** The average rating of the movie.\n",
    "* **vote_count:** The number of votes by users, as counted by TMDB."
   ]
  },
  {
   "cell_type": "code",
   "execution_count": 21,
   "metadata": {},
   "outputs": [
    {
     "data": {
      "text/plain": [
       "Index(['adult', 'belongs_to_collection', 'budget', 'genres', 'homepage', 'id',\n",
       "       'imdb_id', 'original_language', 'original_title', 'overview',\n",
       "       'popularity', 'poster_path', 'production_companies',\n",
       "       'production_countries', 'release_date', 'revenue', 'runtime',\n",
       "       'spoken_languages', 'status', 'tagline', 'title', 'video',\n",
       "       'vote_average', 'vote_count'],\n",
       "      dtype='object')"
      ]
     },
     "execution_count": 21,
     "metadata": {},
     "output_type": "execute_result"
    }
   ],
   "source": [
    "\n",
    "movies.columns"
   ]
  },
  {
   "cell_type": "code",
   "execution_count": 22,
   "metadata": {
    "execution": {
     "iopub.execute_input": "2024-04-08T07:11:08.913520Z",
     "iopub.status.busy": "2024-04-08T07:11:08.912718Z",
     "iopub.status.idle": "2024-04-08T07:11:08.923435Z",
     "shell.execute_reply": "2024-04-08T07:11:08.922123Z",
     "shell.execute_reply.started": "2024-04-08T07:11:08.913457Z"
    }
   },
   "outputs": [
    {
     "data": {
      "text/plain": [
       "(45466, 24)"
      ]
     },
     "execution_count": 22,
     "metadata": {},
     "output_type": "execute_result"
    }
   ],
   "source": [
    "movies.shape"
   ]
  },
  {
   "cell_type": "code",
   "execution_count": 23,
   "metadata": {
    "execution": {
     "iopub.execute_input": "2024-04-08T07:11:08.925319Z",
     "iopub.status.busy": "2024-04-08T07:11:08.924986Z",
     "iopub.status.idle": "2024-04-08T07:11:08.992664Z",
     "shell.execute_reply": "2024-04-08T07:11:08.991554Z",
     "shell.execute_reply.started": "2024-04-08T07:11:08.925288Z"
    },
    "scrolled": false
   },
   "outputs": [
    {
     "name": "stdout",
     "output_type": "stream",
     "text": [
      "<class 'pandas.core.frame.DataFrame'>\n",
      "RangeIndex: 45466 entries, 0 to 45465\n",
      "Data columns (total 24 columns):\n",
      " #   Column                 Non-Null Count  Dtype  \n",
      "---  ------                 --------------  -----  \n",
      " 0   adult                  45466 non-null  object \n",
      " 1   belongs_to_collection  4494 non-null   object \n",
      " 2   budget                 45466 non-null  object \n",
      " 3   genres                 45466 non-null  object \n",
      " 4   homepage               7782 non-null   object \n",
      " 5   id                     45466 non-null  object \n",
      " 6   imdb_id                45449 non-null  object \n",
      " 7   original_language      45455 non-null  object \n",
      " 8   original_title         45466 non-null  object \n",
      " 9   overview               44512 non-null  object \n",
      " 10  popularity             45461 non-null  object \n",
      " 11  poster_path            45080 non-null  object \n",
      " 12  production_companies   45463 non-null  object \n",
      " 13  production_countries   45463 non-null  object \n",
      " 14  release_date           45379 non-null  object \n",
      " 15  revenue                45460 non-null  float64\n",
      " 16  runtime                45203 non-null  float64\n",
      " 17  spoken_languages       45460 non-null  object \n",
      " 18  status                 45379 non-null  object \n",
      " 19  tagline                20412 non-null  object \n",
      " 20  title                  45460 non-null  object \n",
      " 21  video                  45460 non-null  object \n",
      " 22  vote_average           45460 non-null  float64\n",
      " 23  vote_count             45460 non-null  float64\n",
      "dtypes: float64(4), object(20)\n",
      "memory usage: 8.3+ MB\n"
     ]
    }
   ],
   "source": [
    "movies.info()"
   ]
  },
  {
   "cell_type": "code",
   "execution_count": 24,
   "metadata": {},
   "outputs": [
    {
     "data": {
      "text/plain": [
       "adult                        0\n",
       "belongs_to_collection    40972\n",
       "budget                       0\n",
       "genres                       0\n",
       "homepage                 37684\n",
       "id                           0\n",
       "imdb_id                     17\n",
       "original_language           11\n",
       "original_title               0\n",
       "overview                   954\n",
       "popularity                   5\n",
       "poster_path                386\n",
       "production_companies         3\n",
       "production_countries         3\n",
       "release_date                87\n",
       "revenue                      6\n",
       "runtime                    263\n",
       "spoken_languages             6\n",
       "status                      87\n",
       "tagline                  25054\n",
       "title                        6\n",
       "video                        6\n",
       "vote_average                 6\n",
       "vote_count                   6\n",
       "dtype: int64"
      ]
     },
     "execution_count": 24,
     "metadata": {},
     "output_type": "execute_result"
    }
   ],
   "source": [
    "movies.isnull().sum()"
   ]
  },
  {
   "cell_type": "code",
   "execution_count": 25,
   "metadata": {},
   "outputs": [],
   "source": [
    "## Pre-processing step\n",
    "\n",
    "def convert_int(x):\n",
    "    try:\n",
    "        return int(x)\n",
    "    except:\n",
    "        return np.nan\n"
   ]
  },
  {
   "cell_type": "code",
   "execution_count": 26,
   "metadata": {},
   "outputs": [
    {
     "data": {
      "text/html": [
       "<div>\n",
       "<style scoped>\n",
       "    .dataframe tbody tr th:only-of-type {\n",
       "        vertical-align: middle;\n",
       "    }\n",
       "\n",
       "    .dataframe tbody tr th {\n",
       "        vertical-align: top;\n",
       "    }\n",
       "\n",
       "    .dataframe thead th {\n",
       "        text-align: right;\n",
       "    }\n",
       "</style>\n",
       "<table border=\"1\" class=\"dataframe\">\n",
       "  <thead>\n",
       "    <tr style=\"text-align: right;\">\n",
       "      <th></th>\n",
       "      <th>adult</th>\n",
       "      <th>belongs_to_collection</th>\n",
       "      <th>budget</th>\n",
       "      <th>genres</th>\n",
       "      <th>homepage</th>\n",
       "      <th>id</th>\n",
       "      <th>imdb_id</th>\n",
       "      <th>original_language</th>\n",
       "      <th>original_title</th>\n",
       "      <th>overview</th>\n",
       "      <th>...</th>\n",
       "      <th>release_date</th>\n",
       "      <th>revenue</th>\n",
       "      <th>runtime</th>\n",
       "      <th>spoken_languages</th>\n",
       "      <th>status</th>\n",
       "      <th>tagline</th>\n",
       "      <th>title</th>\n",
       "      <th>video</th>\n",
       "      <th>vote_average</th>\n",
       "      <th>vote_count</th>\n",
       "    </tr>\n",
       "  </thead>\n",
       "  <tbody>\n",
       "    <tr>\n",
       "      <th>19730</th>\n",
       "      <td>- Written by Ørnås</td>\n",
       "      <td>0.065736</td>\n",
       "      <td>/ff9qCepilowshEtG2GYWwzt2bs4.jpg</td>\n",
       "      <td>[{'name': 'Carousel Productions', 'id': 11176}...</td>\n",
       "      <td>[{'iso_3166_1': 'CA', 'name': 'Canada'}, {'iso...</td>\n",
       "      <td>NaN</td>\n",
       "      <td>0</td>\n",
       "      <td>104.0</td>\n",
       "      <td>[{'iso_639_1': 'en', 'name': 'English'}]</td>\n",
       "      <td>Released</td>\n",
       "      <td>...</td>\n",
       "      <td>1</td>\n",
       "      <td>NaN</td>\n",
       "      <td>NaN</td>\n",
       "      <td>NaN</td>\n",
       "      <td>NaN</td>\n",
       "      <td>NaN</td>\n",
       "      <td>NaN</td>\n",
       "      <td>NaN</td>\n",
       "      <td>NaN</td>\n",
       "      <td>NaN</td>\n",
       "    </tr>\n",
       "    <tr>\n",
       "      <th>29503</th>\n",
       "      <td>Rune Balot goes to a casino connected to the ...</td>\n",
       "      <td>1.931659</td>\n",
       "      <td>/zV8bHuSL6WXoD6FWogP9j4x80bL.jpg</td>\n",
       "      <td>[{'name': 'Aniplex', 'id': 2883}, {'name': 'Go...</td>\n",
       "      <td>[{'iso_3166_1': 'US', 'name': 'United States o...</td>\n",
       "      <td>NaN</td>\n",
       "      <td>0</td>\n",
       "      <td>68.0</td>\n",
       "      <td>[{'iso_639_1': 'ja', 'name': '日本語'}]</td>\n",
       "      <td>Released</td>\n",
       "      <td>...</td>\n",
       "      <td>12</td>\n",
       "      <td>NaN</td>\n",
       "      <td>NaN</td>\n",
       "      <td>NaN</td>\n",
       "      <td>NaN</td>\n",
       "      <td>NaN</td>\n",
       "      <td>NaN</td>\n",
       "      <td>NaN</td>\n",
       "      <td>NaN</td>\n",
       "      <td>NaN</td>\n",
       "    </tr>\n",
       "    <tr>\n",
       "      <th>35587</th>\n",
       "      <td>Avalanche Sharks tells the story of a bikini ...</td>\n",
       "      <td>2.185485</td>\n",
       "      <td>/zaSf5OG7V8X8gqFvly88zDdRm46.jpg</td>\n",
       "      <td>[{'name': 'Odyssey Media', 'id': 17161}, {'nam...</td>\n",
       "      <td>[{'iso_3166_1': 'CA', 'name': 'Canada'}]</td>\n",
       "      <td>NaN</td>\n",
       "      <td>0</td>\n",
       "      <td>82.0</td>\n",
       "      <td>[{'iso_639_1': 'en', 'name': 'English'}]</td>\n",
       "      <td>Released</td>\n",
       "      <td>...</td>\n",
       "      <td>22</td>\n",
       "      <td>NaN</td>\n",
       "      <td>NaN</td>\n",
       "      <td>NaN</td>\n",
       "      <td>NaN</td>\n",
       "      <td>NaN</td>\n",
       "      <td>NaN</td>\n",
       "      <td>NaN</td>\n",
       "      <td>NaN</td>\n",
       "      <td>NaN</td>\n",
       "    </tr>\n",
       "  </tbody>\n",
       "</table>\n",
       "<p>3 rows × 24 columns</p>\n",
       "</div>"
      ],
      "text/plain": [
       "                                                   adult  \\\n",
       "19730                                 - Written by Ørnås   \n",
       "29503   Rune Balot goes to a casino connected to the ...   \n",
       "35587   Avalanche Sharks tells the story of a bikini ...   \n",
       "\n",
       "      belongs_to_collection                            budget  \\\n",
       "19730              0.065736  /ff9qCepilowshEtG2GYWwzt2bs4.jpg   \n",
       "29503              1.931659  /zV8bHuSL6WXoD6FWogP9j4x80bL.jpg   \n",
       "35587              2.185485  /zaSf5OG7V8X8gqFvly88zDdRm46.jpg   \n",
       "\n",
       "                                                  genres  \\\n",
       "19730  [{'name': 'Carousel Productions', 'id': 11176}...   \n",
       "29503  [{'name': 'Aniplex', 'id': 2883}, {'name': 'Go...   \n",
       "35587  [{'name': 'Odyssey Media', 'id': 17161}, {'nam...   \n",
       "\n",
       "                                                homepage  id imdb_id  \\\n",
       "19730  [{'iso_3166_1': 'CA', 'name': 'Canada'}, {'iso... NaN       0   \n",
       "29503  [{'iso_3166_1': 'US', 'name': 'United States o... NaN       0   \n",
       "35587           [{'iso_3166_1': 'CA', 'name': 'Canada'}] NaN       0   \n",
       "\n",
       "      original_language                            original_title  overview  \\\n",
       "19730             104.0  [{'iso_639_1': 'en', 'name': 'English'}]  Released   \n",
       "29503              68.0      [{'iso_639_1': 'ja', 'name': '日本語'}]  Released   \n",
       "35587              82.0  [{'iso_639_1': 'en', 'name': 'English'}]  Released   \n",
       "\n",
       "       ... release_date revenue runtime spoken_languages status  tagline  \\\n",
       "19730  ...            1     NaN     NaN              NaN    NaN      NaN   \n",
       "29503  ...           12     NaN     NaN              NaN    NaN      NaN   \n",
       "35587  ...           22     NaN     NaN              NaN    NaN      NaN   \n",
       "\n",
       "       title video vote_average vote_count  \n",
       "19730    NaN   NaN          NaN        NaN  \n",
       "29503    NaN   NaN          NaN        NaN  \n",
       "35587    NaN   NaN          NaN        NaN  \n",
       "\n",
       "[3 rows x 24 columns]"
      ]
     },
     "execution_count": 26,
     "metadata": {},
     "output_type": "execute_result"
    }
   ],
   "source": [
    "movies['id'] = movies['id'].apply(convert_int)\n",
    "movies[movies['id'].isnull()]"
   ]
  },
  {
   "cell_type": "code",
   "execution_count": 27,
   "metadata": {},
   "outputs": [],
   "source": [
    "movies = movies.drop([19730, 29503, 35587])"
   ]
  },
  {
   "cell_type": "code",
   "execution_count": 28,
   "metadata": {},
   "outputs": [],
   "source": [
    "movies['id'] = movies['id'].astype('int')"
   ]
  },
  {
   "cell_type": "code",
   "execution_count": 29,
   "metadata": {},
   "outputs": [],
   "source": [
    "movies.fillna({'revenue': 0, 'runtime': 0, 'vote_average': 0, 'vote_count': 0}, inplace=True)\n"
   ]
  },
  {
   "cell_type": "code",
   "execution_count": 30,
   "metadata": {},
   "outputs": [],
   "source": [
    "keywords['id'] = keywords['id'].astype('int')\n",
    "credits['id'] = credits['id'].astype('int')\n",
    "movies['id'] = movies['id'].astype('int')"
   ]
  },
  {
   "cell_type": "code",
   "execution_count": 31,
   "metadata": {},
   "outputs": [
    {
     "data": {
      "text/html": [
       "<div>\n",
       "<style scoped>\n",
       "    .dataframe tbody tr th:only-of-type {\n",
       "        vertical-align: middle;\n",
       "    }\n",
       "\n",
       "    .dataframe tbody tr th {\n",
       "        vertical-align: top;\n",
       "    }\n",
       "\n",
       "    .dataframe thead th {\n",
       "        text-align: right;\n",
       "    }\n",
       "</style>\n",
       "<table border=\"1\" class=\"dataframe\">\n",
       "  <thead>\n",
       "    <tr style=\"text-align: right;\">\n",
       "      <th></th>\n",
       "      <th>0</th>\n",
       "      <th>1</th>\n",
       "      <th>2</th>\n",
       "    </tr>\n",
       "  </thead>\n",
       "  <tbody>\n",
       "    <tr>\n",
       "      <th>adult</th>\n",
       "      <td>False</td>\n",
       "      <td>False</td>\n",
       "      <td>False</td>\n",
       "    </tr>\n",
       "    <tr>\n",
       "      <th>belongs_to_collection</th>\n",
       "      <td>{'id': 10194, 'name': 'Toy Story Collection', ...</td>\n",
       "      <td>NaN</td>\n",
       "      <td>{'id': 119050, 'name': 'Grumpy Old Men Collect...</td>\n",
       "    </tr>\n",
       "    <tr>\n",
       "      <th>budget</th>\n",
       "      <td>30000000</td>\n",
       "      <td>65000000</td>\n",
       "      <td>0</td>\n",
       "    </tr>\n",
       "    <tr>\n",
       "      <th>genres</th>\n",
       "      <td>[{'id': 16, 'name': 'Animation'}, {'id': 35, '...</td>\n",
       "      <td>[{'id': 12, 'name': 'Adventure'}, {'id': 14, '...</td>\n",
       "      <td>[{'id': 10749, 'name': 'Romance'}, {'id': 35, ...</td>\n",
       "    </tr>\n",
       "    <tr>\n",
       "      <th>homepage</th>\n",
       "      <td>http://toystory.disney.com/toy-story</td>\n",
       "      <td>NaN</td>\n",
       "      <td>NaN</td>\n",
       "    </tr>\n",
       "    <tr>\n",
       "      <th>id</th>\n",
       "      <td>862</td>\n",
       "      <td>8844</td>\n",
       "      <td>15602</td>\n",
       "    </tr>\n",
       "    <tr>\n",
       "      <th>imdb_id</th>\n",
       "      <td>tt0114709</td>\n",
       "      <td>tt0113497</td>\n",
       "      <td>tt0113228</td>\n",
       "    </tr>\n",
       "    <tr>\n",
       "      <th>original_language</th>\n",
       "      <td>en</td>\n",
       "      <td>en</td>\n",
       "      <td>en</td>\n",
       "    </tr>\n",
       "    <tr>\n",
       "      <th>original_title</th>\n",
       "      <td>Toy Story</td>\n",
       "      <td>Jumanji</td>\n",
       "      <td>Grumpier Old Men</td>\n",
       "    </tr>\n",
       "    <tr>\n",
       "      <th>overview</th>\n",
       "      <td>Led by Woody, Andy's toys live happily in his ...</td>\n",
       "      <td>When siblings Judy and Peter discover an encha...</td>\n",
       "      <td>A family wedding reignites the ancient feud be...</td>\n",
       "    </tr>\n",
       "    <tr>\n",
       "      <th>popularity</th>\n",
       "      <td>21.946943</td>\n",
       "      <td>17.015539</td>\n",
       "      <td>11.7129</td>\n",
       "    </tr>\n",
       "    <tr>\n",
       "      <th>poster_path</th>\n",
       "      <td>/rhIRbceoE9lR4veEXuwCC2wARtG.jpg</td>\n",
       "      <td>/vzmL6fP7aPKNKPRTFnZmiUfciyV.jpg</td>\n",
       "      <td>/6ksm1sjKMFLbO7UY2i6G1ju9SML.jpg</td>\n",
       "    </tr>\n",
       "    <tr>\n",
       "      <th>production_companies</th>\n",
       "      <td>[{'name': 'Pixar Animation Studios', 'id': 3}]</td>\n",
       "      <td>[{'name': 'TriStar Pictures', 'id': 559}, {'na...</td>\n",
       "      <td>[{'name': 'Warner Bros.', 'id': 6194}, {'name'...</td>\n",
       "    </tr>\n",
       "    <tr>\n",
       "      <th>production_countries</th>\n",
       "      <td>[{'iso_3166_1': 'US', 'name': 'United States o...</td>\n",
       "      <td>[{'iso_3166_1': 'US', 'name': 'United States o...</td>\n",
       "      <td>[{'iso_3166_1': 'US', 'name': 'United States o...</td>\n",
       "    </tr>\n",
       "    <tr>\n",
       "      <th>release_date</th>\n",
       "      <td>1995-10-30</td>\n",
       "      <td>1995-12-15</td>\n",
       "      <td>1995-12-22</td>\n",
       "    </tr>\n",
       "    <tr>\n",
       "      <th>revenue</th>\n",
       "      <td>373554033.0</td>\n",
       "      <td>262797249.0</td>\n",
       "      <td>0.0</td>\n",
       "    </tr>\n",
       "    <tr>\n",
       "      <th>runtime</th>\n",
       "      <td>81.0</td>\n",
       "      <td>104.0</td>\n",
       "      <td>101.0</td>\n",
       "    </tr>\n",
       "    <tr>\n",
       "      <th>spoken_languages</th>\n",
       "      <td>[{'iso_639_1': 'en', 'name': 'English'}]</td>\n",
       "      <td>[{'iso_639_1': 'en', 'name': 'English'}, {'iso...</td>\n",
       "      <td>[{'iso_639_1': 'en', 'name': 'English'}]</td>\n",
       "    </tr>\n",
       "    <tr>\n",
       "      <th>status</th>\n",
       "      <td>Released</td>\n",
       "      <td>Released</td>\n",
       "      <td>Released</td>\n",
       "    </tr>\n",
       "    <tr>\n",
       "      <th>tagline</th>\n",
       "      <td>NaN</td>\n",
       "      <td>Roll the dice and unleash the excitement!</td>\n",
       "      <td>Still Yelling. Still Fighting. Still Ready for...</td>\n",
       "    </tr>\n",
       "    <tr>\n",
       "      <th>title</th>\n",
       "      <td>Toy Story</td>\n",
       "      <td>Jumanji</td>\n",
       "      <td>Grumpier Old Men</td>\n",
       "    </tr>\n",
       "    <tr>\n",
       "      <th>video</th>\n",
       "      <td>False</td>\n",
       "      <td>False</td>\n",
       "      <td>False</td>\n",
       "    </tr>\n",
       "    <tr>\n",
       "      <th>vote_average</th>\n",
       "      <td>7.7</td>\n",
       "      <td>6.9</td>\n",
       "      <td>6.5</td>\n",
       "    </tr>\n",
       "    <tr>\n",
       "      <th>vote_count</th>\n",
       "      <td>5415.0</td>\n",
       "      <td>2413.0</td>\n",
       "      <td>92.0</td>\n",
       "    </tr>\n",
       "  </tbody>\n",
       "</table>\n",
       "</div>"
      ],
      "text/plain": [
       "                                                                       0  \\\n",
       "adult                                                              False   \n",
       "belongs_to_collection  {'id': 10194, 'name': 'Toy Story Collection', ...   \n",
       "budget                                                          30000000   \n",
       "genres                 [{'id': 16, 'name': 'Animation'}, {'id': 35, '...   \n",
       "homepage                            http://toystory.disney.com/toy-story   \n",
       "id                                                                   862   \n",
       "imdb_id                                                        tt0114709   \n",
       "original_language                                                     en   \n",
       "original_title                                                 Toy Story   \n",
       "overview               Led by Woody, Andy's toys live happily in his ...   \n",
       "popularity                                                     21.946943   \n",
       "poster_path                             /rhIRbceoE9lR4veEXuwCC2wARtG.jpg   \n",
       "production_companies      [{'name': 'Pixar Animation Studios', 'id': 3}]   \n",
       "production_countries   [{'iso_3166_1': 'US', 'name': 'United States o...   \n",
       "release_date                                                  1995-10-30   \n",
       "revenue                                                      373554033.0   \n",
       "runtime                                                             81.0   \n",
       "spoken_languages                [{'iso_639_1': 'en', 'name': 'English'}]   \n",
       "status                                                          Released   \n",
       "tagline                                                              NaN   \n",
       "title                                                          Toy Story   \n",
       "video                                                              False   \n",
       "vote_average                                                         7.7   \n",
       "vote_count                                                        5415.0   \n",
       "\n",
       "                                                                       1  \\\n",
       "adult                                                              False   \n",
       "belongs_to_collection                                                NaN   \n",
       "budget                                                          65000000   \n",
       "genres                 [{'id': 12, 'name': 'Adventure'}, {'id': 14, '...   \n",
       "homepage                                                             NaN   \n",
       "id                                                                  8844   \n",
       "imdb_id                                                        tt0113497   \n",
       "original_language                                                     en   \n",
       "original_title                                                   Jumanji   \n",
       "overview               When siblings Judy and Peter discover an encha...   \n",
       "popularity                                                     17.015539   \n",
       "poster_path                             /vzmL6fP7aPKNKPRTFnZmiUfciyV.jpg   \n",
       "production_companies   [{'name': 'TriStar Pictures', 'id': 559}, {'na...   \n",
       "production_countries   [{'iso_3166_1': 'US', 'name': 'United States o...   \n",
       "release_date                                                  1995-12-15   \n",
       "revenue                                                      262797249.0   \n",
       "runtime                                                            104.0   \n",
       "spoken_languages       [{'iso_639_1': 'en', 'name': 'English'}, {'iso...   \n",
       "status                                                          Released   \n",
       "tagline                        Roll the dice and unleash the excitement!   \n",
       "title                                                            Jumanji   \n",
       "video                                                              False   \n",
       "vote_average                                                         6.9   \n",
       "vote_count                                                        2413.0   \n",
       "\n",
       "                                                                       2  \n",
       "adult                                                              False  \n",
       "belongs_to_collection  {'id': 119050, 'name': 'Grumpy Old Men Collect...  \n",
       "budget                                                                 0  \n",
       "genres                 [{'id': 10749, 'name': 'Romance'}, {'id': 35, ...  \n",
       "homepage                                                             NaN  \n",
       "id                                                                 15602  \n",
       "imdb_id                                                        tt0113228  \n",
       "original_language                                                     en  \n",
       "original_title                                          Grumpier Old Men  \n",
       "overview               A family wedding reignites the ancient feud be...  \n",
       "popularity                                                       11.7129  \n",
       "poster_path                             /6ksm1sjKMFLbO7UY2i6G1ju9SML.jpg  \n",
       "production_companies   [{'name': 'Warner Bros.', 'id': 6194}, {'name'...  \n",
       "production_countries   [{'iso_3166_1': 'US', 'name': 'United States o...  \n",
       "release_date                                                  1995-12-22  \n",
       "revenue                                                              0.0  \n",
       "runtime                                                            101.0  \n",
       "spoken_languages                [{'iso_639_1': 'en', 'name': 'English'}]  \n",
       "status                                                          Released  \n",
       "tagline                Still Yelling. Still Fighting. Still Ready for...  \n",
       "title                                                   Grumpier Old Men  \n",
       "video                                                              False  \n",
       "vote_average                                                         6.5  \n",
       "vote_count                                                          92.0  "
      ]
     },
     "execution_count": 31,
     "metadata": {},
     "output_type": "execute_result"
    }
   ],
   "source": [
    "movies.iloc[0:3].transpose()"
   ]
  },
  {
   "cell_type": "markdown",
   "metadata": {},
   "source": [
    "#### Ratings dataframe"
   ]
  },
  {
   "cell_type": "code",
   "execution_count": 32,
   "metadata": {
    "execution": {
     "iopub.execute_input": "2024-04-08T07:11:08.994875Z",
     "iopub.status.busy": "2024-04-08T07:11:08.994332Z",
     "iopub.status.idle": "2024-04-08T07:11:09.006392Z",
     "shell.execute_reply": "2024-04-08T07:11:09.005193Z",
     "shell.execute_reply.started": "2024-04-08T07:11:08.994841Z"
    }
   },
   "outputs": [
    {
     "data": {
      "text/html": [
       "<div>\n",
       "<style scoped>\n",
       "    .dataframe tbody tr th:only-of-type {\n",
       "        vertical-align: middle;\n",
       "    }\n",
       "\n",
       "    .dataframe tbody tr th {\n",
       "        vertical-align: top;\n",
       "    }\n",
       "\n",
       "    .dataframe thead th {\n",
       "        text-align: right;\n",
       "    }\n",
       "</style>\n",
       "<table border=\"1\" class=\"dataframe\">\n",
       "  <thead>\n",
       "    <tr style=\"text-align: right;\">\n",
       "      <th></th>\n",
       "      <th>userId</th>\n",
       "      <th>movieId</th>\n",
       "      <th>rating</th>\n",
       "      <th>timestamp</th>\n",
       "    </tr>\n",
       "  </thead>\n",
       "  <tbody>\n",
       "    <tr>\n",
       "      <th>0</th>\n",
       "      <td>1</td>\n",
       "      <td>31</td>\n",
       "      <td>2.5</td>\n",
       "      <td>1260759144</td>\n",
       "    </tr>\n",
       "    <tr>\n",
       "      <th>1</th>\n",
       "      <td>1</td>\n",
       "      <td>1029</td>\n",
       "      <td>3.0</td>\n",
       "      <td>1260759179</td>\n",
       "    </tr>\n",
       "    <tr>\n",
       "      <th>2</th>\n",
       "      <td>1</td>\n",
       "      <td>1061</td>\n",
       "      <td>3.0</td>\n",
       "      <td>1260759182</td>\n",
       "    </tr>\n",
       "    <tr>\n",
       "      <th>3</th>\n",
       "      <td>1</td>\n",
       "      <td>1129</td>\n",
       "      <td>2.0</td>\n",
       "      <td>1260759185</td>\n",
       "    </tr>\n",
       "    <tr>\n",
       "      <th>4</th>\n",
       "      <td>1</td>\n",
       "      <td>1172</td>\n",
       "      <td>4.0</td>\n",
       "      <td>1260759205</td>\n",
       "    </tr>\n",
       "  </tbody>\n",
       "</table>\n",
       "</div>"
      ],
      "text/plain": [
       "   userId  movieId  rating   timestamp\n",
       "0       1       31     2.5  1260759144\n",
       "1       1     1029     3.0  1260759179\n",
       "2       1     1061     3.0  1260759182\n",
       "3       1     1129     2.0  1260759185\n",
       "4       1     1172     4.0  1260759205"
      ]
     },
     "execution_count": 32,
     "metadata": {},
     "output_type": "execute_result"
    }
   ],
   "source": [
    "ratings.head()"
   ]
  },
  {
   "cell_type": "code",
   "execution_count": 33,
   "metadata": {
    "execution": {
     "iopub.execute_input": "2024-04-08T07:11:09.008673Z",
     "iopub.status.busy": "2024-04-08T07:11:09.008193Z",
     "iopub.status.idle": "2024-04-08T07:11:09.017131Z",
     "shell.execute_reply": "2024-04-08T07:11:09.016291Z",
     "shell.execute_reply.started": "2024-04-08T07:11:09.008607Z"
    }
   },
   "outputs": [
    {
     "data": {
      "text/plain": [
       "Index(['userId', 'movieId', 'rating', 'timestamp'], dtype='object')"
      ]
     },
     "execution_count": 33,
     "metadata": {},
     "output_type": "execute_result"
    }
   ],
   "source": [
    "ratings.columns"
   ]
  },
  {
   "cell_type": "markdown",
   "metadata": {},
   "source": [
    "* **userId:** It is id for User\n",
    "* **movieId:** It is TMDb movie id.\n",
    "* **rating:** Rating given for the particular movie by specific user\n",
    "* **timestamp:** Time stamp when rating has been given by user"
   ]
  },
  {
   "cell_type": "code",
   "execution_count": 34,
   "metadata": {
    "execution": {
     "iopub.execute_input": "2024-04-08T07:11:09.018840Z",
     "iopub.status.busy": "2024-04-08T07:11:09.018236Z",
     "iopub.status.idle": "2024-04-08T07:11:09.028610Z",
     "shell.execute_reply": "2024-04-08T07:11:09.027521Z",
     "shell.execute_reply.started": "2024-04-08T07:11:09.018800Z"
    }
   },
   "outputs": [
    {
     "data": {
      "text/plain": [
       "(100004, 4)"
      ]
     },
     "execution_count": 34,
     "metadata": {},
     "output_type": "execute_result"
    }
   ],
   "source": [
    "ratings.shape"
   ]
  },
  {
   "cell_type": "code",
   "execution_count": 35,
   "metadata": {
    "execution": {
     "iopub.execute_input": "2024-04-08T07:11:09.030596Z",
     "iopub.status.busy": "2024-04-08T07:11:09.030044Z",
     "iopub.status.idle": "2024-04-08T07:11:09.043861Z",
     "shell.execute_reply": "2024-04-08T07:11:09.042792Z",
     "shell.execute_reply.started": "2024-04-08T07:11:09.030564Z"
    },
    "scrolled": true
   },
   "outputs": [
    {
     "name": "stdout",
     "output_type": "stream",
     "text": [
      "<class 'pandas.core.frame.DataFrame'>\n",
      "RangeIndex: 100004 entries, 0 to 100003\n",
      "Data columns (total 4 columns):\n",
      " #   Column     Non-Null Count   Dtype  \n",
      "---  ------     --------------   -----  \n",
      " 0   userId     100004 non-null  int64  \n",
      " 1   movieId    100004 non-null  int64  \n",
      " 2   rating     100004 non-null  float64\n",
      " 3   timestamp  100004 non-null  int64  \n",
      "dtypes: float64(1), int64(3)\n",
      "memory usage: 3.1 MB\n"
     ]
    }
   ],
   "source": [
    "ratings.info()"
   ]
  },
  {
   "cell_type": "code",
   "execution_count": 36,
   "metadata": {},
   "outputs": [
    {
     "data": {
      "text/plain": [
       "userId       0\n",
       "movieId      0\n",
       "rating       0\n",
       "timestamp    0\n",
       "dtype: int64"
      ]
     },
     "execution_count": 36,
     "metadata": {},
     "output_type": "execute_result"
    }
   ],
   "source": [
    "ratings.isnull().sum()"
   ]
  },
  {
   "cell_type": "markdown",
   "metadata": {},
   "source": [
    "## Data Preprocessing"
   ]
  },
  {
   "cell_type": "code",
   "execution_count": 37,
   "metadata": {},
   "outputs": [
    {
     "data": {
      "text/plain": [
       "\"[{'id': 16, 'name': 'Animation'}, {'id': 35, 'name': 'Comedy'}, {'id': 10751, 'name': 'Family'}]\""
      ]
     },
     "execution_count": 37,
     "metadata": {},
     "output_type": "execute_result"
    }
   ],
   "source": [
    "movies.iloc[0].genres"
   ]
  },
  {
   "cell_type": "code",
   "execution_count": 38,
   "metadata": {},
   "outputs": [],
   "source": [
    "def convert(obj):\n",
    "    l=[]\n",
    "    for i in ast.literal_eval(obj):\n",
    "        l.append(i['name'])\n",
    "    return l\n",
    "        "
   ]
  },
  {
   "cell_type": "code",
   "execution_count": 39,
   "metadata": {},
   "outputs": [],
   "source": [
    "keywords['keywords'] = keywords['keywords'].apply(convert)"
   ]
  },
  {
   "cell_type": "code",
   "execution_count": 40,
   "metadata": {},
   "outputs": [
    {
     "data": {
      "text/html": [
       "<div>\n",
       "<style scoped>\n",
       "    .dataframe tbody tr th:only-of-type {\n",
       "        vertical-align: middle;\n",
       "    }\n",
       "\n",
       "    .dataframe tbody tr th {\n",
       "        vertical-align: top;\n",
       "    }\n",
       "\n",
       "    .dataframe thead th {\n",
       "        text-align: right;\n",
       "    }\n",
       "</style>\n",
       "<table border=\"1\" class=\"dataframe\">\n",
       "  <thead>\n",
       "    <tr style=\"text-align: right;\">\n",
       "      <th></th>\n",
       "      <th>id</th>\n",
       "      <th>keywords</th>\n",
       "    </tr>\n",
       "  </thead>\n",
       "  <tbody>\n",
       "    <tr>\n",
       "      <th>0</th>\n",
       "      <td>862</td>\n",
       "      <td>[jealousy, toy, boy, friendship, friends, riva...</td>\n",
       "    </tr>\n",
       "    <tr>\n",
       "      <th>1</th>\n",
       "      <td>8844</td>\n",
       "      <td>[board game, disappearance, based on children'...</td>\n",
       "    </tr>\n",
       "    <tr>\n",
       "      <th>2</th>\n",
       "      <td>15602</td>\n",
       "      <td>[fishing, best friend, duringcreditsstinger, o...</td>\n",
       "    </tr>\n",
       "    <tr>\n",
       "      <th>3</th>\n",
       "      <td>31357</td>\n",
       "      <td>[based on novel, interracial relationship, sin...</td>\n",
       "    </tr>\n",
       "    <tr>\n",
       "      <th>4</th>\n",
       "      <td>11862</td>\n",
       "      <td>[baby, midlife crisis, confidence, aging, daug...</td>\n",
       "    </tr>\n",
       "  </tbody>\n",
       "</table>\n",
       "</div>"
      ],
      "text/plain": [
       "      id                                           keywords\n",
       "0    862  [jealousy, toy, boy, friendship, friends, riva...\n",
       "1   8844  [board game, disappearance, based on children'...\n",
       "2  15602  [fishing, best friend, duringcreditsstinger, o...\n",
       "3  31357  [based on novel, interracial relationship, sin...\n",
       "4  11862  [baby, midlife crisis, confidence, aging, daug..."
      ]
     },
     "execution_count": 40,
     "metadata": {},
     "output_type": "execute_result"
    }
   ],
   "source": [
    "keywords.head()"
   ]
  },
  {
   "cell_type": "code",
   "execution_count": 41,
   "metadata": {},
   "outputs": [],
   "source": [
    "import ast\n",
    "import numpy as np\n",
    "\n",
    "def convert(obj):\n",
    "    if pd.isna(obj):\n",
    "        return []\n",
    "    l = []\n",
    "    for i in ast.literal_eval(obj):\n",
    "        l.append(i['name'])\n",
    "    return l\n",
    "\n",
    "movies['production_companies'] = movies['production_companies'].apply(convert)\n"
   ]
  },
  {
   "cell_type": "code",
   "execution_count": 42,
   "metadata": {},
   "outputs": [],
   "source": [
    "def convert(obj):\n",
    "    l=[]\n",
    "    counter=0\n",
    "    for i in ast.literal_eval(obj):\n",
    "        if counter != 3:\n",
    "            l.append(i['name'])\n",
    "            counter+=1\n",
    "        else:\n",
    "            break\n",
    "    return l\n",
    "        "
   ]
  },
  {
   "cell_type": "code",
   "execution_count": 43,
   "metadata": {},
   "outputs": [],
   "source": [
    "movies['genres'] = movies['genres'].apply(convert)"
   ]
  },
  {
   "cell_type": "markdown",
   "metadata": {},
   "source": [
    "**1. Crew:** From the crew, we will only pick the director as our feature since the others don't contribute that much to the feel of the movie.\n",
    "\n",
    "**2. Cast:** Choosing Cast is a little more tricky. Lesser known actors and minor roles do not really affect people's opinion of a movie. Therefore, we must only select the major characters and their respective actors. Arbitrarily we will choose the top 3 actors that appear in the credits list."
   ]
  },
  {
   "cell_type": "code",
   "execution_count": 44,
   "metadata": {},
   "outputs": [],
   "source": [
    "credits['cast'] = credits['cast'].apply(convert)"
   ]
  },
  {
   "cell_type": "code",
   "execution_count": 45,
   "metadata": {},
   "outputs": [],
   "source": [
    "def fetch_director(obj):\n",
    "    l=[]\n",
    "    for i in ast.literal_eval(obj):\n",
    "        if i['job'] == 'Director':\n",
    "            l.append(i['name'])\n",
    "            break\n",
    "    return l"
   ]
  },
  {
   "cell_type": "code",
   "execution_count": 46,
   "metadata": {},
   "outputs": [],
   "source": [
    "credits['crew'] = credits['crew'].apply(fetch_director)"
   ]
  },
  {
   "cell_type": "code",
   "execution_count": 47,
   "metadata": {
    "scrolled": true
   },
   "outputs": [
    {
     "data": {
      "text/html": [
       "<div>\n",
       "<style scoped>\n",
       "    .dataframe tbody tr th:only-of-type {\n",
       "        vertical-align: middle;\n",
       "    }\n",
       "\n",
       "    .dataframe tbody tr th {\n",
       "        vertical-align: top;\n",
       "    }\n",
       "\n",
       "    .dataframe thead th {\n",
       "        text-align: right;\n",
       "    }\n",
       "</style>\n",
       "<table border=\"1\" class=\"dataframe\">\n",
       "  <thead>\n",
       "    <tr style=\"text-align: right;\">\n",
       "      <th></th>\n",
       "      <th>cast</th>\n",
       "      <th>crew</th>\n",
       "      <th>id</th>\n",
       "    </tr>\n",
       "  </thead>\n",
       "  <tbody>\n",
       "    <tr>\n",
       "      <th>0</th>\n",
       "      <td>[Tom Hanks, Tim Allen, Don Rickles]</td>\n",
       "      <td>[John Lasseter]</td>\n",
       "      <td>862</td>\n",
       "    </tr>\n",
       "    <tr>\n",
       "      <th>1</th>\n",
       "      <td>[Robin Williams, Jonathan Hyde, Kirsten Dunst]</td>\n",
       "      <td>[Joe Johnston]</td>\n",
       "      <td>8844</td>\n",
       "    </tr>\n",
       "    <tr>\n",
       "      <th>2</th>\n",
       "      <td>[Walter Matthau, Jack Lemmon, Ann-Margret]</td>\n",
       "      <td>[Howard Deutch]</td>\n",
       "      <td>15602</td>\n",
       "    </tr>\n",
       "    <tr>\n",
       "      <th>3</th>\n",
       "      <td>[Whitney Houston, Angela Bassett, Loretta Devine]</td>\n",
       "      <td>[Forest Whitaker]</td>\n",
       "      <td>31357</td>\n",
       "    </tr>\n",
       "    <tr>\n",
       "      <th>4</th>\n",
       "      <td>[Steve Martin, Diane Keaton, Martin Short]</td>\n",
       "      <td>[Charles Shyer]</td>\n",
       "      <td>11862</td>\n",
       "    </tr>\n",
       "  </tbody>\n",
       "</table>\n",
       "</div>"
      ],
      "text/plain": [
       "                                                cast               crew     id\n",
       "0                [Tom Hanks, Tim Allen, Don Rickles]    [John Lasseter]    862\n",
       "1     [Robin Williams, Jonathan Hyde, Kirsten Dunst]     [Joe Johnston]   8844\n",
       "2         [Walter Matthau, Jack Lemmon, Ann-Margret]    [Howard Deutch]  15602\n",
       "3  [Whitney Houston, Angela Bassett, Loretta Devine]  [Forest Whitaker]  31357\n",
       "4         [Steve Martin, Diane Keaton, Martin Short]    [Charles Shyer]  11862"
      ]
     },
     "execution_count": 47,
     "metadata": {},
     "output_type": "execute_result"
    }
   ],
   "source": [
    "credits.head()"
   ]
  },
  {
   "cell_type": "code",
   "execution_count": 48,
   "metadata": {},
   "outputs": [],
   "source": [
    "movies['overview'] = movies['overview'].fillna('').apply(lambda x: x.split())\n"
   ]
  },
  {
   "cell_type": "code",
   "execution_count": 49,
   "metadata": {},
   "outputs": [],
   "source": [
    "movies['tagline'] = movies['tagline'].fillna('').apply(lambda x: x.split())\n"
   ]
  },
  {
   "cell_type": "code",
   "execution_count": 50,
   "metadata": {},
   "outputs": [
    {
     "data": {
      "text/html": [
       "<div>\n",
       "<style scoped>\n",
       "    .dataframe tbody tr th:only-of-type {\n",
       "        vertical-align: middle;\n",
       "    }\n",
       "\n",
       "    .dataframe tbody tr th {\n",
       "        vertical-align: top;\n",
       "    }\n",
       "\n",
       "    .dataframe thead th {\n",
       "        text-align: right;\n",
       "    }\n",
       "</style>\n",
       "<table border=\"1\" class=\"dataframe\">\n",
       "  <thead>\n",
       "    <tr style=\"text-align: right;\">\n",
       "      <th></th>\n",
       "      <th>adult</th>\n",
       "      <th>belongs_to_collection</th>\n",
       "      <th>budget</th>\n",
       "      <th>genres</th>\n",
       "      <th>homepage</th>\n",
       "      <th>id</th>\n",
       "      <th>imdb_id</th>\n",
       "      <th>original_language</th>\n",
       "      <th>original_title</th>\n",
       "      <th>overview</th>\n",
       "      <th>...</th>\n",
       "      <th>release_date</th>\n",
       "      <th>revenue</th>\n",
       "      <th>runtime</th>\n",
       "      <th>spoken_languages</th>\n",
       "      <th>status</th>\n",
       "      <th>tagline</th>\n",
       "      <th>title</th>\n",
       "      <th>video</th>\n",
       "      <th>vote_average</th>\n",
       "      <th>vote_count</th>\n",
       "    </tr>\n",
       "  </thead>\n",
       "  <tbody>\n",
       "    <tr>\n",
       "      <th>0</th>\n",
       "      <td>False</td>\n",
       "      <td>{'id': 10194, 'name': 'Toy Story Collection', ...</td>\n",
       "      <td>30000000</td>\n",
       "      <td>[Animation, Comedy, Family]</td>\n",
       "      <td>http://toystory.disney.com/toy-story</td>\n",
       "      <td>862</td>\n",
       "      <td>tt0114709</td>\n",
       "      <td>en</td>\n",
       "      <td>Toy Story</td>\n",
       "      <td>[Led, by, Woody,, Andy's, toys, live, happily,...</td>\n",
       "      <td>...</td>\n",
       "      <td>1995-10-30</td>\n",
       "      <td>373554033.0</td>\n",
       "      <td>81.0</td>\n",
       "      <td>[{'iso_639_1': 'en', 'name': 'English'}]</td>\n",
       "      <td>Released</td>\n",
       "      <td>[]</td>\n",
       "      <td>Toy Story</td>\n",
       "      <td>False</td>\n",
       "      <td>7.7</td>\n",
       "      <td>5415.0</td>\n",
       "    </tr>\n",
       "    <tr>\n",
       "      <th>1</th>\n",
       "      <td>False</td>\n",
       "      <td>NaN</td>\n",
       "      <td>65000000</td>\n",
       "      <td>[Adventure, Fantasy, Family]</td>\n",
       "      <td>NaN</td>\n",
       "      <td>8844</td>\n",
       "      <td>tt0113497</td>\n",
       "      <td>en</td>\n",
       "      <td>Jumanji</td>\n",
       "      <td>[When, siblings, Judy, and, Peter, discover, a...</td>\n",
       "      <td>...</td>\n",
       "      <td>1995-12-15</td>\n",
       "      <td>262797249.0</td>\n",
       "      <td>104.0</td>\n",
       "      <td>[{'iso_639_1': 'en', 'name': 'English'}, {'iso...</td>\n",
       "      <td>Released</td>\n",
       "      <td>[Roll, the, dice, and, unleash, the, excitement!]</td>\n",
       "      <td>Jumanji</td>\n",
       "      <td>False</td>\n",
       "      <td>6.9</td>\n",
       "      <td>2413.0</td>\n",
       "    </tr>\n",
       "    <tr>\n",
       "      <th>2</th>\n",
       "      <td>False</td>\n",
       "      <td>{'id': 119050, 'name': 'Grumpy Old Men Collect...</td>\n",
       "      <td>0</td>\n",
       "      <td>[Romance, Comedy]</td>\n",
       "      <td>NaN</td>\n",
       "      <td>15602</td>\n",
       "      <td>tt0113228</td>\n",
       "      <td>en</td>\n",
       "      <td>Grumpier Old Men</td>\n",
       "      <td>[A, family, wedding, reignites, the, ancient, ...</td>\n",
       "      <td>...</td>\n",
       "      <td>1995-12-22</td>\n",
       "      <td>0.0</td>\n",
       "      <td>101.0</td>\n",
       "      <td>[{'iso_639_1': 'en', 'name': 'English'}]</td>\n",
       "      <td>Released</td>\n",
       "      <td>[Still, Yelling., Still, Fighting., Still, Rea...</td>\n",
       "      <td>Grumpier Old Men</td>\n",
       "      <td>False</td>\n",
       "      <td>6.5</td>\n",
       "      <td>92.0</td>\n",
       "    </tr>\n",
       "    <tr>\n",
       "      <th>3</th>\n",
       "      <td>False</td>\n",
       "      <td>NaN</td>\n",
       "      <td>16000000</td>\n",
       "      <td>[Comedy, Drama, Romance]</td>\n",
       "      <td>NaN</td>\n",
       "      <td>31357</td>\n",
       "      <td>tt0114885</td>\n",
       "      <td>en</td>\n",
       "      <td>Waiting to Exhale</td>\n",
       "      <td>[Cheated, on,, mistreated, and, stepped, on,, ...</td>\n",
       "      <td>...</td>\n",
       "      <td>1995-12-22</td>\n",
       "      <td>81452156.0</td>\n",
       "      <td>127.0</td>\n",
       "      <td>[{'iso_639_1': 'en', 'name': 'English'}]</td>\n",
       "      <td>Released</td>\n",
       "      <td>[Friends, are, the, people, who, let, you, be,...</td>\n",
       "      <td>Waiting to Exhale</td>\n",
       "      <td>False</td>\n",
       "      <td>6.1</td>\n",
       "      <td>34.0</td>\n",
       "    </tr>\n",
       "    <tr>\n",
       "      <th>4</th>\n",
       "      <td>False</td>\n",
       "      <td>{'id': 96871, 'name': 'Father of the Bride Col...</td>\n",
       "      <td>0</td>\n",
       "      <td>[Comedy]</td>\n",
       "      <td>NaN</td>\n",
       "      <td>11862</td>\n",
       "      <td>tt0113041</td>\n",
       "      <td>en</td>\n",
       "      <td>Father of the Bride Part II</td>\n",
       "      <td>[Just, when, George, Banks, has, recovered, fr...</td>\n",
       "      <td>...</td>\n",
       "      <td>1995-02-10</td>\n",
       "      <td>76578911.0</td>\n",
       "      <td>106.0</td>\n",
       "      <td>[{'iso_639_1': 'en', 'name': 'English'}]</td>\n",
       "      <td>Released</td>\n",
       "      <td>[Just, When, His, World, Is, Back, To, Normal....</td>\n",
       "      <td>Father of the Bride Part II</td>\n",
       "      <td>False</td>\n",
       "      <td>5.7</td>\n",
       "      <td>173.0</td>\n",
       "    </tr>\n",
       "  </tbody>\n",
       "</table>\n",
       "<p>5 rows × 24 columns</p>\n",
       "</div>"
      ],
      "text/plain": [
       "   adult                              belongs_to_collection    budget  \\\n",
       "0  False  {'id': 10194, 'name': 'Toy Story Collection', ...  30000000   \n",
       "1  False                                                NaN  65000000   \n",
       "2  False  {'id': 119050, 'name': 'Grumpy Old Men Collect...         0   \n",
       "3  False                                                NaN  16000000   \n",
       "4  False  {'id': 96871, 'name': 'Father of the Bride Col...         0   \n",
       "\n",
       "                         genres                              homepage     id  \\\n",
       "0   [Animation, Comedy, Family]  http://toystory.disney.com/toy-story    862   \n",
       "1  [Adventure, Fantasy, Family]                                   NaN   8844   \n",
       "2             [Romance, Comedy]                                   NaN  15602   \n",
       "3      [Comedy, Drama, Romance]                                   NaN  31357   \n",
       "4                      [Comedy]                                   NaN  11862   \n",
       "\n",
       "     imdb_id original_language               original_title  \\\n",
       "0  tt0114709                en                    Toy Story   \n",
       "1  tt0113497                en                      Jumanji   \n",
       "2  tt0113228                en             Grumpier Old Men   \n",
       "3  tt0114885                en            Waiting to Exhale   \n",
       "4  tt0113041                en  Father of the Bride Part II   \n",
       "\n",
       "                                            overview  ... release_date  \\\n",
       "0  [Led, by, Woody,, Andy's, toys, live, happily,...  ...   1995-10-30   \n",
       "1  [When, siblings, Judy, and, Peter, discover, a...  ...   1995-12-15   \n",
       "2  [A, family, wedding, reignites, the, ancient, ...  ...   1995-12-22   \n",
       "3  [Cheated, on,, mistreated, and, stepped, on,, ...  ...   1995-12-22   \n",
       "4  [Just, when, George, Banks, has, recovered, fr...  ...   1995-02-10   \n",
       "\n",
       "       revenue runtime                                   spoken_languages  \\\n",
       "0  373554033.0    81.0           [{'iso_639_1': 'en', 'name': 'English'}]   \n",
       "1  262797249.0   104.0  [{'iso_639_1': 'en', 'name': 'English'}, {'iso...   \n",
       "2          0.0   101.0           [{'iso_639_1': 'en', 'name': 'English'}]   \n",
       "3   81452156.0   127.0           [{'iso_639_1': 'en', 'name': 'English'}]   \n",
       "4   76578911.0   106.0           [{'iso_639_1': 'en', 'name': 'English'}]   \n",
       "\n",
       "     status                                            tagline  \\\n",
       "0  Released                                                 []   \n",
       "1  Released  [Roll, the, dice, and, unleash, the, excitement!]   \n",
       "2  Released  [Still, Yelling., Still, Fighting., Still, Rea...   \n",
       "3  Released  [Friends, are, the, people, who, let, you, be,...   \n",
       "4  Released  [Just, When, His, World, Is, Back, To, Normal....   \n",
       "\n",
       "                         title  video vote_average vote_count  \n",
       "0                    Toy Story  False          7.7     5415.0  \n",
       "1                      Jumanji  False          6.9     2413.0  \n",
       "2             Grumpier Old Men  False          6.5       92.0  \n",
       "3            Waiting to Exhale  False          6.1       34.0  \n",
       "4  Father of the Bride Part II  False          5.7      173.0  \n",
       "\n",
       "[5 rows x 24 columns]"
      ]
     },
     "execution_count": 50,
     "metadata": {},
     "output_type": "execute_result"
    }
   ],
   "source": [
    "movies.head()"
   ]
  },
  {
   "cell_type": "code",
   "execution_count": 51,
   "metadata": {},
   "outputs": [
    {
     "data": {
      "text/plain": [
       "(45463, 24)"
      ]
     },
     "execution_count": 51,
     "metadata": {},
     "output_type": "execute_result"
    }
   ],
   "source": [
    "movies.shape"
   ]
  },
  {
   "cell_type": "markdown",
   "metadata": {},
   "source": [
    "## 4. Exploratory Data Analysis\n",
    "\n",
    "1. What is the distribution of movie genres in the dataset?\n",
    "2. How many unique users and movies are present in the ratings dataset?\n",
    "3. How has the popularity of movies changed over the years?\n",
    "4. What is the distribution of movie ratings (vote_average) in the dataset?\n",
    "5. Are there any correlations between movie budget, revenue, and ratings?\n",
    "6. Are there any trends in movie release dates over the years?\n",
    "7. What is the distribution of user ratings (or votes) per movie?\n",
    "8. What are the top keywords used to describe movies in the keywords dataset?\n",
    "9. What are the top production companies in the dataset?\n",
    "\n",
    "\n",
    "\n",
    "\n",
    "\n"
   ]
  },
  {
   "cell_type": "markdown",
   "metadata": {},
   "source": [
    "### 1. Distribution of movie genres"
   ]
  },
  {
   "cell_type": "code",
   "execution_count": 52,
   "metadata": {
    "scrolled": false
   },
   "outputs": [
    {
     "data": {
      "text/plain": [
       "<Axes: title={'center': 'Distribution of Movie Genres'}>"
      ]
     },
     "execution_count": 52,
     "metadata": {},
     "output_type": "execute_result"
    },
    {
     "data": {
      "image/png": "[encoded data removed]",
      "text/plain": [
       "<Figure size 1200x600 with 1 Axes>"
      ]
     },
     "metadata": {},
     "output_type": "display_data"
    }
   ],
   "source": [
    "genres_list = movies['genres'].explode()\n",
    "\n",
    "# Count the occurrences of each genre\n",
    "genre_counts = genres_list.value_counts()\n",
    "\n",
    "# Plot the distribution of movie genres\n",
    "genre_counts.plot(kind='bar', figsize=(12, 6), title='Distribution of Movie Genres')"
   ]
  },
  {
   "cell_type": "markdown",
   "metadata": {},
   "source": [
    "The most common genres in movies are drama, followed by comedy, action, and thriller."
   ]
  },
  {
   "cell_type": "markdown",
   "metadata": {},
   "source": [
    "## 2. Unique number of users and movies"
   ]
  },
  {
   "cell_type": "code",
   "execution_count": 53,
   "metadata": {},
   "outputs": [
    {
     "name": "stdout",
     "output_type": "stream",
     "text": [
      "Number of unique users: 671\n",
      "Number of unique movies: 9066\n"
     ]
    }
   ],
   "source": [
    "unique_users = ratings['userId'].nunique()\n",
    "unique_movies = ratings['movieId'].nunique()\n",
    "\n",
    "print(f\"Number of unique users: {unique_users}\")\n",
    "print(f\"Number of unique movies: {unique_movies}\")"
   ]
  },
  {
   "cell_type": "markdown",
   "metadata": {},
   "source": [
    "## 3. Average Popularity Of Movies Over Years"
   ]
  },
  {
   "cell_type": "code",
   "execution_count": 54,
   "metadata": {
    "scrolled": false
   },
   "outputs": [
    {
     "data": {
      "image/png": "[encoded data removed]",
      "text/plain": [
       "<Figure size 1200x600 with 1 Axes>"
      ]
     },
     "metadata": {},
     "output_type": "display_data"
    }
   ],
   "source": [
    "movies['popularity'] = pd.to_numeric(movies['popularity'], errors='coerce')\n",
    "mean_popularity = movies['popularity'].mean()\n",
    "movies['popularity'].fillna(mean_popularity, inplace=True)\n",
    "\n",
    "movies['release_date'] = pd.to_datetime(movies['release_date'])\n",
    "\n",
    "# Extract year from 'release_date'\n",
    "movies['release_year'] = movies['release_date'].dt.year\n",
    "\n",
    "# Group by 'release_year' and calculate the average popularity for each year\n",
    "popularity_by_year = movies.groupby('release_year')['popularity'].mean()\n",
    "\n",
    "# Plot the popularity trend over the years\n",
    "plt.figure(figsize=(12, 6))\n",
    "plt.plot(popularity_by_year.index, popularity_by_year.values, marker='o')\n",
    "plt.xlabel('Year')\n",
    "plt.ylabel('Average Popularity')\n",
    "plt.title('Average Popularity of Movies Over the Years')\n",
    "plt.grid(True)\n",
    "plt.show()"
   ]
  },
  {
   "cell_type": "markdown",
   "metadata": {},
   "source": [
    "### 4. Distribution of movie ratings"
   ]
  },
  {
   "cell_type": "code",
   "execution_count": 55,
   "metadata": {},
   "outputs": [
    {
     "data": {
      "image/png": "[encoded data removed]",
      "text/plain": [
       "<Figure size 1000x600 with 1 Axes>"
      ]
     },
     "metadata": {},
     "output_type": "display_data"
    }
   ],
   "source": [
    "plt.figure(figsize=(10, 6))\n",
    "sns.histplot(data=movies, x='vote_average', bins=20, kde=True, color='skyblue')\n",
    "plt.title('Distribution of Movie Ratings (vote_average)')\n",
    "plt.xlabel('Rating')\n",
    "plt.ylabel('Frequency')\n",
    "plt.show()\n"
   ]
  },
  {
   "cell_type": "markdown",
   "metadata": {},
   "source": [
    "### 5. Correlations between movie budget, revenue, and ratings"
   ]
  },
  {
   "cell_type": "code",
   "execution_count": 56,
   "metadata": {},
   "outputs": [
    {
     "data": {
      "image/png": "[encoded data removed]",
      "text/plain": [
       "<Figure size 800x600 with 2 Axes>"
      ]
     },
     "metadata": {},
     "output_type": "display_data"
    }
   ],
   "source": [
    "# Selecting relevant columns\n",
    "numerical_columns = ['budget', 'revenue', 'vote_average']\n",
    "numerical_data = movies[numerical_columns]\n",
    "\n",
    "# Calculating the correlation matrix\n",
    "correlation_matrix = numerical_data.corr()\n",
    "\n",
    "# Plotting the heatmap\n",
    "plt.figure(figsize=(8, 6))\n",
    "sns.heatmap(correlation_matrix, annot=True, cmap='coolwarm', fmt=\".2f\")\n",
    "plt.title('Correlation Matrix')\n",
    "plt.show()\n"
   ]
  },
  {
   "cell_type": "markdown",
   "metadata": {},
   "source": [
    "### 6. Trends in movie release dates over the years"
   ]
  },
  {
   "cell_type": "code",
   "execution_count": 57,
   "metadata": {
    "scrolled": false
   },
   "outputs": [
    {
     "data": {
      "image/png": "[encoded data removed]",
      "text/plain": [
       "<Figure size 1200x600 with 1 Axes>"
      ]
     },
     "metadata": {},
     "output_type": "display_data"
    }
   ],
   "source": [
    "import pandas as pd\n",
    "import matplotlib.pyplot as plt\n",
    "\n",
    "# Assuming you have loaded the dataset into 'movies'\n",
    "\n",
    "# Extract the year from the release_date column\n",
    "movies['release_year'] = pd.to_datetime(movies['release_date']).dt.year\n",
    "\n",
    "# Group the movies by release year to get the count of movies released each year\n",
    "movies_per_year = movies.groupby('release_year').size()\n",
    "\n",
    "# Visualize the trend in movie release dates over the years\n",
    "plt.figure(figsize=(12, 6))\n",
    "movies_per_year.plot(kind='line', marker='o', color='skyblue')\n",
    "plt.title('Trend in Movie Release Dates Over the Years')\n",
    "plt.xlabel('Year')\n",
    "plt.ylabel('Number of Movies Released')\n",
    "plt.grid(axis='y', linestyle='--', alpha=0.7)\n",
    "plt.tight_layout()\n",
    "plt.show()\n"
   ]
  },
  {
   "cell_type": "markdown",
   "metadata": {},
   "source": [
    "### 7. Distribution of user ratings (or votes) per movie"
   ]
  },
  {
   "cell_type": "code",
   "execution_count": 58,
   "metadata": {},
   "outputs": [
    {
     "data": {
      "image/png": "[encoded data removed]",
      "text/plain": [
       "<Figure size 1200x600 with 1 Axes>"
      ]
     },
     "metadata": {},
     "output_type": "display_data"
    }
   ],
   "source": [
    "import pandas as pd\n",
    "import matplotlib.pyplot as plt\n",
    "\n",
    "# Assuming you have loaded the dataset into 'ratings_df'\n",
    "\n",
    "# Group the ratings dataset by movieId to get the count of ratings for each movie\n",
    "ratings_per_movie = ratings.groupby('movieId').size()\n",
    "\n",
    "# Visualize the distribution of ratings per movie\n",
    "plt.figure(figsize=(12, 6))\n",
    "plt.hist(ratings_per_movie, bins=50, color='skyblue', edgecolor='black')\n",
    "plt.title('Distribution of User Ratings per Movie')\n",
    "plt.xlabel('Number of Ratings per Movie')\n",
    "plt.ylabel('Frequency')\n",
    "plt.grid(axis='y', linestyle='--', alpha=0.7)\n",
    "plt.tight_layout()\n",
    "plt.show()\n"
   ]
  },
  {
   "cell_type": "markdown",
   "metadata": {},
   "source": [
    "### 8.Top Keywords"
   ]
  },
  {
   "cell_type": "code",
   "execution_count": 59,
   "metadata": {},
   "outputs": [
    {
     "name": "stdout",
     "output_type": "stream",
     "text": [
      "Top keywords:\n",
      "woman director      3115\n",
      "independent film    1930\n",
      "murder              1308\n",
      "based on novel       835\n",
      "musical              734\n",
      "sex                  685\n",
      "violence             651\n",
      "nudity               636\n",
      "biography            629\n",
      "revenge              626\n",
      "Name: keywords, dtype: int64\n"
     ]
    }
   ],
   "source": [
    "keywords_list = keywords['keywords'].explode()\n",
    "\n",
    "# Count the occurrences of each keyword\n",
    "keyword_counts = keywords_list.value_counts()\n",
    "\n",
    "# Print the top keywords\n",
    "print(\"Top keywords:\")\n",
    "print(keyword_counts.head(10))"
   ]
  },
  {
   "cell_type": "code",
   "execution_count": 60,
   "metadata": {},
   "outputs": [
    {
     "data": {
      "image/png": "[encoded data removed]",
      "text/plain": [
       "<Figure size 1200x600 with 1 Axes>"
      ]
     },
     "metadata": {},
     "output_type": "display_data"
    }
   ],
   "source": [
    "plt.figure(figsize=(12, 6))\n",
    "keyword_counts.head(10).plot(kind='bar', title='Top Keywords in Movie Descriptions')\n",
    "plt.xlabel('Keyword')\n",
    "plt.ylabel('Count')\n",
    "plt.show()"
   ]
  },
  {
   "cell_type": "markdown",
   "metadata": {},
   "source": [
    "## 9.Top Production Companies"
   ]
  },
  {
   "cell_type": "code",
   "execution_count": 61,
   "metadata": {},
   "outputs": [
    {
     "name": "stdout",
     "output_type": "stream",
     "text": [
      "Top production companies:\n",
      "Warner Bros.                              1250\n",
      "Metro-Goldwyn-Mayer (MGM)                 1076\n",
      "Paramount Pictures                        1003\n",
      "Twentieth Century Fox Film Corporation     836\n",
      "Universal Pictures                         830\n",
      "Columbia Pictures Corporation              448\n",
      "Canal+                                     438\n",
      "Columbia Pictures                          431\n",
      "RKO Radio Pictures                         290\n",
      "United Artists                             279\n",
      "Name: production_companies, dtype: int64\n"
     ]
    }
   ],
   "source": [
    "production_companies_list = movies['production_companies'].explode()\n",
    "\n",
    "# Count the occurrences of each production company\n",
    "production_company_counts = production_companies_list.value_counts()\n",
    "\n",
    "# Print the top production companies\n",
    "print(\"Top production companies:\")\n",
    "print(production_company_counts.head(10))"
   ]
  },
  {
   "cell_type": "code",
   "execution_count": 62,
   "metadata": {},
   "outputs": [
    {
     "data": {
      "text/plain": [
       "Text(0, 0.5, 'Count')"
      ]
     },
     "execution_count": 62,
     "metadata": {},
     "output_type": "execute_result"
    },
    {
     "data": {
      "image/png": "[encoded data removed]",
      "text/plain": [
       "<Figure size 1200x600 with 1 Axes>"
      ]
     },
     "metadata": {},
     "output_type": "display_data"
    }
   ],
   "source": [
    "\n",
    "# Plot the top 10 production companies\n",
    "plt.figure(figsize=(12, 6))\n",
    "production_company_counts.head(10).plot(kind='bar', title='Top Production Companies in Movies')\n",
    "plt.xlabel('Production Company')\n",
    "plt.ylabel('Count')"
   ]
  },
  {
   "cell_type": "code",
   "execution_count": 63,
   "metadata": {},
   "outputs": [
    {
     "name": "stdout",
     "output_type": "stream",
     "text": [
      "Top production companies according to ratings:\n",
      "production_companies\n",
      "Vanguardia Films                 10.0\n",
      "Roberto Me Dejó Films            10.0\n",
      "One Small Instrument Pictures    10.0\n",
      "Marquise                         10.0\n",
      "Chase Productions                10.0\n",
      "INCAA                            10.0\n",
      "Rhino Media                      10.0\n",
      "AMV Production                   10.0\n",
      "Wood-Thomas Pictures             10.0\n",
      "Les Films Fauves                 10.0\n",
      "Name: vote_average, dtype: float64\n"
     ]
    }
   ],
   "source": [
    "movies_df_exploded = movies.explode('production_companies')\n",
    "\n",
    "# Group by production company and calculate the average rating\n",
    "production_company_ratings = movies_df_exploded.groupby('production_companies')['vote_average'].mean()\n",
    "\n",
    "# Print the top production companies according to ratings\n",
    "print(\"Top production companies according to ratings:\")\n",
    "print(production_company_ratings.sort_values(ascending=False).head(10))"
   ]
  },
  {
   "cell_type": "markdown",
   "metadata": {},
   "source": [
    "## 6. Build recommendation system"
   ]
  },
  {
   "cell_type": "markdown",
   "metadata": {},
   "source": [
    "### 6.1. Simple recommendation system"
   ]
  },
  {
   "cell_type": "markdown",
   "metadata": {},
   "source": [
    "**Approach: **\n",
    "\n",
    "* The Simple Recommender offers __generalized recommendations__ to every user __based on movie popularity and (sometimes) genre__. \n",
    "\n",
    "* The __basic idea__ behind this recommender is that __movies that are more popular and more critically acclaimed will have a higher probability of being liked by the average audience.__ \n",
    "\n",
    "* This model __does not give personalized recommendations__ based on the user.\n",
    "\n"
   ]
  },
  {
   "cell_type": "markdown",
   "metadata": {},
   "source": [
    "**What we are actually doing: **\n",
    "\n",
    "* The implementation of this model is extremely trivial. \n",
    "* All we have to do is __sort our movies based on ratings and popularity__ and display the top movies of our list. \n",
    "* As an added step, we can __pass in a genre argument to get the top movies of a particular genre.__"
   ]
  },
  {
   "cell_type": "markdown",
   "metadata": {},
   "source": [
    "I will build our overall Top 250 Chart and will define a function to build charts for a particular genre. Let's begin!"
   ]
  },
  {
   "cell_type": "markdown",
   "metadata": {},
   "source": [
    "* I use the TMDB Ratings to come up with our Top Movies Chart. \n",
    "* I will use IMDB's weighted rating formula to construct my chart.\n",
    "* Mathematically, it is represented as follows:"
   ]
  },
  {
   "cell_type": "markdown",
   "metadata": {},
   "source": [
    "\n",
    "\n",
    "$\\large Weighted\\; Rating (WR) = (\\frac{v}{v + m} . R) + (\\frac{m}{v + m} . C)$\n",
    "```\n",
    "where,\n",
    "    v is the number of votes for the movie\n",
    "    m is the minimum votes required to be listed in the chart\n",
    "    R is the average rating of the movie\n",
    "    C is the mean vote across the whole report\n",
    "```"
   ]
  },
  {
   "cell_type": "code",
   "execution_count": 64,
   "metadata": {
    "execution": {
     "iopub.execute_input": "2024-04-08T07:11:10.756192Z",
     "iopub.status.busy": "2024-04-08T07:11:10.755866Z",
     "iopub.status.idle": "2024-04-08T07:11:10.819331Z",
     "shell.execute_reply": "2024-04-08T07:11:10.818234Z",
     "shell.execute_reply.started": "2024-04-08T07:11:10.756164Z"
    }
   },
   "outputs": [
    {
     "data": {
      "text/plain": [
       "5.244550513604469"
      ]
     },
     "execution_count": 64,
     "metadata": {},
     "output_type": "execute_result"
    }
   ],
   "source": [
    "# this is V\n",
    "vote_counts = movies[movies['vote_count'].notnull()]['vote_count'].astype('int')\n",
    "\n",
    "# this is R\n",
    "vote_averages = movies[movies['vote_average'].notnull()]['vote_average'].astype('int')\n",
    "\n",
    "# this is C\n",
    "C = vote_averages.mean()\n",
    "C"
   ]
  },
  {
   "cell_type": "markdown",
   "metadata": {},
   "source": [
    "* The next step, we need to determine an appropriate value for `m`, the minimum votes required to be listed in the chart. \n",
    "\n",
    "* We will use 95th percentile as our cutoff. In other words, for a movie to feature in the charts, it must have more votes than at least 95% of the movies in the list.\n",
    "\n"
   ]
  },
  {
   "cell_type": "code",
   "execution_count": 65,
   "metadata": {
    "execution": {
     "iopub.execute_input": "2024-04-08T07:11:10.821620Z",
     "iopub.status.busy": "2024-04-08T07:11:10.820988Z",
     "iopub.status.idle": "2024-04-08T07:11:10.830754Z",
     "shell.execute_reply": "2024-04-08T07:11:10.829577Z",
     "shell.execute_reply.started": "2024-04-08T07:11:10.821583Z"
    }
   },
   "outputs": [
    {
     "data": {
      "text/plain": [
       "433.90000000000146"
      ]
     },
     "execution_count": 65,
     "metadata": {},
     "output_type": "execute_result"
    }
   ],
   "source": [
    "m = vote_counts.quantile(0.95)\n",
    "m"
   ]
  },
  {
   "cell_type": "code",
   "execution_count": 66,
   "metadata": {
    "execution": {
     "iopub.execute_input": "2024-04-08T07:11:10.833159Z",
     "iopub.status.busy": "2024-04-08T07:11:10.832471Z",
     "iopub.status.idle": "2024-04-08T07:11:11.093781Z",
     "shell.execute_reply": "2024-04-08T07:11:11.092746Z",
     "shell.execute_reply.started": "2024-04-08T07:11:10.833120Z"
    }
   },
   "outputs": [],
   "source": [
    "# Pre-processing step for getting year from date by splliting it using '-'\n",
    "\n",
    "movies['year'] = pd.to_datetime(movies['release_date'], errors='coerce').apply(\n",
    "    lambda x: str(x).split('-')[0] if x != np.nan else np.nan)"
   ]
  },
  {
   "cell_type": "code",
   "execution_count": 67,
   "metadata": {
    "execution": {
     "iopub.execute_input": "2024-04-08T07:11:11.095780Z",
     "iopub.status.busy": "2024-04-08T07:11:11.095349Z",
     "iopub.status.idle": "2024-04-08T07:11:11.111759Z",
     "shell.execute_reply": "2024-04-08T07:11:11.110889Z",
     "shell.execute_reply.started": "2024-04-08T07:11:11.095746Z"
    }
   },
   "outputs": [
    {
     "data": {
      "text/plain": [
       "(2274, 6)"
      ]
     },
     "execution_count": 67,
     "metadata": {},
     "output_type": "execute_result"
    }
   ],
   "source": [
    "qualified = movies[(movies['vote_count'] >= m) & \n",
    "               (movies['vote_count'].notnull()) & \n",
    "               (movies['vote_average'].notnull())][['title', \n",
    "                                                'year', \n",
    "                                                'vote_count', \n",
    "                                                'vote_average', \n",
    "                                                'popularity', \n",
    "                                                'genres']]\n",
    "\n",
    "qualified['vote_count'] = qualified['vote_count'].astype('int')\n",
    "qualified['vote_average'] = qualified['vote_average'].astype('int')\n",
    "qualified.shape"
   ]
  },
  {
   "cell_type": "markdown",
   "metadata": {},
   "source": [
    "* Therefore, to qualify to be considered for the chart, a movie has to have at least __434 votes__ on TMDB. \n",
    "* We also see that the __average rating__ for __a movie on TMDB__ is __5.244 on a scale of 10__. \n",
    "* Here, only __2274 movies__ are qualify to be on our chart."
   ]
  },
  {
   "cell_type": "code",
   "execution_count": 68,
   "metadata": {
    "execution": {
     "iopub.execute_input": "2024-04-08T07:11:11.119527Z",
     "iopub.status.busy": "2024-04-08T07:11:11.118853Z",
     "iopub.status.idle": "2024-04-08T07:11:11.125169Z",
     "shell.execute_reply": "2024-04-08T07:11:11.124046Z",
     "shell.execute_reply.started": "2024-04-08T07:11:11.119465Z"
    }
   },
   "outputs": [],
   "source": [
    "def weighted_rating(x):\n",
    "    v = x['vote_count']\n",
    "    R = x['vote_average']\n",
    "    return (v/(v+m) * R) + (m/(m+v) * C)"
   ]
  },
  {
   "cell_type": "code",
   "execution_count": 69,
   "metadata": {
    "execution": {
     "iopub.execute_input": "2024-04-08T07:11:11.128776Z",
     "iopub.status.busy": "2024-04-08T07:11:11.128165Z",
     "iopub.status.idle": "2024-04-08T07:11:11.177146Z",
     "shell.execute_reply": "2024-04-08T07:11:11.176179Z",
     "shell.execute_reply.started": "2024-04-08T07:11:11.128740Z"
    }
   },
   "outputs": [],
   "source": [
    "qualified['wr'] = qualified.apply(weighted_rating, axis=1)"
   ]
  },
  {
   "cell_type": "code",
   "execution_count": 70,
   "metadata": {
    "execution": {
     "iopub.execute_input": "2024-04-08T07:11:11.178947Z",
     "iopub.status.busy": "2024-04-08T07:11:11.178396Z",
     "iopub.status.idle": "2024-04-08T07:11:11.185308Z",
     "shell.execute_reply": "2024-04-08T07:11:11.184361Z",
     "shell.execute_reply.started": "2024-04-08T07:11:11.178915Z"
    }
   },
   "outputs": [],
   "source": [
    "qualified = qualified.sort_values('wr', ascending=False).head(250)"
   ]
  },
  {
   "cell_type": "markdown",
   "metadata": {},
   "source": [
    "**Top Movies**"
   ]
  },
  {
   "cell_type": "code",
   "execution_count": 71,
   "metadata": {
    "execution": {
     "iopub.execute_input": "2024-04-08T07:11:11.187008Z",
     "iopub.status.busy": "2024-04-08T07:11:11.186671Z",
     "iopub.status.idle": "2024-04-08T07:11:11.211146Z",
     "shell.execute_reply": "2024-04-08T07:11:11.210337Z",
     "shell.execute_reply.started": "2024-04-08T07:11:11.186978Z"
    }
   },
   "outputs": [
    {
     "data": {
      "text/html": [
       "<div>\n",
       "<style scoped>\n",
       "    .dataframe tbody tr th:only-of-type {\n",
       "        vertical-align: middle;\n",
       "    }\n",
       "\n",
       "    .dataframe tbody tr th {\n",
       "        vertical-align: top;\n",
       "    }\n",
       "\n",
       "    .dataframe thead th {\n",
       "        text-align: right;\n",
       "    }\n",
       "</style>\n",
       "<table border=\"1\" class=\"dataframe\">\n",
       "  <thead>\n",
       "    <tr style=\"text-align: right;\">\n",
       "      <th></th>\n",
       "      <th>title</th>\n",
       "      <th>year</th>\n",
       "      <th>vote_count</th>\n",
       "      <th>vote_average</th>\n",
       "      <th>popularity</th>\n",
       "      <th>genres</th>\n",
       "      <th>wr</th>\n",
       "    </tr>\n",
       "  </thead>\n",
       "  <tbody>\n",
       "    <tr>\n",
       "      <th>15480</th>\n",
       "      <td>Inception</td>\n",
       "      <td>2010</td>\n",
       "      <td>14075</td>\n",
       "      <td>8</td>\n",
       "      <td>29.108149</td>\n",
       "      <td>[Action, Thriller, Science Fiction]</td>\n",
       "      <td>7.917596</td>\n",
       "    </tr>\n",
       "    <tr>\n",
       "      <th>12481</th>\n",
       "      <td>The Dark Knight</td>\n",
       "      <td>2008</td>\n",
       "      <td>12269</td>\n",
       "      <td>8</td>\n",
       "      <td>123.167259</td>\n",
       "      <td>[Drama, Action, Crime]</td>\n",
       "      <td>7.905881</td>\n",
       "    </tr>\n",
       "    <tr>\n",
       "      <th>22879</th>\n",
       "      <td>Interstellar</td>\n",
       "      <td>2014</td>\n",
       "      <td>11187</td>\n",
       "      <td>8</td>\n",
       "      <td>32.213481</td>\n",
       "      <td>[Adventure, Drama, Science Fiction]</td>\n",
       "      <td>7.897117</td>\n",
       "    </tr>\n",
       "    <tr>\n",
       "      <th>2843</th>\n",
       "      <td>Fight Club</td>\n",
       "      <td>1999</td>\n",
       "      <td>9678</td>\n",
       "      <td>8</td>\n",
       "      <td>63.869599</td>\n",
       "      <td>[Drama]</td>\n",
       "      <td>7.881764</td>\n",
       "    </tr>\n",
       "    <tr>\n",
       "      <th>4863</th>\n",
       "      <td>The Lord of the Rings: The Fellowship of the Ring</td>\n",
       "      <td>2001</td>\n",
       "      <td>8892</td>\n",
       "      <td>8</td>\n",
       "      <td>32.070725</td>\n",
       "      <td>[Adventure, Fantasy, Action]</td>\n",
       "      <td>7.871799</td>\n",
       "    </tr>\n",
       "    <tr>\n",
       "      <th>292</th>\n",
       "      <td>Pulp Fiction</td>\n",
       "      <td>1994</td>\n",
       "      <td>8670</td>\n",
       "      <td>8</td>\n",
       "      <td>140.950236</td>\n",
       "      <td>[Thriller, Crime]</td>\n",
       "      <td>7.868673</td>\n",
       "    </tr>\n",
       "    <tr>\n",
       "      <th>314</th>\n",
       "      <td>The Shawshank Redemption</td>\n",
       "      <td>1994</td>\n",
       "      <td>8358</td>\n",
       "      <td>8</td>\n",
       "      <td>51.645403</td>\n",
       "      <td>[Drama, Crime]</td>\n",
       "      <td>7.864012</td>\n",
       "    </tr>\n",
       "    <tr>\n",
       "      <th>7000</th>\n",
       "      <td>The Lord of the Rings: The Return of the King</td>\n",
       "      <td>2003</td>\n",
       "      <td>8226</td>\n",
       "      <td>8</td>\n",
       "      <td>29.324358</td>\n",
       "      <td>[Adventure, Fantasy, Action]</td>\n",
       "      <td>7.861940</td>\n",
       "    </tr>\n",
       "    <tr>\n",
       "      <th>351</th>\n",
       "      <td>Forrest Gump</td>\n",
       "      <td>1994</td>\n",
       "      <td>8147</td>\n",
       "      <td>8</td>\n",
       "      <td>48.307194</td>\n",
       "      <td>[Comedy, Drama, Romance]</td>\n",
       "      <td>7.860669</td>\n",
       "    </tr>\n",
       "    <tr>\n",
       "      <th>5814</th>\n",
       "      <td>The Lord of the Rings: The Two Towers</td>\n",
       "      <td>2002</td>\n",
       "      <td>7641</td>\n",
       "      <td>8</td>\n",
       "      <td>29.423537</td>\n",
       "      <td>[Adventure, Fantasy, Action]</td>\n",
       "      <td>7.851938</td>\n",
       "    </tr>\n",
       "    <tr>\n",
       "      <th>256</th>\n",
       "      <td>Star Wars</td>\n",
       "      <td>1977</td>\n",
       "      <td>6778</td>\n",
       "      <td>8</td>\n",
       "      <td>42.149697</td>\n",
       "      <td>[Adventure, Action, Science Fiction]</td>\n",
       "      <td>7.834220</td>\n",
       "    </tr>\n",
       "    <tr>\n",
       "      <th>1225</th>\n",
       "      <td>Back to the Future</td>\n",
       "      <td>1985</td>\n",
       "      <td>6239</td>\n",
       "      <td>8</td>\n",
       "      <td>25.778509</td>\n",
       "      <td>[Adventure, Comedy, Science Fiction]</td>\n",
       "      <td>7.820829</td>\n",
       "    </tr>\n",
       "    <tr>\n",
       "      <th>834</th>\n",
       "      <td>The Godfather</td>\n",
       "      <td>1972</td>\n",
       "      <td>6024</td>\n",
       "      <td>8</td>\n",
       "      <td>41.109264</td>\n",
       "      <td>[Drama, Crime]</td>\n",
       "      <td>7.814864</td>\n",
       "    </tr>\n",
       "    <tr>\n",
       "      <th>1154</th>\n",
       "      <td>The Empire Strikes Back</td>\n",
       "      <td>1980</td>\n",
       "      <td>5998</td>\n",
       "      <td>8</td>\n",
       "      <td>19.470959</td>\n",
       "      <td>[Adventure, Action, Science Fiction]</td>\n",
       "      <td>7.814116</td>\n",
       "    </tr>\n",
       "    <tr>\n",
       "      <th>46</th>\n",
       "      <td>Se7en</td>\n",
       "      <td>1995</td>\n",
       "      <td>5915</td>\n",
       "      <td>8</td>\n",
       "      <td>18.457430</td>\n",
       "      <td>[Crime, Mystery, Thriller]</td>\n",
       "      <td>7.811686</td>\n",
       "    </tr>\n",
       "  </tbody>\n",
       "</table>\n",
       "</div>"
      ],
      "text/plain": [
       "                                                   title  year  vote_count  \\\n",
       "15480                                          Inception  2010       14075   \n",
       "12481                                    The Dark Knight  2008       12269   \n",
       "22879                                       Interstellar  2014       11187   \n",
       "2843                                          Fight Club  1999        9678   \n",
       "4863   The Lord of the Rings: The Fellowship of the Ring  2001        8892   \n",
       "292                                         Pulp Fiction  1994        8670   \n",
       "314                             The Shawshank Redemption  1994        8358   \n",
       "7000       The Lord of the Rings: The Return of the King  2003        8226   \n",
       "351                                         Forrest Gump  1994        8147   \n",
       "5814               The Lord of the Rings: The Two Towers  2002        7641   \n",
       "256                                            Star Wars  1977        6778   \n",
       "1225                                  Back to the Future  1985        6239   \n",
       "834                                        The Godfather  1972        6024   \n",
       "1154                             The Empire Strikes Back  1980        5998   \n",
       "46                                                 Se7en  1995        5915   \n",
       "\n",
       "       vote_average  popularity                                genres  \\\n",
       "15480             8   29.108149   [Action, Thriller, Science Fiction]   \n",
       "12481             8  123.167259                [Drama, Action, Crime]   \n",
       "22879             8   32.213481   [Adventure, Drama, Science Fiction]   \n",
       "2843              8   63.869599                               [Drama]   \n",
       "4863              8   32.070725          [Adventure, Fantasy, Action]   \n",
       "292               8  140.950236                     [Thriller, Crime]   \n",
       "314               8   51.645403                        [Drama, Crime]   \n",
       "7000              8   29.324358          [Adventure, Fantasy, Action]   \n",
       "351               8   48.307194              [Comedy, Drama, Romance]   \n",
       "5814              8   29.423537          [Adventure, Fantasy, Action]   \n",
       "256               8   42.149697  [Adventure, Action, Science Fiction]   \n",
       "1225              8   25.778509  [Adventure, Comedy, Science Fiction]   \n",
       "834               8   41.109264                        [Drama, Crime]   \n",
       "1154              8   19.470959  [Adventure, Action, Science Fiction]   \n",
       "46                8   18.457430            [Crime, Mystery, Thriller]   \n",
       "\n",
       "             wr  \n",
       "15480  7.917596  \n",
       "12481  7.905881  \n",
       "22879  7.897117  \n",
       "2843   7.881764  \n",
       "4863   7.871799  \n",
       "292    7.868673  \n",
       "314    7.864012  \n",
       "7000   7.861940  \n",
       "351    7.860669  \n",
       "5814   7.851938  \n",
       "256    7.834220  \n",
       "1225   7.820829  \n",
       "834    7.814864  \n",
       "1154   7.814116  \n",
       "46     7.811686  "
      ]
     },
     "execution_count": 71,
     "metadata": {},
     "output_type": "execute_result"
    }
   ],
   "source": [
    "qualified.head(15)"
   ]
  },
  {
   "cell_type": "markdown",
   "metadata": {},
   "source": [
    "* We see that three Christopher Nolan Films, __Inception__, __The Dark Knight__ and __Interstellar__ occur at the very top of our chart. \n",
    "* The chart also indicates a strong bias of TMDB Users towards particular genres and directors."
   ]
  },
  {
   "cell_type": "markdown",
   "metadata": {},
   "source": [
    "* Let us now construct our __function that builds charts for particular genres.__\n",
    "\n",
    "* For this, we __relax__ our __default conditions to the 85th percentile instead of 95.__"
   ]
  },
  {
   "cell_type": "code",
   "execution_count": 72,
   "metadata": {
    "execution": {
     "iopub.execute_input": "2024-04-08T07:11:11.213666Z",
     "iopub.status.busy": "2024-04-08T07:11:11.212323Z",
     "iopub.status.idle": "2024-04-08T07:11:24.907527Z",
     "shell.execute_reply": "2024-04-08T07:11:24.906380Z",
     "shell.execute_reply.started": "2024-04-08T07:11:11.213623Z"
    }
   },
   "outputs": [
    {
     "data": {
      "text/html": [
       "<div>\n",
       "<style scoped>\n",
       "    .dataframe tbody tr th:only-of-type {\n",
       "        vertical-align: middle;\n",
       "    }\n",
       "\n",
       "    .dataframe tbody tr th {\n",
       "        vertical-align: top;\n",
       "    }\n",
       "\n",
       "    .dataframe thead th {\n",
       "        text-align: right;\n",
       "    }\n",
       "</style>\n",
       "<table border=\"1\" class=\"dataframe\">\n",
       "  <thead>\n",
       "    <tr style=\"text-align: right;\">\n",
       "      <th></th>\n",
       "      <th>0</th>\n",
       "      <th>0</th>\n",
       "      <th>0</th>\n",
       "    </tr>\n",
       "  </thead>\n",
       "  <tbody>\n",
       "    <tr>\n",
       "      <th>adult</th>\n",
       "      <td>False</td>\n",
       "      <td>False</td>\n",
       "      <td>False</td>\n",
       "    </tr>\n",
       "    <tr>\n",
       "      <th>belongs_to_collection</th>\n",
       "      <td>{'id': 10194, 'name': 'Toy Story Collection', ...</td>\n",
       "      <td>{'id': 10194, 'name': 'Toy Story Collection', ...</td>\n",
       "      <td>{'id': 10194, 'name': 'Toy Story Collection', ...</td>\n",
       "    </tr>\n",
       "    <tr>\n",
       "      <th>budget</th>\n",
       "      <td>30000000</td>\n",
       "      <td>30000000</td>\n",
       "      <td>30000000</td>\n",
       "    </tr>\n",
       "    <tr>\n",
       "      <th>homepage</th>\n",
       "      <td>http://toystory.disney.com/toy-story</td>\n",
       "      <td>http://toystory.disney.com/toy-story</td>\n",
       "      <td>http://toystory.disney.com/toy-story</td>\n",
       "    </tr>\n",
       "    <tr>\n",
       "      <th>id</th>\n",
       "      <td>862</td>\n",
       "      <td>862</td>\n",
       "      <td>862</td>\n",
       "    </tr>\n",
       "    <tr>\n",
       "      <th>imdb_id</th>\n",
       "      <td>tt0114709</td>\n",
       "      <td>tt0114709</td>\n",
       "      <td>tt0114709</td>\n",
       "    </tr>\n",
       "    <tr>\n",
       "      <th>original_language</th>\n",
       "      <td>en</td>\n",
       "      <td>en</td>\n",
       "      <td>en</td>\n",
       "    </tr>\n",
       "    <tr>\n",
       "      <th>original_title</th>\n",
       "      <td>Toy Story</td>\n",
       "      <td>Toy Story</td>\n",
       "      <td>Toy Story</td>\n",
       "    </tr>\n",
       "    <tr>\n",
       "      <th>overview</th>\n",
       "      <td>[Led, by, Woody,, Andy's, toys, live, happily,...</td>\n",
       "      <td>[Led, by, Woody,, Andy's, toys, live, happily,...</td>\n",
       "      <td>[Led, by, Woody,, Andy's, toys, live, happily,...</td>\n",
       "    </tr>\n",
       "    <tr>\n",
       "      <th>popularity</th>\n",
       "      <td>21.946943</td>\n",
       "      <td>21.946943</td>\n",
       "      <td>21.946943</td>\n",
       "    </tr>\n",
       "    <tr>\n",
       "      <th>poster_path</th>\n",
       "      <td>/rhIRbceoE9lR4veEXuwCC2wARtG.jpg</td>\n",
       "      <td>/rhIRbceoE9lR4veEXuwCC2wARtG.jpg</td>\n",
       "      <td>/rhIRbceoE9lR4veEXuwCC2wARtG.jpg</td>\n",
       "    </tr>\n",
       "    <tr>\n",
       "      <th>production_companies</th>\n",
       "      <td>[Pixar Animation Studios]</td>\n",
       "      <td>[Pixar Animation Studios]</td>\n",
       "      <td>[Pixar Animation Studios]</td>\n",
       "    </tr>\n",
       "    <tr>\n",
       "      <th>production_countries</th>\n",
       "      <td>[{'iso_3166_1': 'US', 'name': 'United States o...</td>\n",
       "      <td>[{'iso_3166_1': 'US', 'name': 'United States o...</td>\n",
       "      <td>[{'iso_3166_1': 'US', 'name': 'United States o...</td>\n",
       "    </tr>\n",
       "    <tr>\n",
       "      <th>release_date</th>\n",
       "      <td>1995-10-30 00:00:00</td>\n",
       "      <td>1995-10-30 00:00:00</td>\n",
       "      <td>1995-10-30 00:00:00</td>\n",
       "    </tr>\n",
       "    <tr>\n",
       "      <th>revenue</th>\n",
       "      <td>373554033.0</td>\n",
       "      <td>373554033.0</td>\n",
       "      <td>373554033.0</td>\n",
       "    </tr>\n",
       "    <tr>\n",
       "      <th>runtime</th>\n",
       "      <td>81.0</td>\n",
       "      <td>81.0</td>\n",
       "      <td>81.0</td>\n",
       "    </tr>\n",
       "    <tr>\n",
       "      <th>spoken_languages</th>\n",
       "      <td>[{'iso_639_1': 'en', 'name': 'English'}]</td>\n",
       "      <td>[{'iso_639_1': 'en', 'name': 'English'}]</td>\n",
       "      <td>[{'iso_639_1': 'en', 'name': 'English'}]</td>\n",
       "    </tr>\n",
       "    <tr>\n",
       "      <th>status</th>\n",
       "      <td>Released</td>\n",
       "      <td>Released</td>\n",
       "      <td>Released</td>\n",
       "    </tr>\n",
       "    <tr>\n",
       "      <th>tagline</th>\n",
       "      <td>[]</td>\n",
       "      <td>[]</td>\n",
       "      <td>[]</td>\n",
       "    </tr>\n",
       "    <tr>\n",
       "      <th>title</th>\n",
       "      <td>Toy Story</td>\n",
       "      <td>Toy Story</td>\n",
       "      <td>Toy Story</td>\n",
       "    </tr>\n",
       "    <tr>\n",
       "      <th>video</th>\n",
       "      <td>False</td>\n",
       "      <td>False</td>\n",
       "      <td>False</td>\n",
       "    </tr>\n",
       "    <tr>\n",
       "      <th>vote_average</th>\n",
       "      <td>7.7</td>\n",
       "      <td>7.7</td>\n",
       "      <td>7.7</td>\n",
       "    </tr>\n",
       "    <tr>\n",
       "      <th>vote_count</th>\n",
       "      <td>5415.0</td>\n",
       "      <td>5415.0</td>\n",
       "      <td>5415.0</td>\n",
       "    </tr>\n",
       "    <tr>\n",
       "      <th>release_year</th>\n",
       "      <td>1995.0</td>\n",
       "      <td>1995.0</td>\n",
       "      <td>1995.0</td>\n",
       "    </tr>\n",
       "    <tr>\n",
       "      <th>year</th>\n",
       "      <td>1995</td>\n",
       "      <td>1995</td>\n",
       "      <td>1995</td>\n",
       "    </tr>\n",
       "    <tr>\n",
       "      <th>genre</th>\n",
       "      <td>Animation</td>\n",
       "      <td>Comedy</td>\n",
       "      <td>Family</td>\n",
       "    </tr>\n",
       "  </tbody>\n",
       "</table>\n",
       "</div>"
      ],
      "text/plain": [
       "                                                                       0  \\\n",
       "adult                                                              False   \n",
       "belongs_to_collection  {'id': 10194, 'name': 'Toy Story Collection', ...   \n",
       "budget                                                          30000000   \n",
       "homepage                            http://toystory.disney.com/toy-story   \n",
       "id                                                                   862   \n",
       "imdb_id                                                        tt0114709   \n",
       "original_language                                                     en   \n",
       "original_title                                                 Toy Story   \n",
       "overview               [Led, by, Woody,, Andy's, toys, live, happily,...   \n",
       "popularity                                                     21.946943   \n",
       "poster_path                             /rhIRbceoE9lR4veEXuwCC2wARtG.jpg   \n",
       "production_companies                           [Pixar Animation Studios]   \n",
       "production_countries   [{'iso_3166_1': 'US', 'name': 'United States o...   \n",
       "release_date                                         1995-10-30 00:00:00   \n",
       "revenue                                                      373554033.0   \n",
       "runtime                                                             81.0   \n",
       "spoken_languages                [{'iso_639_1': 'en', 'name': 'English'}]   \n",
       "status                                                          Released   \n",
       "tagline                                                               []   \n",
       "title                                                          Toy Story   \n",
       "video                                                              False   \n",
       "vote_average                                                         7.7   \n",
       "vote_count                                                        5415.0   \n",
       "release_year                                                      1995.0   \n",
       "year                                                                1995   \n",
       "genre                                                          Animation   \n",
       "\n",
       "                                                                       0  \\\n",
       "adult                                                              False   \n",
       "belongs_to_collection  {'id': 10194, 'name': 'Toy Story Collection', ...   \n",
       "budget                                                          30000000   \n",
       "homepage                            http://toystory.disney.com/toy-story   \n",
       "id                                                                   862   \n",
       "imdb_id                                                        tt0114709   \n",
       "original_language                                                     en   \n",
       "original_title                                                 Toy Story   \n",
       "overview               [Led, by, Woody,, Andy's, toys, live, happily,...   \n",
       "popularity                                                     21.946943   \n",
       "poster_path                             /rhIRbceoE9lR4veEXuwCC2wARtG.jpg   \n",
       "production_companies                           [Pixar Animation Studios]   \n",
       "production_countries   [{'iso_3166_1': 'US', 'name': 'United States o...   \n",
       "release_date                                         1995-10-30 00:00:00   \n",
       "revenue                                                      373554033.0   \n",
       "runtime                                                             81.0   \n",
       "spoken_languages                [{'iso_639_1': 'en', 'name': 'English'}]   \n",
       "status                                                          Released   \n",
       "tagline                                                               []   \n",
       "title                                                          Toy Story   \n",
       "video                                                              False   \n",
       "vote_average                                                         7.7   \n",
       "vote_count                                                        5415.0   \n",
       "release_year                                                      1995.0   \n",
       "year                                                                1995   \n",
       "genre                                                             Comedy   \n",
       "\n",
       "                                                                       0  \n",
       "adult                                                              False  \n",
       "belongs_to_collection  {'id': 10194, 'name': 'Toy Story Collection', ...  \n",
       "budget                                                          30000000  \n",
       "homepage                            http://toystory.disney.com/toy-story  \n",
       "id                                                                   862  \n",
       "imdb_id                                                        tt0114709  \n",
       "original_language                                                     en  \n",
       "original_title                                                 Toy Story  \n",
       "overview               [Led, by, Woody,, Andy's, toys, live, happily,...  \n",
       "popularity                                                     21.946943  \n",
       "poster_path                             /rhIRbceoE9lR4veEXuwCC2wARtG.jpg  \n",
       "production_companies                           [Pixar Animation Studios]  \n",
       "production_countries   [{'iso_3166_1': 'US', 'name': 'United States o...  \n",
       "release_date                                         1995-10-30 00:00:00  \n",
       "revenue                                                      373554033.0  \n",
       "runtime                                                             81.0  \n",
       "spoken_languages                [{'iso_639_1': 'en', 'name': 'English'}]  \n",
       "status                                                          Released  \n",
       "tagline                                                               []  \n",
       "title                                                          Toy Story  \n",
       "video                                                              False  \n",
       "vote_average                                                         7.7  \n",
       "vote_count                                                        5415.0  \n",
       "release_year                                                      1995.0  \n",
       "year                                                                1995  \n",
       "genre                                                             Family  "
      ]
     },
     "execution_count": 72,
     "metadata": {},
     "output_type": "execute_result"
    }
   ],
   "source": [
    "s = movies.apply(lambda x: pd.Series(x['genres']),axis=1).stack().reset_index(level=1, drop=True)\n",
    "s.name = 'genre'\n",
    "gen_md = movies.drop('genres', axis=1).join(s)\n",
    "gen_md.head(3).transpose()"
   ]
  },
  {
   "cell_type": "code",
   "execution_count": 73,
   "metadata": {
    "execution": {
     "iopub.execute_input": "2024-04-08T07:11:24.909401Z",
     "iopub.status.busy": "2024-04-08T07:11:24.909022Z",
     "iopub.status.idle": "2024-04-08T07:11:24.917091Z",
     "shell.execute_reply": "2024-04-08T07:11:24.916073Z",
     "shell.execute_reply.started": "2024-04-08T07:11:24.909370Z"
    }
   },
   "outputs": [],
   "source": [
    "def build_chart(genre, percentile=0.85):\n",
    "    df = gen_md[gen_md['genre'] == genre]\n",
    "    vote_counts = df[df['vote_count'].notnull()]['vote_count'].astype('int')\n",
    "    vote_averages = df[df['vote_average'].notnull()]['vote_average'].astype('int')\n",
    "    C = vote_averages.mean()\n",
    "    m = vote_counts.quantile(percentile)\n",
    "    \n",
    "    qualified = df[(df['vote_count'] >= m) & (df['vote_count'].notnull()) & \n",
    "                   (df['vote_average'].notnull())][['title', 'year', 'vote_count', 'vote_average', 'popularity']]\n",
    "    qualified['vote_count'] = qualified['vote_count'].astype('int')\n",
    "    qualified['vote_average'] = qualified['vote_average'].astype('int')\n",
    "    \n",
    "    qualified['wr'] = qualified.apply(lambda x: \n",
    "                        (x['vote_count']/(x['vote_count']+m) * x['vote_average']) + (m/(m+x['vote_count']) * C),\n",
    "                        axis=1)\n",
    "    qualified = qualified.sort_values('wr', ascending=False).head(250)\n",
    "    \n",
    "    return qualified"
   ]
  },
  {
   "cell_type": "markdown",
   "metadata": {},
   "source": [
    "Let us see our method in action by displaying the __Top 15 Romance Movies__ (Romance almost didn't feature at all in our Generic Top Chart despite being one of the most popular movie genres).\n",
    "\n",
    "\n",
    "**Top 15 Romantic Movies**"
   ]
  },
  {
   "cell_type": "code",
   "execution_count": 74,
   "metadata": {
    "execution": {
     "iopub.execute_input": "2024-04-08T07:11:24.918909Z",
     "iopub.status.busy": "2024-04-08T07:11:24.918354Z",
     "iopub.status.idle": "2024-04-08T07:11:25.009442Z",
     "shell.execute_reply": "2024-04-08T07:11:25.008291Z",
     "shell.execute_reply.started": "2024-04-08T07:11:24.918878Z"
    },
    "scrolled": true
   },
   "outputs": [
    {
     "data": {
      "text/html": [
       "<div>\n",
       "<style scoped>\n",
       "    .dataframe tbody tr th:only-of-type {\n",
       "        vertical-align: middle;\n",
       "    }\n",
       "\n",
       "    .dataframe tbody tr th {\n",
       "        vertical-align: top;\n",
       "    }\n",
       "\n",
       "    .dataframe thead th {\n",
       "        text-align: right;\n",
       "    }\n",
       "</style>\n",
       "<table border=\"1\" class=\"dataframe\">\n",
       "  <thead>\n",
       "    <tr style=\"text-align: right;\">\n",
       "      <th></th>\n",
       "      <th>title</th>\n",
       "      <th>year</th>\n",
       "      <th>vote_count</th>\n",
       "      <th>vote_average</th>\n",
       "      <th>popularity</th>\n",
       "      <th>wr</th>\n",
       "    </tr>\n",
       "  </thead>\n",
       "  <tbody>\n",
       "    <tr>\n",
       "      <th>10309</th>\n",
       "      <td>Dilwale Dulhania Le Jayenge</td>\n",
       "      <td>1995</td>\n",
       "      <td>661</td>\n",
       "      <td>9</td>\n",
       "      <td>34.457024</td>\n",
       "      <td>8.593391</td>\n",
       "    </tr>\n",
       "    <tr>\n",
       "      <th>351</th>\n",
       "      <td>Forrest Gump</td>\n",
       "      <td>1994</td>\n",
       "      <td>8147</td>\n",
       "      <td>8</td>\n",
       "      <td>48.307194</td>\n",
       "      <td>7.973403</td>\n",
       "    </tr>\n",
       "    <tr>\n",
       "      <th>876</th>\n",
       "      <td>Vertigo</td>\n",
       "      <td>1958</td>\n",
       "      <td>1162</td>\n",
       "      <td>8</td>\n",
       "      <td>18.208220</td>\n",
       "      <td>7.824299</td>\n",
       "    </tr>\n",
       "    <tr>\n",
       "      <th>40251</th>\n",
       "      <td>Your Name.</td>\n",
       "      <td>2016</td>\n",
       "      <td>1030</td>\n",
       "      <td>8</td>\n",
       "      <td>34.461252</td>\n",
       "      <td>7.803480</td>\n",
       "    </tr>\n",
       "    <tr>\n",
       "      <th>883</th>\n",
       "      <td>Some Like It Hot</td>\n",
       "      <td>1959</td>\n",
       "      <td>835</td>\n",
       "      <td>8</td>\n",
       "      <td>11.845107</td>\n",
       "      <td>7.761781</td>\n",
       "    </tr>\n",
       "  </tbody>\n",
       "</table>\n",
       "</div>"
      ],
      "text/plain": [
       "                             title  year  vote_count  vote_average  \\\n",
       "10309  Dilwale Dulhania Le Jayenge  1995         661             9   \n",
       "351                   Forrest Gump  1994        8147             8   \n",
       "876                        Vertigo  1958        1162             8   \n",
       "40251                   Your Name.  2016        1030             8   \n",
       "883               Some Like It Hot  1959         835             8   \n",
       "\n",
       "       popularity        wr  \n",
       "10309   34.457024  8.593391  \n",
       "351     48.307194  7.973403  \n",
       "876     18.208220  7.824299  \n",
       "40251   34.461252  7.803480  \n",
       "883     11.845107  7.761781  "
      ]
     },
     "execution_count": 74,
     "metadata": {},
     "output_type": "execute_result"
    }
   ],
   "source": [
    "build_chart('Romance').head(5)"
   ]
  },
  {
   "cell_type": "code",
   "execution_count": 75,
   "metadata": {},
   "outputs": [
    {
     "data": {
      "text/html": [
       "<div>\n",
       "<style scoped>\n",
       "    .dataframe tbody tr th:only-of-type {\n",
       "        vertical-align: middle;\n",
       "    }\n",
       "\n",
       "    .dataframe tbody tr th {\n",
       "        vertical-align: top;\n",
       "    }\n",
       "\n",
       "    .dataframe thead th {\n",
       "        text-align: right;\n",
       "    }\n",
       "</style>\n",
       "<table border=\"1\" class=\"dataframe\">\n",
       "  <thead>\n",
       "    <tr style=\"text-align: right;\">\n",
       "      <th></th>\n",
       "      <th>title</th>\n",
       "      <th>year</th>\n",
       "      <th>vote_count</th>\n",
       "      <th>vote_average</th>\n",
       "      <th>popularity</th>\n",
       "      <th>wr</th>\n",
       "    </tr>\n",
       "  </thead>\n",
       "  <tbody>\n",
       "    <tr>\n",
       "      <th>15480</th>\n",
       "      <td>Inception</td>\n",
       "      <td>2010</td>\n",
       "      <td>14075</td>\n",
       "      <td>8</td>\n",
       "      <td>29.108149</td>\n",
       "      <td>7.955030</td>\n",
       "    </tr>\n",
       "    <tr>\n",
       "      <th>12481</th>\n",
       "      <td>The Dark Knight</td>\n",
       "      <td>2008</td>\n",
       "      <td>12269</td>\n",
       "      <td>8</td>\n",
       "      <td>123.167259</td>\n",
       "      <td>7.948530</td>\n",
       "    </tr>\n",
       "    <tr>\n",
       "      <th>4863</th>\n",
       "      <td>The Lord of the Rings: The Fellowship of the Ring</td>\n",
       "      <td>2001</td>\n",
       "      <td>8892</td>\n",
       "      <td>8</td>\n",
       "      <td>32.070725</td>\n",
       "      <td>7.929470</td>\n",
       "    </tr>\n",
       "    <tr>\n",
       "      <th>7000</th>\n",
       "      <td>The Lord of the Rings: The Return of the King</td>\n",
       "      <td>2003</td>\n",
       "      <td>8226</td>\n",
       "      <td>8</td>\n",
       "      <td>29.324358</td>\n",
       "      <td>7.923913</td>\n",
       "    </tr>\n",
       "    <tr>\n",
       "      <th>5814</th>\n",
       "      <td>The Lord of the Rings: The Two Towers</td>\n",
       "      <td>2002</td>\n",
       "      <td>7641</td>\n",
       "      <td>8</td>\n",
       "      <td>29.423537</td>\n",
       "      <td>7.918255</td>\n",
       "    </tr>\n",
       "  </tbody>\n",
       "</table>\n",
       "</div>"
      ],
      "text/plain": [
       "                                                   title  year  vote_count  \\\n",
       "15480                                          Inception  2010       14075   \n",
       "12481                                    The Dark Knight  2008       12269   \n",
       "4863   The Lord of the Rings: The Fellowship of the Ring  2001        8892   \n",
       "7000       The Lord of the Rings: The Return of the King  2003        8226   \n",
       "5814               The Lord of the Rings: The Two Towers  2002        7641   \n",
       "\n",
       "       vote_average  popularity        wr  \n",
       "15480             8   29.108149  7.955030  \n",
       "12481             8  123.167259  7.948530  \n",
       "4863              8   32.070725  7.929470  \n",
       "7000              8   29.324358  7.923913  \n",
       "5814              8   29.423537  7.918255  "
      ]
     },
     "execution_count": 75,
     "metadata": {},
     "output_type": "execute_result"
    }
   ],
   "source": [
    "build_chart('Action').head(5)"
   ]
  },
  {
   "cell_type": "code",
   "execution_count": 76,
   "metadata": {},
   "outputs": [
    {
     "data": {
      "text/html": [
       "<div>\n",
       "<style scoped>\n",
       "    .dataframe tbody tr th:only-of-type {\n",
       "        vertical-align: middle;\n",
       "    }\n",
       "\n",
       "    .dataframe tbody tr th {\n",
       "        vertical-align: top;\n",
       "    }\n",
       "\n",
       "    .dataframe thead th {\n",
       "        text-align: right;\n",
       "    }\n",
       "</style>\n",
       "<table border=\"1\" class=\"dataframe\">\n",
       "  <thead>\n",
       "    <tr style=\"text-align: right;\">\n",
       "      <th></th>\n",
       "      <th>title</th>\n",
       "      <th>year</th>\n",
       "      <th>vote_count</th>\n",
       "      <th>vote_average</th>\n",
       "      <th>popularity</th>\n",
       "      <th>wr</th>\n",
       "    </tr>\n",
       "  </thead>\n",
       "  <tbody>\n",
       "    <tr>\n",
       "      <th>4863</th>\n",
       "      <td>The Lord of the Rings: The Fellowship of the Ring</td>\n",
       "      <td>2001</td>\n",
       "      <td>8892</td>\n",
       "      <td>8</td>\n",
       "      <td>32.070725</td>\n",
       "      <td>7.898973</td>\n",
       "    </tr>\n",
       "    <tr>\n",
       "      <th>7000</th>\n",
       "      <td>The Lord of the Rings: The Return of the King</td>\n",
       "      <td>2003</td>\n",
       "      <td>8226</td>\n",
       "      <td>8</td>\n",
       "      <td>29.324358</td>\n",
       "      <td>7.891130</td>\n",
       "    </tr>\n",
       "    <tr>\n",
       "      <th>5814</th>\n",
       "      <td>The Lord of the Rings: The Two Towers</td>\n",
       "      <td>2002</td>\n",
       "      <td>7641</td>\n",
       "      <td>8</td>\n",
       "      <td>29.423537</td>\n",
       "      <td>7.883163</td>\n",
       "    </tr>\n",
       "    <tr>\n",
       "      <th>3030</th>\n",
       "      <td>The Green Mile</td>\n",
       "      <td>1999</td>\n",
       "      <td>4166</td>\n",
       "      <td>8</td>\n",
       "      <td>19.966780</td>\n",
       "      <td>7.793310</td>\n",
       "    </tr>\n",
       "    <tr>\n",
       "      <th>5481</th>\n",
       "      <td>Spirited Away</td>\n",
       "      <td>2001</td>\n",
       "      <td>3968</td>\n",
       "      <td>8</td>\n",
       "      <td>41.048867</td>\n",
       "      <td>7.783838</td>\n",
       "    </tr>\n",
       "  </tbody>\n",
       "</table>\n",
       "</div>"
      ],
      "text/plain": [
       "                                                  title  year  vote_count  \\\n",
       "4863  The Lord of the Rings: The Fellowship of the Ring  2001        8892   \n",
       "7000      The Lord of the Rings: The Return of the King  2003        8226   \n",
       "5814              The Lord of the Rings: The Two Towers  2002        7641   \n",
       "3030                                     The Green Mile  1999        4166   \n",
       "5481                                      Spirited Away  2001        3968   \n",
       "\n",
       "      vote_average  popularity        wr  \n",
       "4863             8   32.070725  7.898973  \n",
       "7000             8   29.324358  7.891130  \n",
       "5814             8   29.423537  7.883163  \n",
       "3030             8   19.966780  7.793310  \n",
       "5481             8   41.048867  7.783838  "
      ]
     },
     "execution_count": 76,
     "metadata": {},
     "output_type": "execute_result"
    }
   ],
   "source": [
    "build_chart('Fantasy').head(5)"
   ]
  },
  {
   "cell_type": "markdown",
   "metadata": {},
   "source": [
    "### 6.2 Content based recommendation system"
   ]
  },
  {
   "cell_type": "code",
   "execution_count": 77,
   "metadata": {
    "execution": {
     "iopub.execute_input": "2024-04-08T07:11:25.011130Z",
     "iopub.status.busy": "2024-04-08T07:11:25.010811Z",
     "iopub.status.idle": "2024-04-08T07:11:25.018394Z",
     "shell.execute_reply": "2024-04-08T07:11:25.017204Z",
     "shell.execute_reply.started": "2024-04-08T07:11:25.011105Z"
    }
   },
   "outputs": [],
   "source": [
    "links_small = links_small[links_small['tmdbId'].notnull()]['tmdbId'].astype('int')"
   ]
  },
  {
   "cell_type": "code",
   "execution_count": 78,
   "metadata": {
    "execution": {
     "iopub.execute_input": "2024-04-08T07:11:25.128768Z",
     "iopub.status.busy": "2024-04-08T07:11:25.127776Z",
     "iopub.status.idle": "2024-04-08T07:11:25.147103Z",
     "shell.execute_reply": "2024-04-08T07:11:25.145748Z",
     "shell.execute_reply.started": "2024-04-08T07:11:25.128729Z"
    }
   },
   "outputs": [
    {
     "data": {
      "text/plain": [
       "(9099, 26)"
      ]
     },
     "execution_count": 78,
     "metadata": {},
     "output_type": "execute_result"
    }
   ],
   "source": [
    "movies = movies[movies['id'].isin(links_small)]\n",
    "movies.shape\n"
   ]
  },
  {
   "cell_type": "markdown",
   "metadata": {},
   "source": [
    "We have __9099 movies__ available in our small movies metadata dataset which is 5 times smaller than our original dataset of 45000 movies."
   ]
  },
  {
   "cell_type": "markdown",
   "metadata": {},
   "source": [
    "###  Content based recommendation system : Using movie overview and taglines"
   ]
  },
  {
   "cell_type": "markdown",
   "metadata": {},
   "source": [
    "* Let us first try to build a recommender using movie overviews and taglines. \n",
    "* We do not have a quantitative metric to judge our machine's performance so this will have to be done \n",
    "  qualitatively."
   ]
  },
  {
   "cell_type": "code",
   "execution_count": 79,
   "metadata": {},
   "outputs": [],
   "source": [
    "\n",
    "movies['description'] = movies['overview'] + movies['tagline']\n"
   ]
  },
  {
   "cell_type": "code",
   "execution_count": 80,
   "metadata": {},
   "outputs": [
    {
     "data": {
      "text/html": [
       "<div>\n",
       "<style scoped>\n",
       "    .dataframe tbody tr th:only-of-type {\n",
       "        vertical-align: middle;\n",
       "    }\n",
       "\n",
       "    .dataframe tbody tr th {\n",
       "        vertical-align: top;\n",
       "    }\n",
       "\n",
       "    .dataframe thead th {\n",
       "        text-align: right;\n",
       "    }\n",
       "</style>\n",
       "<table border=\"1\" class=\"dataframe\">\n",
       "  <thead>\n",
       "    <tr style=\"text-align: right;\">\n",
       "      <th></th>\n",
       "      <th>adult</th>\n",
       "      <th>belongs_to_collection</th>\n",
       "      <th>budget</th>\n",
       "      <th>genres</th>\n",
       "      <th>homepage</th>\n",
       "      <th>id</th>\n",
       "      <th>imdb_id</th>\n",
       "      <th>original_language</th>\n",
       "      <th>original_title</th>\n",
       "      <th>overview</th>\n",
       "      <th>...</th>\n",
       "      <th>spoken_languages</th>\n",
       "      <th>status</th>\n",
       "      <th>tagline</th>\n",
       "      <th>title</th>\n",
       "      <th>video</th>\n",
       "      <th>vote_average</th>\n",
       "      <th>vote_count</th>\n",
       "      <th>release_year</th>\n",
       "      <th>year</th>\n",
       "      <th>description</th>\n",
       "    </tr>\n",
       "  </thead>\n",
       "  <tbody>\n",
       "    <tr>\n",
       "      <th>0</th>\n",
       "      <td>False</td>\n",
       "      <td>{'id': 10194, 'name': 'Toy Story Collection', ...</td>\n",
       "      <td>30000000</td>\n",
       "      <td>[Animation, Comedy, Family]</td>\n",
       "      <td>http://toystory.disney.com/toy-story</td>\n",
       "      <td>862</td>\n",
       "      <td>tt0114709</td>\n",
       "      <td>en</td>\n",
       "      <td>Toy Story</td>\n",
       "      <td>[Led, by, Woody,, Andy's, toys, live, happily,...</td>\n",
       "      <td>...</td>\n",
       "      <td>[{'iso_639_1': 'en', 'name': 'English'}]</td>\n",
       "      <td>Released</td>\n",
       "      <td>[]</td>\n",
       "      <td>Toy Story</td>\n",
       "      <td>False</td>\n",
       "      <td>7.7</td>\n",
       "      <td>5415.0</td>\n",
       "      <td>1995.0</td>\n",
       "      <td>1995</td>\n",
       "      <td>[Led, by, Woody,, Andy's, toys, live, happily,...</td>\n",
       "    </tr>\n",
       "    <tr>\n",
       "      <th>1</th>\n",
       "      <td>False</td>\n",
       "      <td>NaN</td>\n",
       "      <td>65000000</td>\n",
       "      <td>[Adventure, Fantasy, Family]</td>\n",
       "      <td>NaN</td>\n",
       "      <td>8844</td>\n",
       "      <td>tt0113497</td>\n",
       "      <td>en</td>\n",
       "      <td>Jumanji</td>\n",
       "      <td>[When, siblings, Judy, and, Peter, discover, a...</td>\n",
       "      <td>...</td>\n",
       "      <td>[{'iso_639_1': 'en', 'name': 'English'}, {'iso...</td>\n",
       "      <td>Released</td>\n",
       "      <td>[Roll, the, dice, and, unleash, the, excitement!]</td>\n",
       "      <td>Jumanji</td>\n",
       "      <td>False</td>\n",
       "      <td>6.9</td>\n",
       "      <td>2413.0</td>\n",
       "      <td>1995.0</td>\n",
       "      <td>1995</td>\n",
       "      <td>[When, siblings, Judy, and, Peter, discover, a...</td>\n",
       "    </tr>\n",
       "    <tr>\n",
       "      <th>2</th>\n",
       "      <td>False</td>\n",
       "      <td>{'id': 119050, 'name': 'Grumpy Old Men Collect...</td>\n",
       "      <td>0</td>\n",
       "      <td>[Romance, Comedy]</td>\n",
       "      <td>NaN</td>\n",
       "      <td>15602</td>\n",
       "      <td>tt0113228</td>\n",
       "      <td>en</td>\n",
       "      <td>Grumpier Old Men</td>\n",
       "      <td>[A, family, wedding, reignites, the, ancient, ...</td>\n",
       "      <td>...</td>\n",
       "      <td>[{'iso_639_1': 'en', 'name': 'English'}]</td>\n",
       "      <td>Released</td>\n",
       "      <td>[Still, Yelling., Still, Fighting., Still, Rea...</td>\n",
       "      <td>Grumpier Old Men</td>\n",
       "      <td>False</td>\n",
       "      <td>6.5</td>\n",
       "      <td>92.0</td>\n",
       "      <td>1995.0</td>\n",
       "      <td>1995</td>\n",
       "      <td>[A, family, wedding, reignites, the, ancient, ...</td>\n",
       "    </tr>\n",
       "    <tr>\n",
       "      <th>3</th>\n",
       "      <td>False</td>\n",
       "      <td>NaN</td>\n",
       "      <td>16000000</td>\n",
       "      <td>[Comedy, Drama, Romance]</td>\n",
       "      <td>NaN</td>\n",
       "      <td>31357</td>\n",
       "      <td>tt0114885</td>\n",
       "      <td>en</td>\n",
       "      <td>Waiting to Exhale</td>\n",
       "      <td>[Cheated, on,, mistreated, and, stepped, on,, ...</td>\n",
       "      <td>...</td>\n",
       "      <td>[{'iso_639_1': 'en', 'name': 'English'}]</td>\n",
       "      <td>Released</td>\n",
       "      <td>[Friends, are, the, people, who, let, you, be,...</td>\n",
       "      <td>Waiting to Exhale</td>\n",
       "      <td>False</td>\n",
       "      <td>6.1</td>\n",
       "      <td>34.0</td>\n",
       "      <td>1995.0</td>\n",
       "      <td>1995</td>\n",
       "      <td>[Cheated, on,, mistreated, and, stepped, on,, ...</td>\n",
       "    </tr>\n",
       "    <tr>\n",
       "      <th>4</th>\n",
       "      <td>False</td>\n",
       "      <td>{'id': 96871, 'name': 'Father of the Bride Col...</td>\n",
       "      <td>0</td>\n",
       "      <td>[Comedy]</td>\n",
       "      <td>NaN</td>\n",
       "      <td>11862</td>\n",
       "      <td>tt0113041</td>\n",
       "      <td>en</td>\n",
       "      <td>Father of the Bride Part II</td>\n",
       "      <td>[Just, when, George, Banks, has, recovered, fr...</td>\n",
       "      <td>...</td>\n",
       "      <td>[{'iso_639_1': 'en', 'name': 'English'}]</td>\n",
       "      <td>Released</td>\n",
       "      <td>[Just, When, His, World, Is, Back, To, Normal....</td>\n",
       "      <td>Father of the Bride Part II</td>\n",
       "      <td>False</td>\n",
       "      <td>5.7</td>\n",
       "      <td>173.0</td>\n",
       "      <td>1995.0</td>\n",
       "      <td>1995</td>\n",
       "      <td>[Just, when, George, Banks, has, recovered, fr...</td>\n",
       "    </tr>\n",
       "  </tbody>\n",
       "</table>\n",
       "<p>5 rows × 27 columns</p>\n",
       "</div>"
      ],
      "text/plain": [
       "   adult                              belongs_to_collection    budget  \\\n",
       "0  False  {'id': 10194, 'name': 'Toy Story Collection', ...  30000000   \n",
       "1  False                                                NaN  65000000   \n",
       "2  False  {'id': 119050, 'name': 'Grumpy Old Men Collect...         0   \n",
       "3  False                                                NaN  16000000   \n",
       "4  False  {'id': 96871, 'name': 'Father of the Bride Col...         0   \n",
       "\n",
       "                         genres                              homepage     id  \\\n",
       "0   [Animation, Comedy, Family]  http://toystory.disney.com/toy-story    862   \n",
       "1  [Adventure, Fantasy, Family]                                   NaN   8844   \n",
       "2             [Romance, Comedy]                                   NaN  15602   \n",
       "3      [Comedy, Drama, Romance]                                   NaN  31357   \n",
       "4                      [Comedy]                                   NaN  11862   \n",
       "\n",
       "     imdb_id original_language               original_title  \\\n",
       "0  tt0114709                en                    Toy Story   \n",
       "1  tt0113497                en                      Jumanji   \n",
       "2  tt0113228                en             Grumpier Old Men   \n",
       "3  tt0114885                en            Waiting to Exhale   \n",
       "4  tt0113041                en  Father of the Bride Part II   \n",
       "\n",
       "                                            overview  ...  \\\n",
       "0  [Led, by, Woody,, Andy's, toys, live, happily,...  ...   \n",
       "1  [When, siblings, Judy, and, Peter, discover, a...  ...   \n",
       "2  [A, family, wedding, reignites, the, ancient, ...  ...   \n",
       "3  [Cheated, on,, mistreated, and, stepped, on,, ...  ...   \n",
       "4  [Just, when, George, Banks, has, recovered, fr...  ...   \n",
       "\n",
       "                                    spoken_languages    status  \\\n",
       "0           [{'iso_639_1': 'en', 'name': 'English'}]  Released   \n",
       "1  [{'iso_639_1': 'en', 'name': 'English'}, {'iso...  Released   \n",
       "2           [{'iso_639_1': 'en', 'name': 'English'}]  Released   \n",
       "3           [{'iso_639_1': 'en', 'name': 'English'}]  Released   \n",
       "4           [{'iso_639_1': 'en', 'name': 'English'}]  Released   \n",
       "\n",
       "                                             tagline  \\\n",
       "0                                                 []   \n",
       "1  [Roll, the, dice, and, unleash, the, excitement!]   \n",
       "2  [Still, Yelling., Still, Fighting., Still, Rea...   \n",
       "3  [Friends, are, the, people, who, let, you, be,...   \n",
       "4  [Just, When, His, World, Is, Back, To, Normal....   \n",
       "\n",
       "                         title  video  vote_average  vote_count release_year  \\\n",
       "0                    Toy Story  False           7.7      5415.0       1995.0   \n",
       "1                      Jumanji  False           6.9      2413.0       1995.0   \n",
       "2             Grumpier Old Men  False           6.5        92.0       1995.0   \n",
       "3            Waiting to Exhale  False           6.1        34.0       1995.0   \n",
       "4  Father of the Bride Part II  False           5.7       173.0       1995.0   \n",
       "\n",
       "   year                                        description  \n",
       "0  1995  [Led, by, Woody,, Andy's, toys, live, happily,...  \n",
       "1  1995  [When, siblings, Judy, and, Peter, discover, a...  \n",
       "2  1995  [A, family, wedding, reignites, the, ancient, ...  \n",
       "3  1995  [Cheated, on,, mistreated, and, stepped, on,, ...  \n",
       "4  1995  [Just, when, George, Banks, has, recovered, fr...  \n",
       "\n",
       "[5 rows x 27 columns]"
      ]
     },
     "execution_count": 80,
     "metadata": {},
     "output_type": "execute_result"
    }
   ],
   "source": [
    "movies.head()"
   ]
  },
  {
   "cell_type": "code",
   "execution_count": 81,
   "metadata": {
    "execution": {
     "iopub.execute_input": "2024-04-08T07:11:25.167572Z",
     "iopub.status.busy": "2024-04-08T07:11:25.166766Z",
     "iopub.status.idle": "2024-04-08T07:11:27.154175Z",
     "shell.execute_reply": "2024-04-08T07:11:27.152800Z",
     "shell.execute_reply.started": "2024-04-08T07:11:25.167540Z"
    }
   },
   "outputs": [],
   "source": [
    "tf = TfidfVectorizer(analyzer='word',ngram_range=(1, 2),min_df=0, stop_words='english')\n",
    "movies['description'] = movies['description'].apply(lambda x: ' '.join(x) if isinstance(x, list) else x)\n",
    "\n",
    "tfidf_matrix = tf.fit_transform(movies['description'])"
   ]
  },
  {
   "cell_type": "code",
   "execution_count": 82,
   "metadata": {
    "execution": {
     "iopub.execute_input": "2024-04-08T07:11:27.156247Z",
     "iopub.status.busy": "2024-04-08T07:11:27.155879Z",
     "iopub.status.idle": "2024-04-08T07:11:27.163035Z",
     "shell.execute_reply": "2024-04-08T07:11:27.161725Z",
     "shell.execute_reply.started": "2024-04-08T07:11:27.156207Z"
    }
   },
   "outputs": [
    {
     "data": {
      "text/plain": [
       "(9099, 267952)"
      ]
     },
     "execution_count": 82,
     "metadata": {},
     "output_type": "execute_result"
    }
   ],
   "source": [
    "tfidf_matrix.shape"
   ]
  },
  {
   "cell_type": "markdown",
   "metadata": {},
   "source": [
    "* Since we have used the TF-IDF Vectorizer, calculating the Dot Product will directly give us the Cosine Similarity Score. \n",
    "\n",
    "* Therefore, we will use sklearn's linear_kernel instead of cosine_similarities since it is much faster."
   ]
  },
  {
   "cell_type": "code",
   "execution_count": 83,
   "metadata": {
    "execution": {
     "iopub.execute_input": "2024-04-08T07:11:27.165654Z",
     "iopub.status.busy": "2024-04-08T07:11:27.164888Z",
     "iopub.status.idle": "2024-04-08T07:11:29.258411Z",
     "shell.execute_reply": "2024-04-08T07:11:29.257047Z",
     "shell.execute_reply.started": "2024-04-08T07:11:27.165610Z"
    }
   },
   "outputs": [],
   "source": [
    "\n",
    "cosine_sim = linear_kernel(tfidf_matrix, tfidf_matrix)"
   ]
  },
  {
   "cell_type": "code",
   "execution_count": 84,
   "metadata": {
    "execution": {
     "iopub.execute_input": "2024-04-08T07:11:29.261590Z",
     "iopub.status.busy": "2024-04-08T07:11:29.260817Z",
     "iopub.status.idle": "2024-04-08T07:11:29.269462Z",
     "shell.execute_reply": "2024-04-08T07:11:29.268388Z",
     "shell.execute_reply.started": "2024-04-08T07:11:29.261544Z"
    }
   },
   "outputs": [
    {
     "data": {
      "text/plain": [
       "array([1.        , 0.00680491, 0.        , ..., 0.        , 0.00344926,\n",
       "       0.        ])"
      ]
     },
     "execution_count": 84,
     "metadata": {},
     "output_type": "execute_result"
    }
   ],
   "source": [
    "cosine_sim[0]\n",
    "#cosine_sim.shape"
   ]
  },
  {
   "cell_type": "markdown",
   "metadata": {},
   "source": [
    "* We now have a pairwise cosine similarity matrix for all the movies in our dataset. \n",
    "* The next step is to write a function that returns the 30 most similar movies based on the cosine similarity score."
   ]
  },
  {
   "cell_type": "code",
   "execution_count": 85,
   "metadata": {
    "execution": {
     "iopub.execute_input": "2024-04-08T07:11:29.271649Z",
     "iopub.status.busy": "2024-04-08T07:11:29.271272Z",
     "iopub.status.idle": "2024-04-08T07:11:29.404990Z",
     "shell.execute_reply": "2024-04-08T07:11:29.403841Z",
     "shell.execute_reply.started": "2024-04-08T07:11:29.271620Z"
    }
   },
   "outputs": [
    {
     "data": {
      "text/plain": [
       "title\n",
       "Toy Story    0\n",
       "Jumanji      1\n",
       "dtype: int64"
      ]
     },
     "execution_count": 85,
     "metadata": {},
     "output_type": "execute_result"
    }
   ],
   "source": [
    "movies.drop(columns=['level_0'], inplace=True, errors='ignore')\n",
    "movies = movies.reset_index(drop=True)\n",
    "\n",
    "titles = movies['title']\n",
    "indices = pd.Series(movies.index, index=movies['title'])\n",
    "indices.head(2)"
   ]
  },
  {
   "cell_type": "code",
   "execution_count": 86,
   "metadata": {
    "execution": {
     "iopub.execute_input": "2024-04-08T07:11:29.407400Z",
     "iopub.status.busy": "2024-04-08T07:11:29.406903Z",
     "iopub.status.idle": "2024-04-08T07:11:29.414229Z",
     "shell.execute_reply": "2024-04-08T07:11:29.413341Z",
     "shell.execute_reply.started": "2024-04-08T07:11:29.407360Z"
    }
   },
   "outputs": [],
   "source": [
    "def get_recommendations(title):\n",
    "    idx = indices[title]\n",
    "    sim_scores = list(enumerate(cosine_sim[idx]))\n",
    "    sim_scores = sorted(sim_scores, key=lambda x: x[1], reverse=True)\n",
    "    sim_scores = sim_scores[1:31]\n",
    "    movie_indices = [i[0] for i in sim_scores]\n",
    "    return titles.iloc[movie_indices]"
   ]
  },
  {
   "cell_type": "markdown",
   "metadata": {},
   "source": [
    "* We're all set...!\n",
    "* Let us now try and get the top recommendations for a few movies and see how good the recommendations are."
   ]
  },
  {
   "cell_type": "code",
   "execution_count": 87,
   "metadata": {
    "execution": {
     "iopub.execute_input": "2024-04-08T07:11:29.416932Z",
     "iopub.status.busy": "2024-04-08T07:11:29.415755Z",
     "iopub.status.idle": "2024-04-08T07:11:29.441342Z",
     "shell.execute_reply": "2024-04-08T07:11:29.440176Z",
     "shell.execute_reply.started": "2024-04-08T07:11:29.416897Z"
    }
   },
   "outputs": [
    {
     "data": {
      "text/plain": [
       "973      The Godfather: Part II\n",
       "8387                 The Family\n",
       "3509                       Made\n",
       "4196         Johnny Dangerously\n",
       "29               Shanghai Triad\n",
       "5667                       Fury\n",
       "2412             American Movie\n",
       "1582    The Godfather: Part III\n",
       "4221                    8 Women\n",
       "2159              Summer of Sam\n",
       "Name: title, dtype: object"
      ]
     },
     "execution_count": 87,
     "metadata": {},
     "output_type": "execute_result"
    }
   ],
   "source": [
    "get_recommendations('The Godfather').head(10)"
   ]
  },
  {
   "cell_type": "code",
   "execution_count": 88,
   "metadata": {
    "execution": {
     "iopub.execute_input": "2024-04-08T07:11:29.443199Z",
     "iopub.status.busy": "2024-04-08T07:11:29.442714Z",
     "iopub.status.idle": "2024-04-08T07:11:29.462615Z",
     "shell.execute_reply": "2024-04-08T07:11:29.461259Z",
     "shell.execute_reply.started": "2024-04-08T07:11:29.443167Z"
    }
   },
   "outputs": [
    {
     "data": {
      "text/plain": [
       "7931                      The Dark Knight Rises\n",
       "132                              Batman Forever\n",
       "1113                             Batman Returns\n",
       "8227    Batman: The Dark Knight Returns, Part 2\n",
       "7565                 Batman: Under the Red Hood\n",
       "524                                      Batman\n",
       "7901                           Batman: Year One\n",
       "2579               Batman: Mask of the Phantasm\n",
       "2696                                        JFK\n",
       "8165    Batman: The Dark Knight Returns, Part 1\n",
       "Name: title, dtype: object"
      ]
     },
     "execution_count": 88,
     "metadata": {},
     "output_type": "execute_result"
    }
   ],
   "source": [
    "get_recommendations('The Dark Knight').head(10)"
   ]
  },
  {
   "cell_type": "markdown",
   "metadata": {},
   "source": [
    "* We see that for The __Dark Knight__, our system is able to identify it as a __Batman film and subsequently recommend other Batman films__ as its top recommendations.\n",
    "\n",
    "* But unfortunately, that is all this system can do at the moment. \n",
    "\n",
    "* This is not of much use to most people as it doesn't take into considerations very important features such as cast, crew, director and genre, which determine the rating and the popularity of a movie. \n",
    "\n",
    "* Someone who liked The Dark Knight probably likes it more because of Nolan and would hate Batman Forever and every other substandard movie in the Batman Franchise."
   ]
  },
  {
   "cell_type": "markdown",
   "metadata": {},
   "source": [
    "* Therefore, we are going to use much more suggestive metadata than Overview and Tagline. \n",
    "* In the next subsection, we will build a more sophisticated recommender that takes __genre, keywords, cast and crew__ into consideration."
   ]
  },
  {
   "cell_type": "code",
   "execution_count": 89,
   "metadata": {
    "execution": {
     "iopub.execute_input": "2024-04-08T07:11:29.488790Z",
     "iopub.status.busy": "2024-04-08T07:11:29.488425Z",
     "iopub.status.idle": "2024-04-08T07:11:29.683328Z",
     "shell.execute_reply": "2024-04-08T07:11:29.682230Z",
     "shell.execute_reply.started": "2024-04-08T07:11:29.488761Z"
    }
   },
   "outputs": [],
   "source": [
    "movies = movies.merge(credits, on='id')\n",
    "movies = movies.merge(keywords, on='id')"
   ]
  },
  {
   "cell_type": "code",
   "execution_count": 90,
   "metadata": {
    "execution": {
     "iopub.execute_input": "2024-04-08T07:11:29.685187Z",
     "iopub.status.busy": "2024-04-08T07:11:29.684861Z",
     "iopub.status.idle": "2024-04-08T07:11:29.700672Z",
     "shell.execute_reply": "2024-04-08T07:11:29.699878Z",
     "shell.execute_reply.started": "2024-04-08T07:11:29.685161Z"
    }
   },
   "outputs": [
    {
     "data": {
      "text/plain": [
       "(9219, 30)"
      ]
     },
     "execution_count": 90,
     "metadata": {},
     "output_type": "execute_result"
    }
   ],
   "source": [
    "smd = movies[movies['id'].isin(links_small)]\n",
    "smd.shape\n"
   ]
  },
  {
   "cell_type": "code",
   "execution_count": 91,
   "metadata": {},
   "outputs": [
    {
     "data": {
      "text/html": [
       "<div>\n",
       "<style scoped>\n",
       "    .dataframe tbody tr th:only-of-type {\n",
       "        vertical-align: middle;\n",
       "    }\n",
       "\n",
       "    .dataframe tbody tr th {\n",
       "        vertical-align: top;\n",
       "    }\n",
       "\n",
       "    .dataframe thead th {\n",
       "        text-align: right;\n",
       "    }\n",
       "</style>\n",
       "<table border=\"1\" class=\"dataframe\">\n",
       "  <thead>\n",
       "    <tr style=\"text-align: right;\">\n",
       "      <th></th>\n",
       "      <th>adult</th>\n",
       "      <th>belongs_to_collection</th>\n",
       "      <th>budget</th>\n",
       "      <th>genres</th>\n",
       "      <th>homepage</th>\n",
       "      <th>id</th>\n",
       "      <th>imdb_id</th>\n",
       "      <th>original_language</th>\n",
       "      <th>original_title</th>\n",
       "      <th>overview</th>\n",
       "      <th>...</th>\n",
       "      <th>title</th>\n",
       "      <th>video</th>\n",
       "      <th>vote_average</th>\n",
       "      <th>vote_count</th>\n",
       "      <th>release_year</th>\n",
       "      <th>year</th>\n",
       "      <th>description</th>\n",
       "      <th>cast</th>\n",
       "      <th>crew</th>\n",
       "      <th>keywords</th>\n",
       "    </tr>\n",
       "  </thead>\n",
       "  <tbody>\n",
       "    <tr>\n",
       "      <th>0</th>\n",
       "      <td>False</td>\n",
       "      <td>{'id': 10194, 'name': 'Toy Story Collection', ...</td>\n",
       "      <td>30000000</td>\n",
       "      <td>[Animation, Comedy, Family]</td>\n",
       "      <td>http://toystory.disney.com/toy-story</td>\n",
       "      <td>862</td>\n",
       "      <td>tt0114709</td>\n",
       "      <td>en</td>\n",
       "      <td>Toy Story</td>\n",
       "      <td>[Led, by, Woody,, Andy's, toys, live, happily,...</td>\n",
       "      <td>...</td>\n",
       "      <td>Toy Story</td>\n",
       "      <td>False</td>\n",
       "      <td>7.7</td>\n",
       "      <td>5415.0</td>\n",
       "      <td>1995.0</td>\n",
       "      <td>1995</td>\n",
       "      <td>Led by Woody, Andy's toys live happily in his ...</td>\n",
       "      <td>[Tom Hanks, Tim Allen, Don Rickles]</td>\n",
       "      <td>[John Lasseter]</td>\n",
       "      <td>[jealousy, toy, boy, friendship, friends, riva...</td>\n",
       "    </tr>\n",
       "    <tr>\n",
       "      <th>1</th>\n",
       "      <td>False</td>\n",
       "      <td>NaN</td>\n",
       "      <td>65000000</td>\n",
       "      <td>[Adventure, Fantasy, Family]</td>\n",
       "      <td>NaN</td>\n",
       "      <td>8844</td>\n",
       "      <td>tt0113497</td>\n",
       "      <td>en</td>\n",
       "      <td>Jumanji</td>\n",
       "      <td>[When, siblings, Judy, and, Peter, discover, a...</td>\n",
       "      <td>...</td>\n",
       "      <td>Jumanji</td>\n",
       "      <td>False</td>\n",
       "      <td>6.9</td>\n",
       "      <td>2413.0</td>\n",
       "      <td>1995.0</td>\n",
       "      <td>1995</td>\n",
       "      <td>When siblings Judy and Peter discover an encha...</td>\n",
       "      <td>[Robin Williams, Jonathan Hyde, Kirsten Dunst]</td>\n",
       "      <td>[Joe Johnston]</td>\n",
       "      <td>[board game, disappearance, based on children'...</td>\n",
       "    </tr>\n",
       "    <tr>\n",
       "      <th>2</th>\n",
       "      <td>False</td>\n",
       "      <td>{'id': 119050, 'name': 'Grumpy Old Men Collect...</td>\n",
       "      <td>0</td>\n",
       "      <td>[Romance, Comedy]</td>\n",
       "      <td>NaN</td>\n",
       "      <td>15602</td>\n",
       "      <td>tt0113228</td>\n",
       "      <td>en</td>\n",
       "      <td>Grumpier Old Men</td>\n",
       "      <td>[A, family, wedding, reignites, the, ancient, ...</td>\n",
       "      <td>...</td>\n",
       "      <td>Grumpier Old Men</td>\n",
       "      <td>False</td>\n",
       "      <td>6.5</td>\n",
       "      <td>92.0</td>\n",
       "      <td>1995.0</td>\n",
       "      <td>1995</td>\n",
       "      <td>A family wedding reignites the ancient feud be...</td>\n",
       "      <td>[Walter Matthau, Jack Lemmon, Ann-Margret]</td>\n",
       "      <td>[Howard Deutch]</td>\n",
       "      <td>[fishing, best friend, duringcreditsstinger, o...</td>\n",
       "    </tr>\n",
       "    <tr>\n",
       "      <th>3</th>\n",
       "      <td>False</td>\n",
       "      <td>NaN</td>\n",
       "      <td>16000000</td>\n",
       "      <td>[Comedy, Drama, Romance]</td>\n",
       "      <td>NaN</td>\n",
       "      <td>31357</td>\n",
       "      <td>tt0114885</td>\n",
       "      <td>en</td>\n",
       "      <td>Waiting to Exhale</td>\n",
       "      <td>[Cheated, on,, mistreated, and, stepped, on,, ...</td>\n",
       "      <td>...</td>\n",
       "      <td>Waiting to Exhale</td>\n",
       "      <td>False</td>\n",
       "      <td>6.1</td>\n",
       "      <td>34.0</td>\n",
       "      <td>1995.0</td>\n",
       "      <td>1995</td>\n",
       "      <td>Cheated on, mistreated and stepped on, the wom...</td>\n",
       "      <td>[Whitney Houston, Angela Bassett, Loretta Devine]</td>\n",
       "      <td>[Forest Whitaker]</td>\n",
       "      <td>[based on novel, interracial relationship, sin...</td>\n",
       "    </tr>\n",
       "    <tr>\n",
       "      <th>4</th>\n",
       "      <td>False</td>\n",
       "      <td>{'id': 96871, 'name': 'Father of the Bride Col...</td>\n",
       "      <td>0</td>\n",
       "      <td>[Comedy]</td>\n",
       "      <td>NaN</td>\n",
       "      <td>11862</td>\n",
       "      <td>tt0113041</td>\n",
       "      <td>en</td>\n",
       "      <td>Father of the Bride Part II</td>\n",
       "      <td>[Just, when, George, Banks, has, recovered, fr...</td>\n",
       "      <td>...</td>\n",
       "      <td>Father of the Bride Part II</td>\n",
       "      <td>False</td>\n",
       "      <td>5.7</td>\n",
       "      <td>173.0</td>\n",
       "      <td>1995.0</td>\n",
       "      <td>1995</td>\n",
       "      <td>Just when George Banks has recovered from his ...</td>\n",
       "      <td>[Steve Martin, Diane Keaton, Martin Short]</td>\n",
       "      <td>[Charles Shyer]</td>\n",
       "      <td>[baby, midlife crisis, confidence, aging, daug...</td>\n",
       "    </tr>\n",
       "  </tbody>\n",
       "</table>\n",
       "<p>5 rows × 30 columns</p>\n",
       "</div>"
      ],
      "text/plain": [
       "   adult                              belongs_to_collection    budget  \\\n",
       "0  False  {'id': 10194, 'name': 'Toy Story Collection', ...  30000000   \n",
       "1  False                                                NaN  65000000   \n",
       "2  False  {'id': 119050, 'name': 'Grumpy Old Men Collect...         0   \n",
       "3  False                                                NaN  16000000   \n",
       "4  False  {'id': 96871, 'name': 'Father of the Bride Col...         0   \n",
       "\n",
       "                         genres                              homepage     id  \\\n",
       "0   [Animation, Comedy, Family]  http://toystory.disney.com/toy-story    862   \n",
       "1  [Adventure, Fantasy, Family]                                   NaN   8844   \n",
       "2             [Romance, Comedy]                                   NaN  15602   \n",
       "3      [Comedy, Drama, Romance]                                   NaN  31357   \n",
       "4                      [Comedy]                                   NaN  11862   \n",
       "\n",
       "     imdb_id original_language               original_title  \\\n",
       "0  tt0114709                en                    Toy Story   \n",
       "1  tt0113497                en                      Jumanji   \n",
       "2  tt0113228                en             Grumpier Old Men   \n",
       "3  tt0114885                en            Waiting to Exhale   \n",
       "4  tt0113041                en  Father of the Bride Part II   \n",
       "\n",
       "                                            overview  ...  \\\n",
       "0  [Led, by, Woody,, Andy's, toys, live, happily,...  ...   \n",
       "1  [When, siblings, Judy, and, Peter, discover, a...  ...   \n",
       "2  [A, family, wedding, reignites, the, ancient, ...  ...   \n",
       "3  [Cheated, on,, mistreated, and, stepped, on,, ...  ...   \n",
       "4  [Just, when, George, Banks, has, recovered, fr...  ...   \n",
       "\n",
       "                         title  video vote_average vote_count release_year  \\\n",
       "0                    Toy Story  False          7.7     5415.0       1995.0   \n",
       "1                      Jumanji  False          6.9     2413.0       1995.0   \n",
       "2             Grumpier Old Men  False          6.5       92.0       1995.0   \n",
       "3            Waiting to Exhale  False          6.1       34.0       1995.0   \n",
       "4  Father of the Bride Part II  False          5.7      173.0       1995.0   \n",
       "\n",
       "   year                                        description  \\\n",
       "0  1995  Led by Woody, Andy's toys live happily in his ...   \n",
       "1  1995  When siblings Judy and Peter discover an encha...   \n",
       "2  1995  A family wedding reignites the ancient feud be...   \n",
       "3  1995  Cheated on, mistreated and stepped on, the wom...   \n",
       "4  1995  Just when George Banks has recovered from his ...   \n",
       "\n",
       "                                                cast               crew  \\\n",
       "0                [Tom Hanks, Tim Allen, Don Rickles]    [John Lasseter]   \n",
       "1     [Robin Williams, Jonathan Hyde, Kirsten Dunst]     [Joe Johnston]   \n",
       "2         [Walter Matthau, Jack Lemmon, Ann-Margret]    [Howard Deutch]   \n",
       "3  [Whitney Houston, Angela Bassett, Loretta Devine]  [Forest Whitaker]   \n",
       "4         [Steve Martin, Diane Keaton, Martin Short]    [Charles Shyer]   \n",
       "\n",
       "                                            keywords  \n",
       "0  [jealousy, toy, boy, friendship, friends, riva...  \n",
       "1  [board game, disappearance, based on children'...  \n",
       "2  [fishing, best friend, duringcreditsstinger, o...  \n",
       "3  [based on novel, interracial relationship, sin...  \n",
       "4  [baby, midlife crisis, confidence, aging, daug...  \n",
       "\n",
       "[5 rows x 30 columns]"
      ]
     },
     "execution_count": 91,
     "metadata": {},
     "output_type": "execute_result"
    }
   ],
   "source": [
    "smd.head()"
   ]
  },
  {
   "cell_type": "markdown",
   "metadata": {},
   "source": [
    "We now have our cast, crew, genres and credits, all in one dataframe. "
   ]
  },
  {
   "cell_type": "markdown",
   "metadata": {},
   "source": [
    "* Approach to building the recommender is going to be extremely hacky. \n",
    "\n",
    "* What I plan on doing is creating a metadata dump for every movie which consists of genres, director, main actors and keywords. \n",
    "\n",
    "* I then use a __Count Vectorizer__ to create our __count matrix__\n",
    "\n",
    "* The remaining steps are similar to what we did earlier: we calculate the cosine similarities and return movies that are most similar."
   ]
  },
  {
   "cell_type": "markdown",
   "metadata": {},
   "source": [
    "These are steps I follow in the preparation of my genres and credits data:\n",
    "\n",
    "1. __Strip Spaces and Convert to Lowercase__ from all our features. This way, our engine will not confuse between __Johnny Depp and Johnny Galecki.__\n",
    "2. __Mention Director 2 times__ to give it __more weight relative to the entire cast.__"
   ]
  },
  {
   "cell_type": "code",
   "execution_count": 92,
   "metadata": {},
   "outputs": [],
   "source": [
    "smd['cast'] = smd['cast'].apply(lambda x: [str.lower(i.replace(\" \", \"\")) for i in x])\n",
    "smd['crew'] = smd['crew'].astype('str').apply(lambda x: str.lower(x.replace(\" \", \"\")))\n",
    "smd['crew'] = smd['crew'].apply(lambda x: [x,x, x])"
   ]
  },
  {
   "cell_type": "markdown",
   "metadata": {},
   "source": [
    "**Keywords**\n",
    "\n",
    "* We will do a small amount of pre-processing of our keywords before putting them to any use. \n",
    "* we __calculate the frequenct counts of every keyword__ that appears in the dataset."
   ]
  },
  {
   "cell_type": "code",
   "execution_count": 93,
   "metadata": {
    "execution": {
     "iopub.execute_input": "2024-04-08T07:11:46.510881Z",
     "iopub.status.busy": "2024-04-08T07:11:46.510173Z",
     "iopub.status.idle": "2024-04-08T07:11:49.388146Z",
     "shell.execute_reply": "2024-04-08T07:11:49.386966Z",
     "shell.execute_reply.started": "2024-04-08T07:11:46.510838Z"
    }
   },
   "outputs": [
    {
     "data": {
      "text/plain": [
       "independent film        610\n",
       "woman director          550\n",
       "murder                  399\n",
       "duringcreditsstinger    327\n",
       "based on novel          318\n",
       "Name: keyword, dtype: int64"
      ]
     },
     "execution_count": 93,
     "metadata": {},
     "output_type": "execute_result"
    }
   ],
   "source": [
    "s = smd.apply(lambda x: pd.Series(x['keywords']),axis=1).stack().reset_index(level=1, drop=True)\n",
    "s.name = 'keyword'\n",
    "s = s.value_counts()\n",
    "s[:5]"
   ]
  },
  {
   "cell_type": "markdown",
   "metadata": {},
   "source": [
    "* Keywords occur in frequencies ranging from 1 to 610.\n",
    "* We do not have any use for keywords that occur only once. \n",
    "* Therefore, these can be safely removed. \n",
    "* Finally, we will convert every word to its stem so that words such as __Dogs__ and __Dog__ are considered the same."
   ]
  },
  {
   "cell_type": "code",
   "execution_count": 94,
   "metadata": {
    "execution": {
     "iopub.execute_input": "2024-04-08T07:11:49.390974Z",
     "iopub.status.busy": "2024-04-08T07:11:49.390114Z",
     "iopub.status.idle": "2024-04-08T07:11:49.399735Z",
     "shell.execute_reply": "2024-04-08T07:11:49.398710Z",
     "shell.execute_reply.started": "2024-04-08T07:11:49.390928Z"
    }
   },
   "outputs": [],
   "source": [
    "s = s[s > 1]"
   ]
  },
  {
   "cell_type": "code",
   "execution_count": 95,
   "metadata": {
    "execution": {
     "iopub.execute_input": "2024-04-08T07:11:49.401451Z",
     "iopub.status.busy": "2024-04-08T07:11:49.401030Z",
     "iopub.status.idle": "2024-04-08T07:11:49.410740Z",
     "shell.execute_reply": "2024-04-08T07:11:49.409548Z",
     "shell.execute_reply.started": "2024-04-08T07:11:49.401421Z"
    }
   },
   "outputs": [
    {
     "data": {
      "text/plain": [
       "'dog'"
      ]
     },
     "execution_count": 95,
     "metadata": {},
     "output_type": "execute_result"
    }
   ],
   "source": [
    "# Just an example\n",
    "stemmer = SnowballStemmer('english')\n",
    "stemmer.stem('dogs')"
   ]
  },
  {
   "cell_type": "code",
   "execution_count": 96,
   "metadata": {
    "execution": {
     "iopub.execute_input": "2024-04-08T07:11:49.412333Z",
     "iopub.status.busy": "2024-04-08T07:11:49.411993Z",
     "iopub.status.idle": "2024-04-08T07:11:49.420597Z",
     "shell.execute_reply": "2024-04-08T07:11:49.419533Z",
     "shell.execute_reply.started": "2024-04-08T07:11:49.412306Z"
    }
   },
   "outputs": [],
   "source": [
    "def filter_keywords(x):\n",
    "    words = []\n",
    "    for i in x:\n",
    "        if i in s:\n",
    "            words.append(i)\n",
    "    return words"
   ]
  },
  {
   "cell_type": "code",
   "execution_count": 97,
   "metadata": {
    "execution": {
     "iopub.execute_input": "2024-04-08T07:11:49.422147Z",
     "iopub.status.busy": "2024-04-08T07:11:49.421798Z",
     "iopub.status.idle": "2024-04-08T07:11:50.518697Z",
     "shell.execute_reply": "2024-04-08T07:11:50.517515Z",
     "shell.execute_reply.started": "2024-04-08T07:11:49.422121Z"
    }
   },
   "outputs": [],
   "source": [
    "smd['tags'] = smd['overview'] + smd['genres']+ smd['cast'] + smd['crew'] + smd['keywords'] + smd['production_companies']"
   ]
  },
  {
   "cell_type": "code",
   "execution_count": 98,
   "metadata": {
    "execution": {
     "iopub.execute_input": "2024-04-08T07:11:50.520428Z",
     "iopub.status.busy": "2024-04-08T07:11:50.520075Z",
     "iopub.status.idle": "2024-04-08T07:11:50.571164Z",
     "shell.execute_reply": "2024-04-08T07:11:50.569985Z",
     "shell.execute_reply.started": "2024-04-08T07:11:50.520398Z"
    }
   },
   "outputs": [],
   "source": [
    "smd['tags'] = smd['tags'].apply(lambda x:\" \".join(x))"
   ]
  },
  {
   "cell_type": "code",
   "execution_count": 99,
   "metadata": {},
   "outputs": [
    {
     "data": {
      "text/html": [
       "<div>\n",
       "<style scoped>\n",
       "    .dataframe tbody tr th:only-of-type {\n",
       "        vertical-align: middle;\n",
       "    }\n",
       "\n",
       "    .dataframe tbody tr th {\n",
       "        vertical-align: top;\n",
       "    }\n",
       "\n",
       "    .dataframe thead th {\n",
       "        text-align: right;\n",
       "    }\n",
       "</style>\n",
       "<table border=\"1\" class=\"dataframe\">\n",
       "  <thead>\n",
       "    <tr style=\"text-align: right;\">\n",
       "      <th></th>\n",
       "      <th>adult</th>\n",
       "      <th>belongs_to_collection</th>\n",
       "      <th>budget</th>\n",
       "      <th>genres</th>\n",
       "      <th>homepage</th>\n",
       "      <th>id</th>\n",
       "      <th>imdb_id</th>\n",
       "      <th>original_language</th>\n",
       "      <th>original_title</th>\n",
       "      <th>overview</th>\n",
       "      <th>...</th>\n",
       "      <th>video</th>\n",
       "      <th>vote_average</th>\n",
       "      <th>vote_count</th>\n",
       "      <th>release_year</th>\n",
       "      <th>year</th>\n",
       "      <th>description</th>\n",
       "      <th>cast</th>\n",
       "      <th>crew</th>\n",
       "      <th>keywords</th>\n",
       "      <th>tags</th>\n",
       "    </tr>\n",
       "  </thead>\n",
       "  <tbody>\n",
       "    <tr>\n",
       "      <th>0</th>\n",
       "      <td>False</td>\n",
       "      <td>{'id': 10194, 'name': 'Toy Story Collection', ...</td>\n",
       "      <td>30000000</td>\n",
       "      <td>[Animation, Comedy, Family]</td>\n",
       "      <td>http://toystory.disney.com/toy-story</td>\n",
       "      <td>862</td>\n",
       "      <td>tt0114709</td>\n",
       "      <td>en</td>\n",
       "      <td>Toy Story</td>\n",
       "      <td>[Led, by, Woody,, Andy's, toys, live, happily,...</td>\n",
       "      <td>...</td>\n",
       "      <td>False</td>\n",
       "      <td>7.7</td>\n",
       "      <td>5415.0</td>\n",
       "      <td>1995.0</td>\n",
       "      <td>1995</td>\n",
       "      <td>Led by Woody, Andy's toys live happily in his ...</td>\n",
       "      <td>[tomhanks, timallen, donrickles]</td>\n",
       "      <td>[['johnlasseter'], ['johnlasseter'], ['johnlas...</td>\n",
       "      <td>[jealousy, toy, boy, friendship, friends, riva...</td>\n",
       "      <td>Led by Woody, Andy's toys live happily in his ...</td>\n",
       "    </tr>\n",
       "    <tr>\n",
       "      <th>1</th>\n",
       "      <td>False</td>\n",
       "      <td>NaN</td>\n",
       "      <td>65000000</td>\n",
       "      <td>[Adventure, Fantasy, Family]</td>\n",
       "      <td>NaN</td>\n",
       "      <td>8844</td>\n",
       "      <td>tt0113497</td>\n",
       "      <td>en</td>\n",
       "      <td>Jumanji</td>\n",
       "      <td>[When, siblings, Judy, and, Peter, discover, a...</td>\n",
       "      <td>...</td>\n",
       "      <td>False</td>\n",
       "      <td>6.9</td>\n",
       "      <td>2413.0</td>\n",
       "      <td>1995.0</td>\n",
       "      <td>1995</td>\n",
       "      <td>When siblings Judy and Peter discover an encha...</td>\n",
       "      <td>[robinwilliams, jonathanhyde, kirstendunst]</td>\n",
       "      <td>[['joejohnston'], ['joejohnston'], ['joejohnst...</td>\n",
       "      <td>[board game, disappearance, based on children'...</td>\n",
       "      <td>When siblings Judy and Peter discover an encha...</td>\n",
       "    </tr>\n",
       "    <tr>\n",
       "      <th>2</th>\n",
       "      <td>False</td>\n",
       "      <td>{'id': 119050, 'name': 'Grumpy Old Men Collect...</td>\n",
       "      <td>0</td>\n",
       "      <td>[Romance, Comedy]</td>\n",
       "      <td>NaN</td>\n",
       "      <td>15602</td>\n",
       "      <td>tt0113228</td>\n",
       "      <td>en</td>\n",
       "      <td>Grumpier Old Men</td>\n",
       "      <td>[A, family, wedding, reignites, the, ancient, ...</td>\n",
       "      <td>...</td>\n",
       "      <td>False</td>\n",
       "      <td>6.5</td>\n",
       "      <td>92.0</td>\n",
       "      <td>1995.0</td>\n",
       "      <td>1995</td>\n",
       "      <td>A family wedding reignites the ancient feud be...</td>\n",
       "      <td>[waltermatthau, jacklemmon, ann-margret]</td>\n",
       "      <td>[['howarddeutch'], ['howarddeutch'], ['howardd...</td>\n",
       "      <td>[fishing, best friend, duringcreditsstinger, o...</td>\n",
       "      <td>A family wedding reignites the ancient feud be...</td>\n",
       "    </tr>\n",
       "    <tr>\n",
       "      <th>3</th>\n",
       "      <td>False</td>\n",
       "      <td>NaN</td>\n",
       "      <td>16000000</td>\n",
       "      <td>[Comedy, Drama, Romance]</td>\n",
       "      <td>NaN</td>\n",
       "      <td>31357</td>\n",
       "      <td>tt0114885</td>\n",
       "      <td>en</td>\n",
       "      <td>Waiting to Exhale</td>\n",
       "      <td>[Cheated, on,, mistreated, and, stepped, on,, ...</td>\n",
       "      <td>...</td>\n",
       "      <td>False</td>\n",
       "      <td>6.1</td>\n",
       "      <td>34.0</td>\n",
       "      <td>1995.0</td>\n",
       "      <td>1995</td>\n",
       "      <td>Cheated on, mistreated and stepped on, the wom...</td>\n",
       "      <td>[whitneyhouston, angelabassett, lorettadevine]</td>\n",
       "      <td>[['forestwhitaker'], ['forestwhitaker'], ['for...</td>\n",
       "      <td>[based on novel, interracial relationship, sin...</td>\n",
       "      <td>Cheated on, mistreated and stepped on, the wom...</td>\n",
       "    </tr>\n",
       "    <tr>\n",
       "      <th>4</th>\n",
       "      <td>False</td>\n",
       "      <td>{'id': 96871, 'name': 'Father of the Bride Col...</td>\n",
       "      <td>0</td>\n",
       "      <td>[Comedy]</td>\n",
       "      <td>NaN</td>\n",
       "      <td>11862</td>\n",
       "      <td>tt0113041</td>\n",
       "      <td>en</td>\n",
       "      <td>Father of the Bride Part II</td>\n",
       "      <td>[Just, when, George, Banks, has, recovered, fr...</td>\n",
       "      <td>...</td>\n",
       "      <td>False</td>\n",
       "      <td>5.7</td>\n",
       "      <td>173.0</td>\n",
       "      <td>1995.0</td>\n",
       "      <td>1995</td>\n",
       "      <td>Just when George Banks has recovered from his ...</td>\n",
       "      <td>[stevemartin, dianekeaton, martinshort]</td>\n",
       "      <td>[['charlesshyer'], ['charlesshyer'], ['charles...</td>\n",
       "      <td>[baby, midlife crisis, confidence, aging, daug...</td>\n",
       "      <td>Just when George Banks has recovered from his ...</td>\n",
       "    </tr>\n",
       "  </tbody>\n",
       "</table>\n",
       "<p>5 rows × 31 columns</p>\n",
       "</div>"
      ],
      "text/plain": [
       "   adult                              belongs_to_collection    budget  \\\n",
       "0  False  {'id': 10194, 'name': 'Toy Story Collection', ...  30000000   \n",
       "1  False                                                NaN  65000000   \n",
       "2  False  {'id': 119050, 'name': 'Grumpy Old Men Collect...         0   \n",
       "3  False                                                NaN  16000000   \n",
       "4  False  {'id': 96871, 'name': 'Father of the Bride Col...         0   \n",
       "\n",
       "                         genres                              homepage     id  \\\n",
       "0   [Animation, Comedy, Family]  http://toystory.disney.com/toy-story    862   \n",
       "1  [Adventure, Fantasy, Family]                                   NaN   8844   \n",
       "2             [Romance, Comedy]                                   NaN  15602   \n",
       "3      [Comedy, Drama, Romance]                                   NaN  31357   \n",
       "4                      [Comedy]                                   NaN  11862   \n",
       "\n",
       "     imdb_id original_language               original_title  \\\n",
       "0  tt0114709                en                    Toy Story   \n",
       "1  tt0113497                en                      Jumanji   \n",
       "2  tt0113228                en             Grumpier Old Men   \n",
       "3  tt0114885                en            Waiting to Exhale   \n",
       "4  tt0113041                en  Father of the Bride Part II   \n",
       "\n",
       "                                            overview  ...  video vote_average  \\\n",
       "0  [Led, by, Woody,, Andy's, toys, live, happily,...  ...  False          7.7   \n",
       "1  [When, siblings, Judy, and, Peter, discover, a...  ...  False          6.9   \n",
       "2  [A, family, wedding, reignites, the, ancient, ...  ...  False          6.5   \n",
       "3  [Cheated, on,, mistreated, and, stepped, on,, ...  ...  False          6.1   \n",
       "4  [Just, when, George, Banks, has, recovered, fr...  ...  False          5.7   \n",
       "\n",
       "  vote_count release_year  year  \\\n",
       "0     5415.0       1995.0  1995   \n",
       "1     2413.0       1995.0  1995   \n",
       "2       92.0       1995.0  1995   \n",
       "3       34.0       1995.0  1995   \n",
       "4      173.0       1995.0  1995   \n",
       "\n",
       "                                         description  \\\n",
       "0  Led by Woody, Andy's toys live happily in his ...   \n",
       "1  When siblings Judy and Peter discover an encha...   \n",
       "2  A family wedding reignites the ancient feud be...   \n",
       "3  Cheated on, mistreated and stepped on, the wom...   \n",
       "4  Just when George Banks has recovered from his ...   \n",
       "\n",
       "                                             cast  \\\n",
       "0                [tomhanks, timallen, donrickles]   \n",
       "1     [robinwilliams, jonathanhyde, kirstendunst]   \n",
       "2        [waltermatthau, jacklemmon, ann-margret]   \n",
       "3  [whitneyhouston, angelabassett, lorettadevine]   \n",
       "4         [stevemartin, dianekeaton, martinshort]   \n",
       "\n",
       "                                                crew  \\\n",
       "0  [['johnlasseter'], ['johnlasseter'], ['johnlas...   \n",
       "1  [['joejohnston'], ['joejohnston'], ['joejohnst...   \n",
       "2  [['howarddeutch'], ['howarddeutch'], ['howardd...   \n",
       "3  [['forestwhitaker'], ['forestwhitaker'], ['for...   \n",
       "4  [['charlesshyer'], ['charlesshyer'], ['charles...   \n",
       "\n",
       "                                            keywords  \\\n",
       "0  [jealousy, toy, boy, friendship, friends, riva...   \n",
       "1  [board game, disappearance, based on children'...   \n",
       "2  [fishing, best friend, duringcreditsstinger, o...   \n",
       "3  [based on novel, interracial relationship, sin...   \n",
       "4  [baby, midlife crisis, confidence, aging, daug...   \n",
       "\n",
       "                                                tags  \n",
       "0  Led by Woody, Andy's toys live happily in his ...  \n",
       "1  When siblings Judy and Peter discover an encha...  \n",
       "2  A family wedding reignites the ancient feud be...  \n",
       "3  Cheated on, mistreated and stepped on, the wom...  \n",
       "4  Just when George Banks has recovered from his ...  \n",
       "\n",
       "[5 rows x 31 columns]"
      ]
     },
     "execution_count": 99,
     "metadata": {},
     "output_type": "execute_result"
    }
   ],
   "source": [
    "smd.head()"
   ]
  },
  {
   "cell_type": "code",
   "execution_count": 100,
   "metadata": {
    "execution": {
     "iopub.execute_input": "2024-04-08T07:11:50.573348Z",
     "iopub.status.busy": "2024-04-08T07:11:50.572316Z",
     "iopub.status.idle": "2024-04-08T07:11:51.305177Z",
     "shell.execute_reply": "2024-04-08T07:11:51.304295Z",
     "shell.execute_reply.started": "2024-04-08T07:11:50.573300Z"
    }
   },
   "outputs": [],
   "source": [
    "count = CountVectorizer(analyzer='word',ngram_range=(1, 2),min_df=0, stop_words='english')\n",
    "count_matrix = count.fit_transform(smd['tags'])"
   ]
  },
  {
   "cell_type": "code",
   "execution_count": 101,
   "metadata": {
    "execution": {
     "iopub.execute_input": "2024-04-08T07:11:51.306903Z",
     "iopub.status.busy": "2024-04-08T07:11:51.306554Z",
     "iopub.status.idle": "2024-04-08T07:11:53.435313Z",
     "shell.execute_reply": "2024-04-08T07:11:53.434095Z",
     "shell.execute_reply.started": "2024-04-08T07:11:51.306872Z"
    }
   },
   "outputs": [],
   "source": [
    "cosine_sim = cosine_similarity(count_matrix, count_matrix)"
   ]
  },
  {
   "cell_type": "code",
   "execution_count": 102,
   "metadata": {
    "execution": {
     "iopub.execute_input": "2024-04-08T07:11:53.436918Z",
     "iopub.status.busy": "2024-04-08T07:11:53.436575Z",
     "iopub.status.idle": "2024-04-08T07:11:53.463457Z",
     "shell.execute_reply": "2024-04-08T07:11:53.462211Z",
     "shell.execute_reply.started": "2024-04-08T07:11:53.436890Z"
    }
   },
   "outputs": [],
   "source": [
    "movies = movies.reset_index()\n",
    "titles = movies['title']\n",
    "indices = pd.Series(movies.index, index=smd['title'])"
   ]
  },
  {
   "cell_type": "markdown",
   "metadata": {},
   "source": [
    "* We will reuse the get_recommendations function that we had written earlier. \n",
    "* Since our cosine similarity scores have changed, we expect it to give us different (and probably better) results.\n",
    "* Let us check for __The Dark Knight__ again and see what recommendations I get this time around."
   ]
  },
  {
   "cell_type": "code",
   "execution_count": 103,
   "metadata": {
    "execution": {
     "iopub.execute_input": "2024-04-08T07:11:53.465373Z",
     "iopub.status.busy": "2024-04-08T07:11:53.465025Z",
     "iopub.status.idle": "2024-04-08T07:11:53.485682Z",
     "shell.execute_reply": "2024-04-08T07:11:53.484439Z",
     "shell.execute_reply.started": "2024-04-08T07:11:53.465343Z"
    }
   },
   "outputs": [
    {
     "data": {
      "text/plain": [
       "6218                              Batman Begins\n",
       "8031                      The Dark Knight Rises\n",
       "7659                 Batman: Under the Red Hood\n",
       "524                                      Batman\n",
       "9024         Batman v Superman: Dawn of Justice\n",
       "8265    Batman: The Dark Knight Returns, Part 1\n",
       "132                              Batman Forever\n",
       "1134                             Batman Returns\n",
       "1260                             Batman & Robin\n",
       "8334    Batman: The Dark Knight Returns, Part 2\n",
       "Name: title, dtype: object"
      ]
     },
     "execution_count": 103,
     "metadata": {},
     "output_type": "execute_result"
    }
   ],
   "source": [
    "get_recommendations('The Dark Knight').head(10)"
   ]
  },
  {
   "cell_type": "markdown",
   "metadata": {},
   "source": [
    "* I am much more satisfied with the results I get this time around. The recommendations seem to have recognized other Christopher Nolan movies (due to the high weightage given to director) and put them as top recommendations. \n",
    "* I enjoyed watching __The Dark Knight__ as well as some of the other ones in the list including __Batman Begins and The Dark Knight Rises.__\n",
    "\n"
   ]
  },
  {
   "cell_type": "code",
   "execution_count": 104,
   "metadata": {
    "execution": {
     "iopub.execute_input": "2024-04-08T07:11:53.487563Z",
     "iopub.status.busy": "2024-04-08T07:11:53.487180Z",
     "iopub.status.idle": "2024-04-08T07:11:53.511290Z",
     "shell.execute_reply": "2024-04-08T07:11:53.510214Z",
     "shell.execute_reply.started": "2024-04-08T07:11:53.487529Z"
    }
   },
   "outputs": [
    {
     "data": {
      "text/plain": [
       "6623             The Prestige\n",
       "8613             Interstellar\n",
       "2085                Following\n",
       "6218            Batman Begins\n",
       "8031    The Dark Knight Rises\n",
       "6981          The Dark Knight\n",
       "4145                 Insomnia\n",
       "3381                  Memento\n",
       "343                   Timecop\n",
       "8500                  Don Jon\n",
       "Name: title, dtype: object"
      ]
     },
     "execution_count": 104,
     "metadata": {},
     "output_type": "execute_result"
    }
   ],
   "source": [
    "get_recommendations('Inception').head(10)"
   ]
  },
  {
   "cell_type": "code",
   "execution_count": 105,
   "metadata": {
    "execution": {
     "iopub.execute_input": "2024-04-08T07:11:53.514294Z",
     "iopub.status.busy": "2024-04-08T07:11:53.513419Z",
     "iopub.status.idle": "2024-04-08T07:11:53.533102Z",
     "shell.execute_reply": "2024-04-08T07:11:53.531699Z",
     "shell.execute_reply.started": "2024-04-08T07:11:53.514252Z"
    }
   },
   "outputs": [
    {
     "data": {
      "text/plain": [
       "8883                   The DUFF\n",
       "5163       Just One of the Guys\n",
       "7382    The Curiosity of Chance\n",
       "6811           Charlie Bartlett\n",
       "5458          Napoleon Dynamite\n",
       "4991              Summer School\n",
       "8101             21 Jump Street\n",
       "1056                   Heathers\n",
       "7692                     Easy A\n",
       "8090                  Project X\n",
       "Name: title, dtype: object"
      ]
     },
     "execution_count": 105,
     "metadata": {},
     "output_type": "execute_result"
    }
   ],
   "source": [
    "get_recommendations('Mean Girls').head(10)"
   ]
  },
  {
   "cell_type": "code",
   "execution_count": 106,
   "metadata": {
    "execution": {
     "iopub.execute_input": "2024-04-08T07:11:53.535032Z",
     "iopub.status.busy": "2024-04-08T07:11:53.534445Z",
     "iopub.status.idle": "2024-04-08T07:11:53.553551Z",
     "shell.execute_reply": "2024-04-08T07:11:53.552291Z",
     "shell.execute_reply.started": "2024-04-08T07:11:53.535000Z"
    }
   },
   "outputs": [
    {
     "data": {
      "text/plain": [
       "1381             Jackie Brown\n",
       "5200        Kill Bill: Vol. 2\n",
       "8905        The Hateful Eight\n",
       "4903        Kill Bill: Vol. 1\n",
       "646             Trainspotting\n",
       "405                     Fresh\n",
       "5545      Maria Full of Grace\n",
       "1532    The French Connection\n",
       "4952            New Jack City\n",
       "20                 Get Shorty\n",
       "Name: title, dtype: object"
      ]
     },
     "execution_count": 106,
     "metadata": {},
     "output_type": "execute_result"
    }
   ],
   "source": [
    "get_recommendations('Pulp Fiction').head(10)"
   ]
  },
  {
   "cell_type": "markdown",
   "metadata": {},
   "source": [
    "#### Add Popularity and Ratings "
   ]
  },
  {
   "cell_type": "markdown",
   "metadata": {},
   "source": [
    "* One thing that we notice about our recommendation system is that it recommends movies regardless of ratings and \n",
    "  popularity. It is true that Batman and Robin has a lot of similar characters as compared to The Dark Knight but   \n",
    "  it was a terrible movie that shouldn't be recommended to anyone.\n",
    "\n",
    "* Therefore, we will add a mechanism to remove bad movies and return movies which are popular and have had a good\n",
    "  critical response.\n",
    "\n",
    "* I will take the top 25 movies based on similarity scores and calculate the vote of the __60th percentile__ movie. \n",
    "  Then, using this as the value of $m$, we will calculate the weighted rating of each movie using IMDB's formula \n",
    "  like we did in the Simple Recommender section."
   ]
  },
  {
   "cell_type": "code",
   "execution_count": 107,
   "metadata": {
    "execution": {
     "iopub.execute_input": "2024-04-08T07:11:53.555161Z",
     "iopub.status.busy": "2024-04-08T07:11:53.554819Z",
     "iopub.status.idle": "2024-04-08T07:11:53.564986Z",
     "shell.execute_reply": "2024-04-08T07:11:53.563874Z",
     "shell.execute_reply.started": "2024-04-08T07:11:53.555118Z"
    }
   },
   "outputs": [],
   "source": [
    "def improved_recommendations(title):\n",
    "    idx = indices[title]\n",
    "    sim_scores = list(enumerate(cosine_sim[idx]))\n",
    "    sim_scores = sorted(sim_scores, key=lambda x: x[1], reverse=True)\n",
    "    sim_scores = sim_scores[1:26]\n",
    "    movie_indices = [i[0] for i in sim_scores]\n",
    "    \n",
    "    movies = smd.iloc[movie_indices][['title', 'vote_count', 'vote_average', 'year']]\n",
    "    vote_counts = movies[movies['vote_count'].notnull()]['vote_count'].astype('int')\n",
    "    vote_averages = movies[movies['vote_average'].notnull()]['vote_average'].astype('int')\n",
    "    C = vote_averages.mean()\n",
    "    m = vote_counts.quantile(0.60)\n",
    "    qualified = movies[(movies['vote_count'] >= m) & (movies['vote_count'].notnull()) & \n",
    "                       (movies['vote_average'].notnull())]\n",
    "    qualified['vote_count'] = qualified['vote_count'].astype('int')\n",
    "    qualified['vote_average'] = qualified['vote_average'].astype('int')\n",
    "    qualified['wr'] = qualified.apply(weighted_rating, axis=1)\n",
    "    qualified = qualified.sort_values('wr', ascending=False).head(10)\n",
    "    return qualified"
   ]
  },
  {
   "cell_type": "code",
   "execution_count": 108,
   "metadata": {
    "execution": {
     "iopub.execute_input": "2024-04-08T07:11:53.566689Z",
     "iopub.status.busy": "2024-04-08T07:11:53.566336Z",
     "iopub.status.idle": "2024-04-08T07:11:53.603516Z",
     "shell.execute_reply": "2024-04-08T07:11:53.602551Z",
     "shell.execute_reply.started": "2024-04-08T07:11:53.566654Z"
    },
    "scrolled": true
   },
   "outputs": [
    {
     "data": {
      "text/html": [
       "<div>\n",
       "<style scoped>\n",
       "    .dataframe tbody tr th:only-of-type {\n",
       "        vertical-align: middle;\n",
       "    }\n",
       "\n",
       "    .dataframe tbody tr th {\n",
       "        vertical-align: top;\n",
       "    }\n",
       "\n",
       "    .dataframe thead th {\n",
       "        text-align: right;\n",
       "    }\n",
       "</style>\n",
       "<table border=\"1\" class=\"dataframe\">\n",
       "  <thead>\n",
       "    <tr style=\"text-align: right;\">\n",
       "      <th></th>\n",
       "      <th>title</th>\n",
       "      <th>vote_count</th>\n",
       "      <th>vote_average</th>\n",
       "      <th>year</th>\n",
       "      <th>wr</th>\n",
       "    </tr>\n",
       "  </thead>\n",
       "  <tbody>\n",
       "    <tr>\n",
       "      <th>7648</th>\n",
       "      <td>Inception</td>\n",
       "      <td>14075</td>\n",
       "      <td>8</td>\n",
       "      <td>2010</td>\n",
       "      <td>7.917596</td>\n",
       "    </tr>\n",
       "    <tr>\n",
       "      <th>6623</th>\n",
       "      <td>The Prestige</td>\n",
       "      <td>4510</td>\n",
       "      <td>8</td>\n",
       "      <td>2006</td>\n",
       "      <td>7.758169</td>\n",
       "    </tr>\n",
       "    <tr>\n",
       "      <th>8031</th>\n",
       "      <td>The Dark Knight Rises</td>\n",
       "      <td>9263</td>\n",
       "      <td>7</td>\n",
       "      <td>2012</td>\n",
       "      <td>6.921450</td>\n",
       "    </tr>\n",
       "    <tr>\n",
       "      <th>6218</th>\n",
       "      <td>Batman Begins</td>\n",
       "      <td>7511</td>\n",
       "      <td>7</td>\n",
       "      <td>2005</td>\n",
       "      <td>6.904128</td>\n",
       "    </tr>\n",
       "    <tr>\n",
       "      <th>8033</th>\n",
       "      <td>Sherlock Holmes: A Game of Shadows</td>\n",
       "      <td>3971</td>\n",
       "      <td>7</td>\n",
       "      <td>2011</td>\n",
       "      <td>6.827081</td>\n",
       "    </tr>\n",
       "    <tr>\n",
       "      <th>7069</th>\n",
       "      <td>Watchmen</td>\n",
       "      <td>2892</td>\n",
       "      <td>7</td>\n",
       "      <td>2009</td>\n",
       "      <td>6.770982</td>\n",
       "    </tr>\n",
       "    <tr>\n",
       "      <th>524</th>\n",
       "      <td>Batman</td>\n",
       "      <td>2145</td>\n",
       "      <td>7</td>\n",
       "      <td>1989</td>\n",
       "      <td>6.704646</td>\n",
       "    </tr>\n",
       "    <tr>\n",
       "      <th>8419</th>\n",
       "      <td>Man of Steel</td>\n",
       "      <td>6462</td>\n",
       "      <td>6</td>\n",
       "      <td>2013</td>\n",
       "      <td>5.952466</td>\n",
       "    </tr>\n",
       "    <tr>\n",
       "      <th>9024</th>\n",
       "      <td>Batman v Superman: Dawn of Justice</td>\n",
       "      <td>7189</td>\n",
       "      <td>5</td>\n",
       "      <td>2016</td>\n",
       "      <td>5.013920</td>\n",
       "    </tr>\n",
       "    <tr>\n",
       "      <th>9004</th>\n",
       "      <td>Suicide Squad</td>\n",
       "      <td>7717</td>\n",
       "      <td>5</td>\n",
       "      <td>2016</td>\n",
       "      <td>5.013018</td>\n",
       "    </tr>\n",
       "  </tbody>\n",
       "</table>\n",
       "</div>"
      ],
      "text/plain": [
       "                                   title  vote_count  vote_average  year  \\\n",
       "7648                           Inception       14075             8  2010   \n",
       "6623                        The Prestige        4510             8  2006   \n",
       "8031               The Dark Knight Rises        9263             7  2012   \n",
       "6218                       Batman Begins        7511             7  2005   \n",
       "8033  Sherlock Holmes: A Game of Shadows        3971             7  2011   \n",
       "7069                            Watchmen        2892             7  2009   \n",
       "524                               Batman        2145             7  1989   \n",
       "8419                        Man of Steel        6462             6  2013   \n",
       "9024  Batman v Superman: Dawn of Justice        7189             5  2016   \n",
       "9004                       Suicide Squad        7717             5  2016   \n",
       "\n",
       "            wr  \n",
       "7648  7.917596  \n",
       "6623  7.758169  \n",
       "8031  6.921450  \n",
       "6218  6.904128  \n",
       "8033  6.827081  \n",
       "7069  6.770982  \n",
       "524   6.704646  \n",
       "8419  5.952466  \n",
       "9024  5.013920  \n",
       "9004  5.013018  "
      ]
     },
     "execution_count": 108,
     "metadata": {},
     "output_type": "execute_result"
    }
   ],
   "source": [
    "improved_recommendations('The Dark Knight')"
   ]
  },
  {
   "cell_type": "code",
   "execution_count": 109,
   "metadata": {
    "execution": {
     "iopub.execute_input": "2024-04-08T07:11:53.605206Z",
     "iopub.status.busy": "2024-04-08T07:11:53.604882Z",
     "iopub.status.idle": "2024-04-08T07:11:53.634244Z",
     "shell.execute_reply": "2024-04-08T07:11:53.633143Z",
     "shell.execute_reply.started": "2024-04-08T07:11:53.605177Z"
    },
    "scrolled": true
   },
   "outputs": [
    {
     "data": {
      "text/html": [
       "<div>\n",
       "<style scoped>\n",
       "    .dataframe tbody tr th:only-of-type {\n",
       "        vertical-align: middle;\n",
       "    }\n",
       "\n",
       "    .dataframe tbody tr th {\n",
       "        vertical-align: top;\n",
       "    }\n",
       "\n",
       "    .dataframe thead th {\n",
       "        text-align: right;\n",
       "    }\n",
       "</style>\n",
       "<table border=\"1\" class=\"dataframe\">\n",
       "  <thead>\n",
       "    <tr style=\"text-align: right;\">\n",
       "      <th></th>\n",
       "      <th>title</th>\n",
       "      <th>vote_count</th>\n",
       "      <th>vote_average</th>\n",
       "      <th>year</th>\n",
       "      <th>wr</th>\n",
       "    </tr>\n",
       "  </thead>\n",
       "  <tbody>\n",
       "    <tr>\n",
       "      <th>898</th>\n",
       "      <td>Reservoir Dogs</td>\n",
       "      <td>3821</td>\n",
       "      <td>8</td>\n",
       "      <td>1992</td>\n",
       "      <td>7.719009</td>\n",
       "    </tr>\n",
       "    <tr>\n",
       "      <th>4903</th>\n",
       "      <td>Kill Bill: Vol. 1</td>\n",
       "      <td>5091</td>\n",
       "      <td>7</td>\n",
       "      <td>2003</td>\n",
       "      <td>6.862135</td>\n",
       "    </tr>\n",
       "    <tr>\n",
       "      <th>8905</th>\n",
       "      <td>The Hateful Eight</td>\n",
       "      <td>4405</td>\n",
       "      <td>7</td>\n",
       "      <td>2015</td>\n",
       "      <td>6.842590</td>\n",
       "    </tr>\n",
       "    <tr>\n",
       "      <th>5200</th>\n",
       "      <td>Kill Bill: Vol. 2</td>\n",
       "      <td>4061</td>\n",
       "      <td>7</td>\n",
       "      <td>2004</td>\n",
       "      <td>6.830544</td>\n",
       "    </tr>\n",
       "    <tr>\n",
       "      <th>646</th>\n",
       "      <td>Trainspotting</td>\n",
       "      <td>2737</td>\n",
       "      <td>7</td>\n",
       "      <td>1996</td>\n",
       "      <td>6.759788</td>\n",
       "    </tr>\n",
       "    <tr>\n",
       "      <th>1381</th>\n",
       "      <td>Jackie Brown</td>\n",
       "      <td>1580</td>\n",
       "      <td>7</td>\n",
       "      <td>1997</td>\n",
       "      <td>6.621784</td>\n",
       "    </tr>\n",
       "    <tr>\n",
       "      <th>6016</th>\n",
       "      <td>Layer Cake</td>\n",
       "      <td>565</td>\n",
       "      <td>7</td>\n",
       "      <td>2004</td>\n",
       "      <td>6.237472</td>\n",
       "    </tr>\n",
       "    <tr>\n",
       "      <th>1532</th>\n",
       "      <td>The French Connection</td>\n",
       "      <td>435</td>\n",
       "      <td>7</td>\n",
       "      <td>1971</td>\n",
       "      <td>6.123386</td>\n",
       "    </tr>\n",
       "    <tr>\n",
       "      <th>6788</th>\n",
       "      <td>Death Proof</td>\n",
       "      <td>1359</td>\n",
       "      <td>6</td>\n",
       "      <td>2007</td>\n",
       "      <td>5.817174</td>\n",
       "    </tr>\n",
       "    <tr>\n",
       "      <th>3249</th>\n",
       "      <td>Traffic</td>\n",
       "      <td>573</td>\n",
       "      <td>6</td>\n",
       "      <td>2000</td>\n",
       "      <td>5.674457</td>\n",
       "    </tr>\n",
       "  </tbody>\n",
       "</table>\n",
       "</div>"
      ],
      "text/plain": [
       "                      title  vote_count  vote_average  year        wr\n",
       "898          Reservoir Dogs        3821             8  1992  7.719009\n",
       "4903      Kill Bill: Vol. 1        5091             7  2003  6.862135\n",
       "8905      The Hateful Eight        4405             7  2015  6.842590\n",
       "5200      Kill Bill: Vol. 2        4061             7  2004  6.830544\n",
       "646           Trainspotting        2737             7  1996  6.759788\n",
       "1381           Jackie Brown        1580             7  1997  6.621784\n",
       "6016             Layer Cake         565             7  2004  6.237472\n",
       "1532  The French Connection         435             7  1971  6.123386\n",
       "6788            Death Proof        1359             6  2007  5.817174\n",
       "3249                Traffic         573             6  2000  5.674457"
      ]
     },
     "execution_count": 109,
     "metadata": {},
     "output_type": "execute_result"
    }
   ],
   "source": [
    "improved_recommendations('Pulp Fiction')"
   ]
  },
  {
   "cell_type": "markdown",
   "metadata": {},
   "source": [
    "* We will conclude our Content Based Recommender \n",
    "  section here "
   ]
  },
  {
   "cell_type": "markdown",
   "metadata": {},
   "source": [
    "### 6.3 Collaborative Filtering based recommendation system\n",
    "Collaborative filtering is a technique used in recommendation systems to recommend items by comparing users' preferences. I have a ratings dataset that contains userId, movieId, rating, and timestamp"
   ]
  },
  {
   "cell_type": "markdown",
   "metadata": {},
   "source": [
    "**Our content based engine suffers from some severe limitations.**\n",
    "\n",
    "* It is only capable of suggesting movies which are close to a certain movie. That is, it is not capable of capturing tastes and providing recommendations across genres.\n",
    "\n"
   ]
  },
  {
   "cell_type": "markdown",
   "metadata": {},
   "source": [
    "* Also, the engine that we built is not really personal in that it doesn't capture the personal tastes and biases of a user. Anyone querying our engine for recommendations based on a movie will receive the same recommendations for that movie, regardless of who (s)he is.\n",
    "\n"
   ]
  },
  {
   "cell_type": "markdown",
   "metadata": {},
   "source": [
    "* Therefore, in this section, we will use Collaborative Filtering to make recommendations to Movie Watchers. Collaborative Filtering is based on the idea that users similar to a me can be used to predict how much I will like a particular product or service those users have used/experienced but I have not.\n",
    "\n"
   ]
  },
  {
   "cell_type": "markdown",
   "metadata": {},
   "source": [
    "* I will not be implementing Collaborative Filtering from scratch. Instead, I will use the __[Surprise library](http://surpriselib.com/)__ that used extremely powerful algorithms like __Singular Value Decomposition (SVD) to minimise RMSE (Root Mean Square Error) and give great recommendations__.\n",
    "\n"
   ]
  },
  {
   "cell_type": "markdown",
   "metadata": {},
   "source": [
    "* Implementation of SVD for surprise library is given on this [link](https://github.com/NicolasHug/Surprise/blob/master/surprise/prediction_algorithms/matrix_factorization.pyx)"
   ]
  },
  {
   "cell_type": "code",
   "execution_count": 110,
   "metadata": {},
   "outputs": [],
   "source": [
    "reader = Reader(rating_scale=(1, 10))\n",
    "data = Dataset.load_from_df(ratings[['userId', 'movieId', 'rating']], reader)\n"
   ]
  },
  {
   "cell_type": "code",
   "execution_count": 111,
   "metadata": {},
   "outputs": [],
   "source": [
    "from surprise.model_selection import train_test_split\n",
    "\n",
    "trainset, testset = train_test_split(data, test_size=0.25)\n"
   ]
  },
  {
   "cell_type": "code",
   "execution_count": 112,
   "metadata": {
    "scrolled": false
   },
   "outputs": [
    {
     "name": "stdout",
     "output_type": "stream",
     "text": [
      "Evaluating SVD\n",
      "Evaluating RMSE, MAE of algorithm SVD on 5 split(s).\n",
      "\n",
      "                  Fold 1  Fold 2  Fold 3  Fold 4  Fold 5  Mean    Std     \n",
      "RMSE (testset)    0.8979  0.8983  0.8966  0.8982  0.8916  0.8965  0.0025  \n",
      "MAE (testset)     0.6919  0.6915  0.6895  0.6911  0.6889  0.6906  0.0012  \n",
      "Fit time          2.47    3.00    2.82    2.51    3.10    2.78    0.25    \n",
      "Test time         0.44    0.50    5.50    0.30    0.76    1.50    2.00    \n",
      "Mean RMSE: 0.8965302728783288\n",
      "Mean MAE: 0.6905544865338837\n",
      "--------------------------------------------------\n",
      "Evaluating KNNBasic\n",
      "Computing the msd similarity matrix...\n",
      "Done computing similarity matrix.\n",
      "Computing the msd similarity matrix...\n",
      "Done computing similarity matrix.\n",
      "Computing the msd similarity matrix...\n",
      "Done computing similarity matrix.\n",
      "Computing the msd similarity matrix...\n",
      "Done computing similarity matrix.\n",
      "Computing the msd similarity matrix...\n",
      "Done computing similarity matrix.\n",
      "Evaluating RMSE, MAE of algorithm KNNBasic on 5 split(s).\n",
      "\n",
      "                  Fold 1  Fold 2  Fold 3  Fold 4  Fold 5  Mean    Std     \n",
      "RMSE (testset)    0.9793  0.9640  0.9627  0.9680  0.9653  0.9679  0.0060  \n",
      "MAE (testset)     0.7551  0.7417  0.7399  0.7438  0.7419  0.7445  0.0055  \n",
      "Fit time          1.79    0.50    1.10    0.82    2.20    1.28    0.63    \n",
      "Test time         5.35    3.27    5.03    8.90    9.96    6.50    2.52    \n",
      "Mean RMSE: 0.9678628224751691\n",
      "Mean MAE: 0.7444703768702422\n",
      "--------------------------------------------------\n",
      "Evaluating CoClustering\n",
      "Evaluating RMSE, MAE of algorithm CoClustering on 5 split(s).\n",
      "\n",
      "                  Fold 1  Fold 2  Fold 3  Fold 4  Fold 5  Mean    Std     \n",
      "RMSE (testset)    0.9611  0.9677  0.9676  0.9663  0.9691  0.9663  0.0028  \n",
      "MAE (testset)     0.7473  0.7507  0.7502  0.7507  0.7529  0.7503  0.0018  \n",
      "Fit time          16.66   10.78   10.82   19.90   14.31   14.49   3.50    \n",
      "Test time         0.58    0.33    0.70    0.82    0.54    0.59    0.16    \n",
      "Mean RMSE: 0.9663439835597238\n",
      "Mean MAE: 0.750342447816052\n",
      "--------------------------------------------------\n"
     ]
    }
   ],
   "source": [
    "from surprise import SVD\n",
    "from surprise import KNNBasic\n",
    "from surprise import SlopeOne\n",
    "from surprise import CoClustering\n",
    "from surprise import Reader\n",
    "from surprise import Dataset\n",
    "from surprise.model_selection import cross_validate\n",
    "# Define a list of algorithms to try\n",
    "algos = [\n",
    "    SVD(),\n",
    "    KNNBasic(),\n",
    "    CoClustering()\n",
    "]\n",
    "\n",
    "# Evaluate each algorithm\n",
    "for algo in algos:\n",
    "    print(f\"Evaluating {algo.__class__.__name__}\")\n",
    "    results = cross_validate(algo, data, measures=['RMSE', 'MAE'], cv=5, verbose=True)\n",
    "    print(f\"Mean RMSE: {results['test_rmse'].mean()}\")\n",
    "    print(f\"Mean MAE: {results['test_mae'].mean()}\")\n",
    "    print(\"-\" * 50)"
   ]
  },
  {
   "cell_type": "code",
   "execution_count": 113,
   "metadata": {
    "execution": {
     "iopub.execute_input": "2024-04-08T07:12:02.993611Z",
     "iopub.status.busy": "2024-04-08T07:12:02.992895Z",
     "iopub.status.idle": "2024-04-08T07:12:04.685711Z",
     "shell.execute_reply": "2024-04-08T07:12:04.684478Z",
     "shell.execute_reply.started": "2024-04-08T07:12:02.993579Z"
    }
   },
   "outputs": [
    {
     "data": {
      "text/plain": [
       "<surprise.prediction_algorithms.matrix_factorization.SVD at 0x2c3d0f67fd0>"
      ]
     },
     "execution_count": 113,
     "metadata": {},
     "output_type": "execute_result"
    }
   ],
   "source": [
    "# Build the full training set\n",
    "trainset = data.build_full_trainset()\n",
    "algo= SVD()\n",
    "\n",
    "# Train the model\n",
    "algo.fit(trainset)"
   ]
  },
  {
   "cell_type": "code",
   "execution_count": 114,
   "metadata": {
    "execution": {
     "iopub.execute_input": "2024-04-08T07:12:04.687601Z",
     "iopub.status.busy": "2024-04-08T07:12:04.687154Z",
     "iopub.status.idle": "2024-04-08T07:12:04.702869Z",
     "shell.execute_reply": "2024-04-08T07:12:04.701541Z",
     "shell.execute_reply.started": "2024-04-08T07:12:04.687569Z"
    }
   },
   "outputs": [
    {
     "data": {
      "text/html": [
       "<div>\n",
       "<style scoped>\n",
       "    .dataframe tbody tr th:only-of-type {\n",
       "        vertical-align: middle;\n",
       "    }\n",
       "\n",
       "    .dataframe tbody tr th {\n",
       "        vertical-align: top;\n",
       "    }\n",
       "\n",
       "    .dataframe thead th {\n",
       "        text-align: right;\n",
       "    }\n",
       "</style>\n",
       "<table border=\"1\" class=\"dataframe\">\n",
       "  <thead>\n",
       "    <tr style=\"text-align: right;\">\n",
       "      <th></th>\n",
       "      <th>userId</th>\n",
       "      <th>movieId</th>\n",
       "      <th>rating</th>\n",
       "      <th>timestamp</th>\n",
       "    </tr>\n",
       "  </thead>\n",
       "  <tbody>\n",
       "    <tr>\n",
       "      <th>0</th>\n",
       "      <td>1</td>\n",
       "      <td>31</td>\n",
       "      <td>2.5</td>\n",
       "      <td>1260759144</td>\n",
       "    </tr>\n",
       "    <tr>\n",
       "      <th>1</th>\n",
       "      <td>1</td>\n",
       "      <td>1029</td>\n",
       "      <td>3.0</td>\n",
       "      <td>1260759179</td>\n",
       "    </tr>\n",
       "    <tr>\n",
       "      <th>2</th>\n",
       "      <td>1</td>\n",
       "      <td>1061</td>\n",
       "      <td>3.0</td>\n",
       "      <td>1260759182</td>\n",
       "    </tr>\n",
       "    <tr>\n",
       "      <th>3</th>\n",
       "      <td>1</td>\n",
       "      <td>1129</td>\n",
       "      <td>2.0</td>\n",
       "      <td>1260759185</td>\n",
       "    </tr>\n",
       "    <tr>\n",
       "      <th>4</th>\n",
       "      <td>1</td>\n",
       "      <td>1172</td>\n",
       "      <td>4.0</td>\n",
       "      <td>1260759205</td>\n",
       "    </tr>\n",
       "    <tr>\n",
       "      <th>5</th>\n",
       "      <td>1</td>\n",
       "      <td>1263</td>\n",
       "      <td>2.0</td>\n",
       "      <td>1260759151</td>\n",
       "    </tr>\n",
       "    <tr>\n",
       "      <th>6</th>\n",
       "      <td>1</td>\n",
       "      <td>1287</td>\n",
       "      <td>2.0</td>\n",
       "      <td>1260759187</td>\n",
       "    </tr>\n",
       "    <tr>\n",
       "      <th>7</th>\n",
       "      <td>1</td>\n",
       "      <td>1293</td>\n",
       "      <td>2.0</td>\n",
       "      <td>1260759148</td>\n",
       "    </tr>\n",
       "    <tr>\n",
       "      <th>8</th>\n",
       "      <td>1</td>\n",
       "      <td>1339</td>\n",
       "      <td>3.5</td>\n",
       "      <td>1260759125</td>\n",
       "    </tr>\n",
       "    <tr>\n",
       "      <th>9</th>\n",
       "      <td>1</td>\n",
       "      <td>1343</td>\n",
       "      <td>2.0</td>\n",
       "      <td>1260759131</td>\n",
       "    </tr>\n",
       "    <tr>\n",
       "      <th>10</th>\n",
       "      <td>1</td>\n",
       "      <td>1371</td>\n",
       "      <td>2.5</td>\n",
       "      <td>1260759135</td>\n",
       "    </tr>\n",
       "    <tr>\n",
       "      <th>11</th>\n",
       "      <td>1</td>\n",
       "      <td>1405</td>\n",
       "      <td>1.0</td>\n",
       "      <td>1260759203</td>\n",
       "    </tr>\n",
       "    <tr>\n",
       "      <th>12</th>\n",
       "      <td>1</td>\n",
       "      <td>1953</td>\n",
       "      <td>4.0</td>\n",
       "      <td>1260759191</td>\n",
       "    </tr>\n",
       "    <tr>\n",
       "      <th>13</th>\n",
       "      <td>1</td>\n",
       "      <td>2105</td>\n",
       "      <td>4.0</td>\n",
       "      <td>1260759139</td>\n",
       "    </tr>\n",
       "    <tr>\n",
       "      <th>14</th>\n",
       "      <td>1</td>\n",
       "      <td>2150</td>\n",
       "      <td>3.0</td>\n",
       "      <td>1260759194</td>\n",
       "    </tr>\n",
       "    <tr>\n",
       "      <th>15</th>\n",
       "      <td>1</td>\n",
       "      <td>2193</td>\n",
       "      <td>2.0</td>\n",
       "      <td>1260759198</td>\n",
       "    </tr>\n",
       "    <tr>\n",
       "      <th>16</th>\n",
       "      <td>1</td>\n",
       "      <td>2294</td>\n",
       "      <td>2.0</td>\n",
       "      <td>1260759108</td>\n",
       "    </tr>\n",
       "    <tr>\n",
       "      <th>17</th>\n",
       "      <td>1</td>\n",
       "      <td>2455</td>\n",
       "      <td>2.5</td>\n",
       "      <td>1260759113</td>\n",
       "    </tr>\n",
       "    <tr>\n",
       "      <th>18</th>\n",
       "      <td>1</td>\n",
       "      <td>2968</td>\n",
       "      <td>1.0</td>\n",
       "      <td>1260759200</td>\n",
       "    </tr>\n",
       "    <tr>\n",
       "      <th>19</th>\n",
       "      <td>1</td>\n",
       "      <td>3671</td>\n",
       "      <td>3.0</td>\n",
       "      <td>1260759117</td>\n",
       "    </tr>\n",
       "  </tbody>\n",
       "</table>\n",
       "</div>"
      ],
      "text/plain": [
       "    userId  movieId  rating   timestamp\n",
       "0        1       31     2.5  1260759144\n",
       "1        1     1029     3.0  1260759179\n",
       "2        1     1061     3.0  1260759182\n",
       "3        1     1129     2.0  1260759185\n",
       "4        1     1172     4.0  1260759205\n",
       "5        1     1263     2.0  1260759151\n",
       "6        1     1287     2.0  1260759187\n",
       "7        1     1293     2.0  1260759148\n",
       "8        1     1339     3.5  1260759125\n",
       "9        1     1343     2.0  1260759131\n",
       "10       1     1371     2.5  1260759135\n",
       "11       1     1405     1.0  1260759203\n",
       "12       1     1953     4.0  1260759191\n",
       "13       1     2105     4.0  1260759139\n",
       "14       1     2150     3.0  1260759194\n",
       "15       1     2193     2.0  1260759198\n",
       "16       1     2294     2.0  1260759108\n",
       "17       1     2455     2.5  1260759113\n",
       "18       1     2968     1.0  1260759200\n",
       "19       1     3671     3.0  1260759117"
      ]
     },
     "execution_count": 114,
     "metadata": {},
     "output_type": "execute_result"
    }
   ],
   "source": [
    "ratings[ratings['userId'] == 1]"
   ]
  },
  {
   "cell_type": "code",
   "execution_count": 115,
   "metadata": {
    "execution": {
     "iopub.execute_input": "2024-04-08T07:12:28.962787Z",
     "iopub.status.busy": "2024-04-08T07:12:28.962304Z",
     "iopub.status.idle": "2024-04-08T07:12:28.970462Z",
     "shell.execute_reply": "2024-04-08T07:12:28.969582Z",
     "shell.execute_reply.started": "2024-04-08T07:12:28.962750Z"
    }
   },
   "outputs": [
    {
     "data": {
      "text/plain": [
       "Prediction(uid=1, iid=302, r_ui=None, est=2.583424294836637, details={'was_impossible': False})"
      ]
     },
     "execution_count": 115,
     "metadata": {},
     "output_type": "execute_result"
    }
   ],
   "source": [
    "algo.predict(1, 302)"
   ]
  },
  {
   "cell_type": "markdown",
   "metadata": {},
   "source": [
    "* For movie with ID 302, we get an estimated prediction of 2.636. One startling feature of this recommender system is that it doesn't care what the movie is (or what it contains). It works purely on the basis of an assigned movie ID and tries to predict ratings based on how the other users have perceive the movie."
   ]
  },
  {
   "cell_type": "markdown",
   "metadata": {},
   "source": [
    "### Hybrid recommendation system"
   ]
  },
  {
   "cell_type": "markdown",
   "metadata": {},
   "source": [
    "* In this section, will try to build a simple hybrid recommender that brings together techniques we have implemented in the content based and collaborative filter based engines. This is how it will work:\n",
    "\n",
    "* **Input:** User ID and the Title of a Movie\n",
    "* **Output:** Similar movies sorted on the basis of expected ratings by that particular user."
   ]
  },
  {
   "cell_type": "code",
   "execution_count": 116,
   "metadata": {
    "execution": {
     "iopub.execute_input": "2024-04-08T07:12:43.368526Z",
     "iopub.status.busy": "2024-04-08T07:12:43.367470Z",
     "iopub.status.idle": "2024-04-08T07:12:43.373052Z",
     "shell.execute_reply": "2024-04-08T07:12:43.372207Z",
     "shell.execute_reply.started": "2024-04-08T07:12:43.368461Z"
    }
   },
   "outputs": [],
   "source": [
    "def convert_int(x):\n",
    "    try:\n",
    "        return int(x)\n",
    "    except:\n",
    "        return np.nan"
   ]
  },
  {
   "cell_type": "code",
   "execution_count": 117,
   "metadata": {
    "execution": {
     "iopub.execute_input": "2024-04-08T07:12:46.688059Z",
     "iopub.status.busy": "2024-04-08T07:12:46.687669Z",
     "iopub.status.idle": "2024-04-08T07:12:46.718960Z",
     "shell.execute_reply": "2024-04-08T07:12:46.717840Z",
     "shell.execute_reply.started": "2024-04-08T07:12:46.688028Z"
    }
   },
   "outputs": [],
   "source": [
    "id_map = pd.read_csv('links_small.csv')[['movieId', 'tmdbId']]\n",
    "id_map['tmdbId'] = id_map['tmdbId'].apply(convert_int)\n",
    "id_map.columns = ['movieId', 'id']\n",
    "id_map = id_map.merge(smd[['title', 'id']], on='id').set_index('title')\n",
    "#id_map = id_map.set_index('tmdbId')"
   ]
  },
  {
   "cell_type": "code",
   "execution_count": 118,
   "metadata": {
    "execution": {
     "iopub.execute_input": "2024-04-08T07:12:55.393188Z",
     "iopub.status.busy": "2024-04-08T07:12:55.392163Z",
     "iopub.status.idle": "2024-04-08T07:12:55.399546Z",
     "shell.execute_reply": "2024-04-08T07:12:55.398423Z",
     "shell.execute_reply.started": "2024-04-08T07:12:55.393148Z"
    }
   },
   "outputs": [],
   "source": [
    "indices_map = id_map.set_index('id')"
   ]
  },
  {
   "cell_type": "code",
   "execution_count": 119,
   "metadata": {},
   "outputs": [],
   "source": [
    "smd.rename(columns={'id': 'movieId'}, inplace=True)"
   ]
  },
  {
   "cell_type": "code",
   "execution_count": 120,
   "metadata": {
    "execution": {
     "iopub.execute_input": "2024-04-08T07:13:29.792128Z",
     "iopub.status.busy": "2024-04-08T07:13:29.791711Z",
     "iopub.status.idle": "2024-04-08T07:13:29.800217Z",
     "shell.execute_reply": "2024-04-08T07:13:29.798998Z",
     "shell.execute_reply.started": "2024-04-08T07:13:29.792093Z"
    }
   },
   "outputs": [],
   "source": [
    "def hybrid(userId, title):\n",
    "    idx = indices[title]\n",
    "    tmdbId = id_map.loc[title]['id']\n",
    "    movie_id = id_map.loc[title]['movieId']\n",
    "    sim_scores = list(enumerate(cosine_sim[int(idx)]))\n",
    "    sim_scores = sorted(sim_scores, key=lambda x: x[1], reverse=True)\n",
    "    sim_scores = sim_scores[1:26]\n",
    "    movie_indices = [i[0] for i in sim_scores]\n",
    "    movies = smd.iloc[movie_indices][['title', 'vote_count', 'vote_average', 'release_date', 'movieId']]\n",
    "    movies['est'] = movies['movieId'].apply(lambda x: algo.predict(userId, indices_map.at[x, 'movieId']).est)\n",
    "    movies = movies.sort_values('est', ascending=False)\n",
    "    return movies.head(10)"
   ]
  },
  {
   "cell_type": "code",
   "execution_count": 121,
   "metadata": {
    "execution": {
     "iopub.execute_input": "2024-04-08T07:13:36.393541Z",
     "iopub.status.busy": "2024-04-08T07:13:36.392512Z",
     "iopub.status.idle": "2024-04-08T07:13:36.419322Z",
     "shell.execute_reply": "2024-04-08T07:13:36.418227Z",
     "shell.execute_reply.started": "2024-04-08T07:13:36.393496Z"
    }
   },
   "outputs": [
    {
     "data": {
      "text/html": [
       "<div>\n",
       "<style scoped>\n",
       "    .dataframe tbody tr th:only-of-type {\n",
       "        vertical-align: middle;\n",
       "    }\n",
       "\n",
       "    .dataframe tbody tr th {\n",
       "        vertical-align: top;\n",
       "    }\n",
       "\n",
       "    .dataframe thead th {\n",
       "        text-align: right;\n",
       "    }\n",
       "</style>\n",
       "<table border=\"1\" class=\"dataframe\">\n",
       "  <thead>\n",
       "    <tr style=\"text-align: right;\">\n",
       "      <th></th>\n",
       "      <th>title</th>\n",
       "      <th>vote_count</th>\n",
       "      <th>vote_average</th>\n",
       "      <th>release_date</th>\n",
       "      <th>movieId</th>\n",
       "      <th>est</th>\n",
       "    </tr>\n",
       "  </thead>\n",
       "  <tbody>\n",
       "    <tr>\n",
       "      <th>7889</th>\n",
       "      <td>X-Men: First Class</td>\n",
       "      <td>5252.0</td>\n",
       "      <td>7.1</td>\n",
       "      <td>2011-05-24</td>\n",
       "      <td>49538</td>\n",
       "      <td>3.036113</td>\n",
       "    </tr>\n",
       "    <tr>\n",
       "      <th>974</th>\n",
       "      <td>Aliens</td>\n",
       "      <td>3282.0</td>\n",
       "      <td>7.7</td>\n",
       "      <td>1986-07-18</td>\n",
       "      <td>679</td>\n",
       "      <td>2.985586</td>\n",
       "    </tr>\n",
       "    <tr>\n",
       "      <th>987</th>\n",
       "      <td>Alien</td>\n",
       "      <td>4564.0</td>\n",
       "      <td>7.9</td>\n",
       "      <td>1979-05-25</td>\n",
       "      <td>348</td>\n",
       "      <td>2.976469</td>\n",
       "    </tr>\n",
       "    <tr>\n",
       "      <th>7935</th>\n",
       "      <td>Rise of the Planet of the Apes</td>\n",
       "      <td>4452.0</td>\n",
       "      <td>7.0</td>\n",
       "      <td>2011-08-03</td>\n",
       "      <td>61791</td>\n",
       "      <td>2.812080</td>\n",
       "    </tr>\n",
       "    <tr>\n",
       "      <th>344</th>\n",
       "      <td>True Lies</td>\n",
       "      <td>1138.0</td>\n",
       "      <td>6.8</td>\n",
       "      <td>1994-07-14</td>\n",
       "      <td>36955</td>\n",
       "      <td>2.810681</td>\n",
       "    </tr>\n",
       "    <tr>\n",
       "      <th>7065</th>\n",
       "      <td>Meet Dave</td>\n",
       "      <td>381.0</td>\n",
       "      <td>5.1</td>\n",
       "      <td>2008-07-08</td>\n",
       "      <td>11260</td>\n",
       "      <td>2.718451</td>\n",
       "    </tr>\n",
       "    <tr>\n",
       "      <th>8934</th>\n",
       "      <td>Home</td>\n",
       "      <td>1539.0</td>\n",
       "      <td>6.8</td>\n",
       "      <td>2015-03-18</td>\n",
       "      <td>228161</td>\n",
       "      <td>2.700175</td>\n",
       "    </tr>\n",
       "    <tr>\n",
       "      <th>9005</th>\n",
       "      <td>Independence Day: Resurgence</td>\n",
       "      <td>2550.0</td>\n",
       "      <td>4.9</td>\n",
       "      <td>2016-06-22</td>\n",
       "      <td>47933</td>\n",
       "      <td>2.696263</td>\n",
       "    </tr>\n",
       "    <tr>\n",
       "      <th>7646</th>\n",
       "      <td>Predators</td>\n",
       "      <td>1231.0</td>\n",
       "      <td>6.0</td>\n",
       "      <td>2010-07-03</td>\n",
       "      <td>34851</td>\n",
       "      <td>2.684272</td>\n",
       "    </tr>\n",
       "    <tr>\n",
       "      <th>3013</th>\n",
       "      <td>Titan A.E.</td>\n",
       "      <td>320.0</td>\n",
       "      <td>6.3</td>\n",
       "      <td>2000-06-16</td>\n",
       "      <td>7450</td>\n",
       "      <td>2.629822</td>\n",
       "    </tr>\n",
       "  </tbody>\n",
       "</table>\n",
       "</div>"
      ],
      "text/plain": [
       "                               title  vote_count  vote_average release_date  \\\n",
       "7889              X-Men: First Class      5252.0           7.1   2011-05-24   \n",
       "974                           Aliens      3282.0           7.7   1986-07-18   \n",
       "987                            Alien      4564.0           7.9   1979-05-25   \n",
       "7935  Rise of the Planet of the Apes      4452.0           7.0   2011-08-03   \n",
       "344                        True Lies      1138.0           6.8   1994-07-14   \n",
       "7065                       Meet Dave       381.0           5.1   2008-07-08   \n",
       "8934                            Home      1539.0           6.8   2015-03-18   \n",
       "9005    Independence Day: Resurgence      2550.0           4.9   2016-06-22   \n",
       "7646                       Predators      1231.0           6.0   2010-07-03   \n",
       "3013                      Titan A.E.       320.0           6.3   2000-06-16   \n",
       "\n",
       "      movieId       est  \n",
       "7889    49538  3.036113  \n",
       "974       679  2.985586  \n",
       "987       348  2.976469  \n",
       "7935    61791  2.812080  \n",
       "344     36955  2.810681  \n",
       "7065    11260  2.718451  \n",
       "8934   228161  2.700175  \n",
       "9005    47933  2.696263  \n",
       "7646    34851  2.684272  \n",
       "3013     7450  2.629822  "
      ]
     },
     "execution_count": 121,
     "metadata": {},
     "output_type": "execute_result"
    }
   ],
   "source": [
    "hybrid(1, 'Avatar')"
   ]
  },
  {
   "cell_type": "code",
   "execution_count": 122,
   "metadata": {
    "execution": {
     "iopub.execute_input": "2024-04-08T07:13:40.952745Z",
     "iopub.status.busy": "2024-04-08T07:13:40.951563Z",
     "iopub.status.idle": "2024-04-08T07:13:40.979859Z",
     "shell.execute_reply": "2024-04-08T07:13:40.979039Z",
     "shell.execute_reply.started": "2024-04-08T07:13:40.952692Z"
    }
   },
   "outputs": [
    {
     "data": {
      "text/html": [
       "<div>\n",
       "<style scoped>\n",
       "    .dataframe tbody tr th:only-of-type {\n",
       "        vertical-align: middle;\n",
       "    }\n",
       "\n",
       "    .dataframe tbody tr th {\n",
       "        vertical-align: top;\n",
       "    }\n",
       "\n",
       "    .dataframe thead th {\n",
       "        text-align: right;\n",
       "    }\n",
       "</style>\n",
       "<table border=\"1\" class=\"dataframe\">\n",
       "  <thead>\n",
       "    <tr style=\"text-align: right;\">\n",
       "      <th></th>\n",
       "      <th>title</th>\n",
       "      <th>vote_count</th>\n",
       "      <th>vote_average</th>\n",
       "      <th>release_date</th>\n",
       "      <th>movieId</th>\n",
       "      <th>est</th>\n",
       "    </tr>\n",
       "  </thead>\n",
       "  <tbody>\n",
       "    <tr>\n",
       "      <th>987</th>\n",
       "      <td>Alien</td>\n",
       "      <td>4564.0</td>\n",
       "      <td>7.9</td>\n",
       "      <td>1979-05-25</td>\n",
       "      <td>348</td>\n",
       "      <td>3.952274</td>\n",
       "    </tr>\n",
       "    <tr>\n",
       "      <th>7889</th>\n",
       "      <td>X-Men: First Class</td>\n",
       "      <td>5252.0</td>\n",
       "      <td>7.1</td>\n",
       "      <td>2011-05-24</td>\n",
       "      <td>49538</td>\n",
       "      <td>3.949787</td>\n",
       "    </tr>\n",
       "    <tr>\n",
       "      <th>974</th>\n",
       "      <td>Aliens</td>\n",
       "      <td>3282.0</td>\n",
       "      <td>7.7</td>\n",
       "      <td>1986-07-18</td>\n",
       "      <td>679</td>\n",
       "      <td>3.939869</td>\n",
       "    </tr>\n",
       "    <tr>\n",
       "      <th>7935</th>\n",
       "      <td>Rise of the Planet of the Apes</td>\n",
       "      <td>4452.0</td>\n",
       "      <td>7.0</td>\n",
       "      <td>2011-08-03</td>\n",
       "      <td>61791</td>\n",
       "      <td>3.765202</td>\n",
       "    </tr>\n",
       "    <tr>\n",
       "      <th>9005</th>\n",
       "      <td>Independence Day: Resurgence</td>\n",
       "      <td>2550.0</td>\n",
       "      <td>4.9</td>\n",
       "      <td>2016-06-22</td>\n",
       "      <td>47933</td>\n",
       "      <td>3.684198</td>\n",
       "    </tr>\n",
       "    <tr>\n",
       "      <th>922</th>\n",
       "      <td>The Abyss</td>\n",
       "      <td>822.0</td>\n",
       "      <td>7.1</td>\n",
       "      <td>1989-08-09</td>\n",
       "      <td>2756</td>\n",
       "      <td>3.642668</td>\n",
       "    </tr>\n",
       "    <tr>\n",
       "      <th>8934</th>\n",
       "      <td>Home</td>\n",
       "      <td>1539.0</td>\n",
       "      <td>6.8</td>\n",
       "      <td>2015-03-18</td>\n",
       "      <td>228161</td>\n",
       "      <td>3.618800</td>\n",
       "    </tr>\n",
       "    <tr>\n",
       "      <th>5215</th>\n",
       "      <td>Enemy Mine</td>\n",
       "      <td>253.0</td>\n",
       "      <td>6.7</td>\n",
       "      <td>1985-12-12</td>\n",
       "      <td>11864</td>\n",
       "      <td>3.582083</td>\n",
       "    </tr>\n",
       "    <tr>\n",
       "      <th>7646</th>\n",
       "      <td>Predators</td>\n",
       "      <td>1231.0</td>\n",
       "      <td>6.0</td>\n",
       "      <td>2010-07-03</td>\n",
       "      <td>34851</td>\n",
       "      <td>3.556069</td>\n",
       "    </tr>\n",
       "    <tr>\n",
       "      <th>344</th>\n",
       "      <td>True Lies</td>\n",
       "      <td>1138.0</td>\n",
       "      <td>6.8</td>\n",
       "      <td>1994-07-14</td>\n",
       "      <td>36955</td>\n",
       "      <td>3.537473</td>\n",
       "    </tr>\n",
       "  </tbody>\n",
       "</table>\n",
       "</div>"
      ],
      "text/plain": [
       "                               title  vote_count  vote_average release_date  \\\n",
       "987                            Alien      4564.0           7.9   1979-05-25   \n",
       "7889              X-Men: First Class      5252.0           7.1   2011-05-24   \n",
       "974                           Aliens      3282.0           7.7   1986-07-18   \n",
       "7935  Rise of the Planet of the Apes      4452.0           7.0   2011-08-03   \n",
       "9005    Independence Day: Resurgence      2550.0           4.9   2016-06-22   \n",
       "922                        The Abyss       822.0           7.1   1989-08-09   \n",
       "8934                            Home      1539.0           6.8   2015-03-18   \n",
       "5215                      Enemy Mine       253.0           6.7   1985-12-12   \n",
       "7646                       Predators      1231.0           6.0   2010-07-03   \n",
       "344                        True Lies      1138.0           6.8   1994-07-14   \n",
       "\n",
       "      movieId       est  \n",
       "987       348  3.952274  \n",
       "7889    49538  3.949787  \n",
       "974       679  3.939869  \n",
       "7935    61791  3.765202  \n",
       "9005    47933  3.684198  \n",
       "922      2756  3.642668  \n",
       "8934   228161  3.618800  \n",
       "5215    11864  3.582083  \n",
       "7646    34851  3.556069  \n",
       "344     36955  3.537473  "
      ]
     },
     "execution_count": 122,
     "metadata": {},
     "output_type": "execute_result"
    }
   ],
   "source": [
    "hybrid(5000, 'Avatar')\n"
   ]
  },
  {
   "cell_type": "code",
   "execution_count": 123,
   "metadata": {
    "execution": {
     "iopub.execute_input": "2024-04-08T07:13:46.602501Z",
     "iopub.status.busy": "2024-04-08T07:13:46.601515Z",
     "iopub.status.idle": "2024-04-08T07:13:46.635365Z",
     "shell.execute_reply": "2024-04-08T07:13:46.634092Z",
     "shell.execute_reply.started": "2024-04-08T07:13:46.602440Z"
    }
   },
   "outputs": [
    {
     "data": {
      "text/html": [
       "<div>\n",
       "<style scoped>\n",
       "    .dataframe tbody tr th:only-of-type {\n",
       "        vertical-align: middle;\n",
       "    }\n",
       "\n",
       "    .dataframe tbody tr th {\n",
       "        vertical-align: top;\n",
       "    }\n",
       "\n",
       "    .dataframe thead th {\n",
       "        text-align: right;\n",
       "    }\n",
       "</style>\n",
       "<table border=\"1\" class=\"dataframe\">\n",
       "  <thead>\n",
       "    <tr style=\"text-align: right;\">\n",
       "      <th></th>\n",
       "      <th>title</th>\n",
       "      <th>vote_count</th>\n",
       "      <th>vote_average</th>\n",
       "      <th>release_date</th>\n",
       "      <th>movieId</th>\n",
       "      <th>est</th>\n",
       "    </tr>\n",
       "  </thead>\n",
       "  <tbody>\n",
       "    <tr>\n",
       "      <th>2079</th>\n",
       "      <td>The Matrix</td>\n",
       "      <td>9079.0</td>\n",
       "      <td>7.9</td>\n",
       "      <td>1999-03-30</td>\n",
       "      <td>603</td>\n",
       "      <td>4.160077</td>\n",
       "    </tr>\n",
       "    <tr>\n",
       "      <th>6179</th>\n",
       "      <td>A Trip to the Moon</td>\n",
       "      <td>314.0</td>\n",
       "      <td>7.9</td>\n",
       "      <td>1902-09-01</td>\n",
       "      <td>775</td>\n",
       "      <td>3.981742</td>\n",
       "    </tr>\n",
       "    <tr>\n",
       "      <th>522</th>\n",
       "      <td>Terminator 2: Judgment Day</td>\n",
       "      <td>4274.0</td>\n",
       "      <td>7.7</td>\n",
       "      <td>1991-07-01</td>\n",
       "      <td>280</td>\n",
       "      <td>3.941588</td>\n",
       "    </tr>\n",
       "    <tr>\n",
       "      <th>974</th>\n",
       "      <td>Aliens</td>\n",
       "      <td>3282.0</td>\n",
       "      <td>7.7</td>\n",
       "      <td>1986-07-18</td>\n",
       "      <td>679</td>\n",
       "      <td>3.939869</td>\n",
       "    </tr>\n",
       "    <tr>\n",
       "      <th>1024</th>\n",
       "      <td>The Day the Earth Stood Still</td>\n",
       "      <td>323.0</td>\n",
       "      <td>7.3</td>\n",
       "      <td>1951-09-17</td>\n",
       "      <td>828</td>\n",
       "      <td>3.905603</td>\n",
       "    </tr>\n",
       "    <tr>\n",
       "      <th>1589</th>\n",
       "      <td>Metropolis</td>\n",
       "      <td>666.0</td>\n",
       "      <td>8.0</td>\n",
       "      <td>1927-01-10</td>\n",
       "      <td>19</td>\n",
       "      <td>3.887832</td>\n",
       "    </tr>\n",
       "    <tr>\n",
       "      <th>4173</th>\n",
       "      <td>Minority Report</td>\n",
       "      <td>2663.0</td>\n",
       "      <td>7.1</td>\n",
       "      <td>2002-06-20</td>\n",
       "      <td>180</td>\n",
       "      <td>3.771718</td>\n",
       "    </tr>\n",
       "    <tr>\n",
       "      <th>7502</th>\n",
       "      <td>The Book of Eli</td>\n",
       "      <td>2207.0</td>\n",
       "      <td>6.6</td>\n",
       "      <td>2010-01-14</td>\n",
       "      <td>20504</td>\n",
       "      <td>3.756829</td>\n",
       "    </tr>\n",
       "    <tr>\n",
       "      <th>4214</th>\n",
       "      <td>Rollerball</td>\n",
       "      <td>115.0</td>\n",
       "      <td>6.0</td>\n",
       "      <td>1975-06-25</td>\n",
       "      <td>11484</td>\n",
       "      <td>3.745836</td>\n",
       "    </tr>\n",
       "    <tr>\n",
       "      <th>6079</th>\n",
       "      <td>Appleseed</td>\n",
       "      <td>116.0</td>\n",
       "      <td>6.8</td>\n",
       "      <td>2004-04-17</td>\n",
       "      <td>11633</td>\n",
       "      <td>3.645134</td>\n",
       "    </tr>\n",
       "  </tbody>\n",
       "</table>\n",
       "</div>"
      ],
      "text/plain": [
       "                              title  vote_count  vote_average release_date  \\\n",
       "2079                     The Matrix      9079.0           7.9   1999-03-30   \n",
       "6179             A Trip to the Moon       314.0           7.9   1902-09-01   \n",
       "522      Terminator 2: Judgment Day      4274.0           7.7   1991-07-01   \n",
       "974                          Aliens      3282.0           7.7   1986-07-18   \n",
       "1024  The Day the Earth Stood Still       323.0           7.3   1951-09-17   \n",
       "1589                     Metropolis       666.0           8.0   1927-01-10   \n",
       "4173                Minority Report      2663.0           7.1   2002-06-20   \n",
       "7502                The Book of Eli      2207.0           6.6   2010-01-14   \n",
       "4214                     Rollerball       115.0           6.0   1975-06-25   \n",
       "6079                      Appleseed       116.0           6.8   2004-04-17   \n",
       "\n",
       "      movieId       est  \n",
       "2079      603  4.160077  \n",
       "6179      775  3.981742  \n",
       "522       280  3.941588  \n",
       "974       679  3.939869  \n",
       "1024      828  3.905603  \n",
       "1589       19  3.887832  \n",
       "4173      180  3.771718  \n",
       "7502    20504  3.756829  \n",
       "4214    11484  3.745836  \n",
       "6079    11633  3.645134  "
      ]
     },
     "execution_count": 123,
     "metadata": {},
     "output_type": "execute_result"
    }
   ],
   "source": [
    "hybrid(3423, \"The Terminator\")"
   ]
  },
  {
   "cell_type": "markdown",
   "metadata": {},
   "source": [
    " "
   ]
  },
  {
   "cell_type": "markdown",
   "metadata": {},
   "source": [
    "# **We are done...!**"
   ]
  },
  {
   "cell_type": "code",
   "execution_count": 124,
   "metadata": {},
   "outputs": [],
   "source": [
    "import pickle"
   ]
  },
  {
   "cell_type": "code",
   "execution_count": 125,
   "metadata": {},
   "outputs": [],
   "source": [
    "indices = {title: idx for idx, title in enumerate(movies['title'])}\n",
    "with open('indices.pkl', 'wb') as f:\n",
    "    pickle.dump(indices, f)\n"
   ]
  },
  {
   "cell_type": "code",
   "execution_count": 126,
   "metadata": {},
   "outputs": [],
   "source": [
    "id_map = movies[['title', 'id']].set_index('title')\n",
    "with open('id_map.pkl', 'wb') as f:\n",
    "    pickle.dump(id_map, f)\n"
   ]
  },
  {
   "cell_type": "code",
   "execution_count": 127,
   "metadata": {},
   "outputs": [],
   "source": [
    "# Assuming you have already computed cosine_sim\n",
    "with open('cosine_sim.pkl', 'wb') as f:\n",
    "    pickle.dump(cosine_sim, f)\n"
   ]
  },
  {
   "cell_type": "code",
   "execution_count": 128,
   "metadata": {},
   "outputs": [],
   "source": [
    "# Assuming algo is an instance of SVD from surprise library\n",
    "with open('algo.pkl', 'wb') as f:\n",
    "    pickle.dump(algo, f)\n"
   ]
  },
  {
   "cell_type": "code",
   "execution_count": 129,
   "metadata": {},
   "outputs": [],
   "source": [
    "# Assuming smd is a subset DataFrame containing relevant columns\n",
    "with open('smd.pkl', 'wb') as f:\n",
    "    pickle.dump(smd, f)\n"
   ]
  },
  {
   "cell_type": "code",
   "execution_count": 130,
   "metadata": {},
   "outputs": [],
   "source": [
    "indices_map = movies[['id']].reset_index(drop=True)\n",
    "with open('indices_map.pkl', 'wb') as f:\n",
    "    pickle.dump(indices_map, f)\n"
   ]
  },
  {
   "cell_type": "code",
   "execution_count": 131,
   "metadata": {},
   "outputs": [
    {
     "name": "stdout",
     "output_type": "stream",
     "text": [
      "Index(['adult', 'belongs_to_collection', 'budget', 'genres', 'homepage',\n",
      "       'movieId', 'imdb_id', 'original_language', 'original_title', 'overview',\n",
      "       'popularity', 'poster_path', 'production_companies',\n",
      "       'production_countries', 'release_date', 'revenue', 'runtime',\n",
      "       'spoken_languages', 'status', 'tagline', 'title', 'video',\n",
      "       'vote_average', 'vote_count', 'release_year', 'year', 'description',\n",
      "       'cast', 'crew', 'keywords', 'tags'],\n",
      "      dtype='object')\n"
     ]
    }
   ],
   "source": [
    "print(smd.columns)\n"
   ]
  },
  {
   "cell_type": "code",
   "execution_count": 134,
   "metadata": {},
   "outputs": [
    {
     "data": {
      "text/plain": [
       "{'Toy Story': 0,\n",
       " 'Jumanji': 1,\n",
       " 'Grumpier Old Men': 2,\n",
       " 'Waiting to Exhale': 3,\n",
       " 'Father of the Bride Part II': 4,\n",
       " 'Heat': 5,\n",
       " 'Sabrina': 747,\n",
       " 'Tom and Huck': 7,\n",
       " 'Sudden Death': 8,\n",
       " 'GoldenEye': 9,\n",
       " 'The American President': 10,\n",
       " 'Dracula: Dead and Loving It': 11,\n",
       " 'Balto': 12,\n",
       " 'Nixon': 13,\n",
       " 'Cutthroat Island': 14,\n",
       " 'Casino': 15,\n",
       " 'Sense and Sensibility': 16,\n",
       " 'Four Rooms': 17,\n",
       " 'Ace Ventura: When Nature Calls': 18,\n",
       " 'Money Train': 19,\n",
       " 'Get Shorty': 20,\n",
       " 'Copycat': 21,\n",
       " 'Assassins': 22,\n",
       " 'Powder': 23,\n",
       " 'Leaving Las Vegas': 24,\n",
       " 'Othello': 2296,\n",
       " 'Now and Then': 26,\n",
       " 'Persuasion': 7536,\n",
       " 'The City of Lost Children': 28,\n",
       " 'Shanghai Triad': 29,\n",
       " 'Dangerous Minds': 30,\n",
       " 'Twelve Monkeys': 31,\n",
       " 'Babe': 32,\n",
       " 'Carrington': 33,\n",
       " 'Dead Man Walking': 34,\n",
       " 'Across the Sea of Time': 35,\n",
       " 'It Takes Two': 36,\n",
       " 'Clueless': 37,\n",
       " 'Cry, the Beloved Country': 38,\n",
       " 'Richard III': 39,\n",
       " 'Dead Presidents': 40,\n",
       " 'Restoration': 41,\n",
       " 'Mortal Kombat': 42,\n",
       " 'To Die For': 43,\n",
       " 'How To Make An American Quilt': 44,\n",
       " 'Se7en': 45,\n",
       " 'Pocahontas': 46,\n",
       " 'When Night Is Falling': 47,\n",
       " 'The Usual Suspects': 48,\n",
       " 'Mighty Aphrodite': 49,\n",
       " 'Lamerica': 50,\n",
       " 'The Big Green': 51,\n",
       " 'Georgia': 52,\n",
       " 'Home for the Holidays': 53,\n",
       " 'The Postman': 1378,\n",
       " 'The Confessional': 55,\n",
       " 'The Indian in the Cupboard': 56,\n",
       " 'Eye for an Eye': 57,\n",
       " \"Mr. Holland's Opus\": 58,\n",
       " \"Don't Be a Menace to South Central While Drinking Your Juice in the Hood\": 59,\n",
       " 'Two If by Sea': 60,\n",
       " 'Bio-Dome': 61,\n",
       " 'Lawnmower Man 2: Beyond Cyberspace': 62,\n",
       " 'French Twist': 63,\n",
       " 'Friday': 64,\n",
       " 'From Dusk Till Dawn': 65,\n",
       " 'Fair Game': 7734,\n",
       " 'Kicking and Screaming': 67,\n",
       " 'Les Miserables': 68,\n",
       " 'Bed of Roses': 69,\n",
       " 'Screamers': 70,\n",
       " 'Nico Icon': 71,\n",
       " 'The Crossing Guard': 72,\n",
       " 'The Juror': 73,\n",
       " 'The White Balloon': 74,\n",
       " \"Things to Do in Denver When You're Dead\": 75,\n",
       " \"Antonia's Line\": 76,\n",
       " 'Once Upon a Time... When We Were Colored': 77,\n",
       " 'Last Summer in the Hamptons': 78,\n",
       " 'Angels and Insects': 79,\n",
       " 'White Squall': 80,\n",
       " 'Dunston Checks In': 81,\n",
       " 'Black Sheep': 82,\n",
       " 'Nick of Time': 83,\n",
       " 'Mary Reilly': 84,\n",
       " 'Vampire in Brooklyn': 85,\n",
       " 'Beautiful Girls': 86,\n",
       " 'Broken Arrow': 87,\n",
       " \"A Midwinter's Tale\": 88,\n",
       " 'La Haine': 89,\n",
       " 'Shopping': 90,\n",
       " 'Heidi Fleiss: Hollywood Madam': 91,\n",
       " 'City Hall': 92,\n",
       " 'Bottle Rocket': 93,\n",
       " 'Mr. Wrong': 94,\n",
       " 'Unforgettable': 95,\n",
       " 'Happy Gilmore': 96,\n",
       " 'The Bridges of Madison County': 97,\n",
       " 'Muppet Treasure Island': 98,\n",
       " 'Catwalk': 99,\n",
       " 'Braveheart': 100,\n",
       " 'Taxi Driver': 101,\n",
       " 'Rumble in the Bronx': 102,\n",
       " 'Before and After': 103,\n",
       " \"Margaret's Museum\": 104,\n",
       " 'Anne Frank Remembered': 105,\n",
       " \"The Young Poisoner's Handbook\": 106,\n",
       " 'If Lucy Fell': 107,\n",
       " 'Steal Big Steal Little': 108,\n",
       " 'The Boys of St. Vincent': 109,\n",
       " 'Boomerang': 110,\n",
       " 'Chungking Express': 111,\n",
       " 'The Star Maker': 112,\n",
       " 'Flirting with Disaster': 113,\n",
       " 'The Neverending Story III: Escape from Fantasia': 114,\n",
       " 'Pie in the Sky': 115,\n",
       " 'Angela': 116,\n",
       " 'Frankie Starlight': 117,\n",
       " 'Jade': 118,\n",
       " 'Down Periscope': 119,\n",
       " 'Man of the Year': 6605,\n",
       " 'Up Close & Personal': 121,\n",
       " 'The Birdcage': 122,\n",
       " 'The Brothers McMullen': 123,\n",
       " 'Bad Boys': 5861,\n",
       " 'The Amazing Panda Adventure': 125,\n",
       " 'The Basketball Diaries': 126,\n",
       " 'An Awfully Big Adventure': 127,\n",
       " 'Amateur': 128,\n",
       " 'Apollo 13': 129,\n",
       " 'Rob Roy': 130,\n",
       " 'The Addiction': 131,\n",
       " 'Batman Forever': 132,\n",
       " 'Belle de Jour': 133,\n",
       " 'Beyond Rangoon': 134,\n",
       " 'Blue in the Face': 135,\n",
       " 'Canadian Bacon': 136,\n",
       " 'Casper': 137,\n",
       " 'Clockers': 138,\n",
       " 'Congo': 139,\n",
       " 'Crimson Tide': 140,\n",
       " 'Crumb': 141,\n",
       " 'Desperado': 142,\n",
       " 'Devil in a Blue Dress': 143,\n",
       " 'Die Hard: With a Vengeance': 144,\n",
       " 'The Doom Generation': 145,\n",
       " 'Feast of July': 146,\n",
       " 'First Knight': 147,\n",
       " 'Free Willy 2 - The Adventure Home': 148,\n",
       " 'Hackers': 149,\n",
       " 'Jeffrey': 150,\n",
       " 'Johnny Mnemonic': 151,\n",
       " 'Judge Dredd': 152,\n",
       " 'Jury Duty': 153,\n",
       " 'Kids': 154,\n",
       " 'Living in Oblivion': 155,\n",
       " 'Lord of Illusions': 156,\n",
       " 'Love & Human Remains': 157,\n",
       " 'Mad Love': 158,\n",
       " 'Mallrats': 159,\n",
       " 'Mighty Morphin Power Rangers: The Movie': 160,\n",
       " 'Mute Witness': 161,\n",
       " 'Nadja': 162,\n",
       " 'The Net': 163,\n",
       " 'Nine Months': 164,\n",
       " 'Party Girl': 165,\n",
       " 'The Prophecy': 166,\n",
       " 'Reckless': 7436,\n",
       " 'Safe': 168,\n",
       " 'The Scarlet Letter': 788,\n",
       " 'Showgirls': 170,\n",
       " 'Smoke': 171,\n",
       " 'Something to Talk About': 172,\n",
       " 'Species': 173,\n",
       " 'Strange Days': 174,\n",
       " 'The Umbrellas of Cherbourg': 175,\n",
       " 'The Tie That Binds': 176,\n",
       " 'Three Wishes': 177,\n",
       " 'Total Eclipse': 178,\n",
       " 'To Wong Foo, Thanks for Everything! Julie Newmar': 179,\n",
       " 'Under Siege 2: Dark Territory': 180,\n",
       " 'Unstrung Heroes': 181,\n",
       " 'Unzipped': 182,\n",
       " 'A Walk in the Clouds': 183,\n",
       " 'Waterworld': 184,\n",
       " \"White Man's Burden\": 185,\n",
       " 'The Browning Version': 186,\n",
       " 'Burnt by the Sun': 187,\n",
       " 'Before the Rain': 188,\n",
       " 'Before Sunrise': 189,\n",
       " 'Billy Madison': 190,\n",
       " 'The Babysitter': 191,\n",
       " 'Boys on the Side': 192,\n",
       " 'The Cure': 193,\n",
       " 'Castle Freak': 194,\n",
       " 'Circle of Friends': 195,\n",
       " 'Clerks': 196,\n",
       " 'Don Juan DeMarco': 197,\n",
       " 'Disclosure': 198,\n",
       " 'Drop Zone': 199,\n",
       " 'Destiny Turns on the Radio': 200,\n",
       " 'Death and the Maiden': 201,\n",
       " 'Dolores Claiborne': 202,\n",
       " 'Dumb and Dumber': 203,\n",
       " 'Eat Drink Man Woman': 204,\n",
       " 'Exotica': 205,\n",
       " 'Exit to Eden': 206,\n",
       " 'Ed Wood': 207,\n",
       " 'French Kiss': 208,\n",
       " 'Forget Paris': 209,\n",
       " 'Far from Home: The Adventures of Yellow Dog': 210,\n",
       " 'A Goofy Movie': 211,\n",
       " 'Hideaway': 212,\n",
       " 'Fluke': 213,\n",
       " 'Farinelli': 214,\n",
       " 'Gordy': 215,\n",
       " 'Gumby: The Movie': 216,\n",
       " 'The Glass Shield': 217,\n",
       " 'Hoop Dreams': 218,\n",
       " 'Heavenly Creatures': 219,\n",
       " 'Houseguest': 220,\n",
       " 'Immortal Beloved': 221,\n",
       " 'Heavyweights': 222,\n",
       " 'The Hunted': 4566,\n",
       " 'I.Q.': 224,\n",
       " 'Interview with the Vampire': 225,\n",
       " 'Jefferson in Paris': 226,\n",
       " 'The Jerky Boys': 227,\n",
       " 'Junior': 228,\n",
       " 'Just Cause': 229,\n",
       " \"A Kid in King Arthur's Court\": 230,\n",
       " 'Kiss of Death': 6371,\n",
       " 'Star Wars': 232,\n",
       " 'Little Women': 3852,\n",
       " 'A Little Princess': 234,\n",
       " 'Ladybird Ladybird': 235,\n",
       " \"L'Enfer\": 236,\n",
       " 'Like Water for Chocolate': 237,\n",
       " 'Legends of the Fall': 238,\n",
       " 'Major Payne': 239,\n",
       " 'Little Odessa': 240,\n",
       " 'Mi Vida Loca': 241,\n",
       " 'Love Affair': 242,\n",
       " 'Losing Isaiah': 243,\n",
       " 'The Madness of King George': 244,\n",
       " \"Mary Shelley's Frankenstein\": 245,\n",
       " 'Man of the House': 246,\n",
       " 'Mixed Nuts': 247,\n",
       " 'Milk Money': 248,\n",
       " 'Miracle on 34th Street': 1925,\n",
       " 'Miami Rhapsody': 250,\n",
       " 'My Family': 251,\n",
       " 'Murder in the First': 252,\n",
       " \"Nobody's Fool\": 253,\n",
       " 'Nell': 254,\n",
       " 'New Jersey Drive': 255,\n",
       " 'Beyond Bedlam': 256,\n",
       " 'Nina Takes a Lover': 257,\n",
       " 'Natural Born Killers': 258,\n",
       " 'Only You': 259,\n",
       " 'Once Were Warriors': 260,\n",
       " 'Poison Ivy II: Lily': 261,\n",
       " 'Outbreak': 262,\n",
       " 'Leon: The Professional': 263,\n",
       " 'The Perez Family': 264,\n",
       " \"A Pyromaniac's Love Story\": 265,\n",
       " 'Pulp Fiction': 266,\n",
       " 'Priest': 7875,\n",
       " 'Quiz Show': 268,\n",
       " 'Picture Bride': 269,\n",
       " 'Queen Margot': 270,\n",
       " 'The Quick and the Dead': 271,\n",
       " 'Roommates': 272,\n",
       " 'Prêt-à-Porter': 273,\n",
       " 'Three Colors: Red': 274,\n",
       " 'Three Colors: Blue': 275,\n",
       " 'Three Colors: White': 276,\n",
       " 'Red Firecracker, Green Firecracker': 277,\n",
       " 'Stuart Saves His Family': 278,\n",
       " 'The Swan Princess': 279,\n",
       " 'The Secret of Roan Inish': 280,\n",
       " 'The Specialist': 281,\n",
       " 'Stargate': 282,\n",
       " 'The Santa Clause': 283,\n",
       " 'The Shawshank Redemption': 284,\n",
       " 'Shallow Grave': 285,\n",
       " 'Suture': 286,\n",
       " 'Strawberry and Chocolate': 287,\n",
       " 'Swimming with Sharks': 288,\n",
       " 'The Sum of Us': 289,\n",
       " 'Senior Trip': 290,\n",
       " 'To Live': 291,\n",
       " 'Tank Girl': 292,\n",
       " 'Tales from the Crypt: Demon Knight': 293,\n",
       " 'Star Trek: Generations': 294,\n",
       " 'Tales from the Hood': 295,\n",
       " 'Tom & Viv': 296,\n",
       " 'Village of the Damned': 2063,\n",
       " 'Tommy Boy': 298,\n",
       " 'Vanya on 42nd Street': 299,\n",
       " 'The Underneath': 300,\n",
       " 'The Walking Dead': 301,\n",
       " \"What's Eating Gilbert Grape\": 302,\n",
       " 'Virtuosity': 303,\n",
       " 'While You Were Sleeping': 304,\n",
       " 'The War': 305,\n",
       " 'Double Happiness': 306,\n",
       " \"Muriel's Wedding\": 307,\n",
       " 'The Baby-Sitters Club': 308,\n",
       " 'Ace Ventura: Pet Detective': 309,\n",
       " 'The Adventures of Priscilla, Queen of the Desert': 310,\n",
       " 'Backbeat': 311,\n",
       " 'Bitter Moon': 312,\n",
       " 'Bullets Over Broadway': 313,\n",
       " 'Clear and Present Danger': 314,\n",
       " 'The Client': 315,\n",
       " 'Corrina, Corrina': 316,\n",
       " 'Crooklyn': 317,\n",
       " 'The Crow': 318,\n",
       " 'Cobb': 319,\n",
       " 'The Flintstones': 320,\n",
       " 'Forrest Gump': 321,\n",
       " 'Four Weddings and a Funeral': 322,\n",
       " 'Higher Learning': 323,\n",
       " 'I Love Trouble': 324,\n",
       " 'It Could Happen to You': 325,\n",
       " 'The Jungle Book': 9028,\n",
       " 'The Wonderful, Horrible Life of Leni Riefenstahl': 327,\n",
       " 'The Lion King': 328,\n",
       " 'Little Buddha': 329,\n",
       " 'New Nightmare': 330,\n",
       " 'The Mask': 331,\n",
       " 'Maverick': 332,\n",
       " 'Mrs. Parker and the Vicious Circle': 333,\n",
       " 'The Naked Gun 33⅓: The Final Insult': 334,\n",
       " 'The Paper': 335,\n",
       " 'Reality Bites': 336,\n",
       " 'Red Rock West': 337,\n",
       " 'Ri¢hie Ri¢h': 338,\n",
       " 'Safe Passage': 339,\n",
       " 'The River Wild': 340,\n",
       " 'Speed': 341,\n",
       " 'Speechless': 342,\n",
       " 'Timecop': 343,\n",
       " 'True Lies': 344,\n",
       " 'When a Man Loves a Woman': 345,\n",
       " 'Wolf': 346,\n",
       " 'Wyatt Earp': 347,\n",
       " 'Bad Company': 4155,\n",
       " 'A Low Down Dirty Shame': 349,\n",
       " 'Boys Life: Three Stories of Love, Lust, and Liberation': 350,\n",
       " 'Colonel Chabert': 351,\n",
       " 'Faster, Pussycat! Kill! Kill!': 352,\n",
       " \"Jason's Lyric\": 353,\n",
       " 'The Secret Adventures of Tom Thumb': 354,\n",
       " 'Street Fighter': 355,\n",
       " 'Mirage': 356,\n",
       " 'Highlander: The Final Dimension': 357,\n",
       " 'In the Mouth of Madness': 358,\n",
       " '8 Seconds': 359,\n",
       " 'Above the Rim': 360,\n",
       " 'Addams Family Values': 361,\n",
       " 'The Age of Innocence': 362,\n",
       " 'Airheads': 363,\n",
       " 'The Air Up There': 364,\n",
       " 'Another Stakeout': 365,\n",
       " 'Bad Girls': 366,\n",
       " 'Barcelona': 367,\n",
       " 'Being Human': 368,\n",
       " 'The Beverly Hillbillies': 369,\n",
       " 'Beverly Hills Cop III': 370,\n",
       " 'Black Beauty': 5668,\n",
       " 'Blink': 372,\n",
       " 'Blown Away': 373,\n",
       " 'Blue Chips': 374,\n",
       " 'Blue Sky': 375,\n",
       " 'Body Snatchers': 376,\n",
       " 'Boxing Helena': 377,\n",
       " 'A Bronx Tale': 378,\n",
       " 'Cabin Boy': 379,\n",
       " \"Carlito's Way\": 380,\n",
       " \"City Slickers II: The Legend of Curly's Gold\": 381,\n",
       " 'Clean Slate': 382,\n",
       " 'Cliffhanger': 383,\n",
       " 'Coneheads': 384,\n",
       " 'Color of Night': 385,\n",
       " 'Cops & Robbersons': 386,\n",
       " 'The Cowboy Way': 387,\n",
       " 'Dangerous Game': 388,\n",
       " 'Dave': 389,\n",
       " 'Dazed and Confused': 390,\n",
       " 'Demolition Man': 391,\n",
       " 'The Endless Summer 2': 392,\n",
       " 'Even Cowgirls Get the Blues': 393,\n",
       " 'Fatal Instinct': 394,\n",
       " 'Farewell My Concubine': 395,\n",
       " 'The Favor': 396,\n",
       " 'Fearless': 6517,\n",
       " 'Fear of a Black Hat': 398,\n",
       " 'With Honors': 399,\n",
       " 'Flesh and Bone': 400,\n",
       " \"Widows' Peak\": 401,\n",
       " 'For Love or Money': 402,\n",
       " 'The Firm': 403,\n",
       " 'Free Willy': 404,\n",
       " 'Fresh': 405,\n",
       " 'The Fugitive': 406,\n",
       " 'Geronimo: An American Legend': 407,\n",
       " 'The Getaway': 5372,\n",
       " 'Getting Even with Dad': 409,\n",
       " 'Go Fish': 410,\n",
       " 'Guilty as Sin': 411,\n",
       " 'Hard Target': 412,\n",
       " 'Heaven & Earth': 413,\n",
       " 'Hot Shots! Part Deux': 414,\n",
       " 'Live Nude Girls': 415,\n",
       " 'The Englishman Who Went Up a Hill But Came Down a Mountain': 416,\n",
       " 'The House of the Spirits': 417,\n",
       " 'House Party 3': 418,\n",
       " 'The Hudsucker Proxy': 419,\n",
       " \"I'll Do Anything\": 420,\n",
       " 'In the Army Now': 421,\n",
       " 'In the Line of Fire': 422,\n",
       " 'In the Name of the Father': 423,\n",
       " 'The Inkwell': 424,\n",
       " \"What's Love Got to Do with It\": 425,\n",
       " 'Judgment Night': 426,\n",
       " 'Jurassic Park': 427,\n",
       " 'Kalifornia': 428,\n",
       " 'Killing Zoe': 429,\n",
       " 'King of the Hill': 430,\n",
       " 'Lassie': 431,\n",
       " 'Last Action Hero': 432,\n",
       " 'Life With Mikey': 433,\n",
       " 'Lightning Jack': 434,\n",
       " 'M. Butterfly': 435,\n",
       " 'Made in America': 436,\n",
       " 'Malice': 437,\n",
       " 'The Man without a Face': 438,\n",
       " 'Manhattan Murder Mystery': 439,\n",
       " 'Menace II Society': 440,\n",
       " 'Executive Decision': 441,\n",
       " 'In the Realm of the Senses': 442,\n",
       " 'What Happened Was...': 443,\n",
       " 'Much Ado About Nothing': 444,\n",
       " 'Mr. Jones': 445,\n",
       " 'Mr. Wonderful': 446,\n",
       " 'Mrs. Doubtfire': 447,\n",
       " 'Naked': 448,\n",
       " 'The Next Karate Kid': 449,\n",
       " 'No Escape': 450,\n",
       " 'North': 451,\n",
       " 'Orlando': 452,\n",
       " 'A Perfect World': 453,\n",
       " 'Philadelphia': 454,\n",
       " 'The Piano': 455,\n",
       " 'Poetic Justice': 456,\n",
       " 'The Program': 457,\n",
       " 'The Puppet Masters': 458,\n",
       " 'Radioland Murders': 459,\n",
       " 'The Ref': 460,\n",
       " 'The Remains of the Day': 461,\n",
       " 'Renaissance Man': 462,\n",
       " 'Rising Sun': 463,\n",
       " 'The Road to Wellville': 464,\n",
       " 'RoboCop 3': 465,\n",
       " 'Robin Hood: Men in Tights': 466,\n",
       " 'Romeo Is Bleeding': 467,\n",
       " 'Romper Stomper': 468,\n",
       " 'Ruby in Paradise': 469,\n",
       " 'Rudy': 470,\n",
       " 'Savage Nights': 471,\n",
       " \"Schindler's List\": 472,\n",
       " 'The Scout': 473,\n",
       " 'Searching for Bobby Fischer': 474,\n",
       " 'The Secret Garden': 475,\n",
       " 'Serial Mom': 476,\n",
       " 'The Shadow': 477,\n",
       " 'Shadowlands': 478,\n",
       " 'Short Cuts': 479,\n",
       " 'A Simple Twist of Fate': 480,\n",
       " 'Sirens': 481,\n",
       " 'Six Degrees of Separation': 482,\n",
       " 'Sleepless in Seattle': 483,\n",
       " 'Sliver': 484,\n",
       " 'Blade Runner': 485,\n",
       " 'Son in Law': 486,\n",
       " 'So I Married an Axe Murderer': 487,\n",
       " 'Striking Distance': 488,\n",
       " 'Super Mario Bros.': 489,\n",
       " 'Surviving the Game': 490,\n",
       " 'Terminal Velocity': 491,\n",
       " 'Thirty Two Short Films About Glenn Gould': 492,\n",
       " 'Threesome': 493,\n",
       " 'The Nightmare Before Christmas': 494,\n",
       " 'The Three Musketeers': 7990,\n",
       " 'Tombstone': 496,\n",
       " 'Trial by Jury': 497,\n",
       " 'True Romance': 498,\n",
       " 'The War Room': 499,\n",
       " 'The Pagemaster': 500,\n",
       " 'Paris, France': 501,\n",
       " 'Killer': 502,\n",
       " 'Welcome to the Dollhouse': 503,\n",
       " 'Germinal': 504,\n",
       " 'Chasers': 505,\n",
       " 'Cronos': 506,\n",
       " 'Kika': 507,\n",
       " 'Bhaji on the Beach': 508,\n",
       " 'Little Big League': 509,\n",
       " 'Wide Eyed and Legless': 510,\n",
       " 'Ciao, Professore!': 511,\n",
       " 'Spanking the Monkey': 512,\n",
       " 'The Little Rascals': 513,\n",
       " 'Andre': 514,\n",
       " 'Princess Caraboo': 515,\n",
       " 'The Celluloid Closet': 516,\n",
       " 'Café au Lait': 517,\n",
       " 'The Brady Bunch Movie': 518,\n",
       " 'Home Alone': 519,\n",
       " 'Ghost': 520,\n",
       " 'Aladdin': 521,\n",
       " 'Terminator 2: Judgment Day': 522,\n",
       " 'Dances with Wolves': 523,\n",
       " 'Batman': 5803,\n",
       " 'The Silence of the Lambs': 525,\n",
       " 'Snow White and the Seven Dwarfs': 526,\n",
       " 'Beauty and the Beast': 5015,\n",
       " 'Pinocchio': 528,\n",
       " 'Pretty Woman': 529,\n",
       " 'The Wild Bunch': 530,\n",
       " 'Love and a .45': 531,\n",
       " 'Bye Bye Love': 532,\n",
       " 'One Fine Day': 533,\n",
       " 'Candyman: Farewell to the Flesh': 534,\n",
       " 'Fargo': 535,\n",
       " 'Homeward Bound II: Lost in San Francisco': 536,\n",
       " 'Heavy Metal': 537,\n",
       " 'Hellraiser: Bloodline': 538,\n",
       " 'The Pallbearer': 539,\n",
       " 'Jane Eyre': 7842,\n",
       " 'Loaded': 541,\n",
       " 'Bread and Chocolate': 542,\n",
       " 'The Aristocats': 543,\n",
       " 'The Flower of My Secret': 544,\n",
       " 'Ed': 545,\n",
       " 'Scream of Stone': 546,\n",
       " 'My Favorite Season': 547,\n",
       " 'A Thin Line Between Love and Hate': 548,\n",
       " 'The Last Supper': 549,\n",
       " 'Primal Fear': 550,\n",
       " 'Carried Away': 551,\n",
       " 'All Dogs Go to Heaven 2': 552,\n",
       " 'Land and Freedom': 553,\n",
       " 'Denise Calls Up': 554,\n",
       " 'A Family Thing': 555,\n",
       " 'Sgt. Bilko': 556,\n",
       " 'Jack & Sarah': 557,\n",
       " 'Girl 6': 558,\n",
       " 'Diabolique': 5053,\n",
       " 'Courage Under Fire': 560,\n",
       " 'Mission: Impossible': 561,\n",
       " 'Moll Flanders': 562,\n",
       " 'The Superwife': 563,\n",
       " 'DragonHeart': 564,\n",
       " 'Eddie': 565,\n",
       " 'Purple Noon': 566,\n",
       " 'James and the Giant Peach': 567,\n",
       " 'Fear': 568,\n",
       " 'Kids in the Hall: Brain Candy': 569,\n",
       " 'Faithful': 570,\n",
       " 'Underground': 571,\n",
       " 'Bloodsport II': 572,\n",
       " 'Pather Panchali': 573,\n",
       " 'The World of Apu': 574,\n",
       " 'Mystery Science Theater 3000: The Movie': 575,\n",
       " 'Space Jam': 576,\n",
       " 'Barbarella': 577,\n",
       " 'Some Folks Call It a Sling Blade': 578,\n",
       " 'The Run of the Country': 579,\n",
       " 'Alphaville': 580,\n",
       " 'Coup de Torchon': 581,\n",
       " \"It's My Party\": 582,\n",
       " 'Country Life': 583,\n",
       " 'Operation Dumbo Drop': 584,\n",
       " 'The Promise': 592,\n",
       " 'Mrs. Winterbourne': 593,\n",
       " 'Solo': 594,\n",
       " 'The Substitute': 595,\n",
       " 'True Crime': 2070,\n",
       " 'Butterfly Kiss': 597,\n",
       " 'Feeling Minnesota': 598,\n",
       " 'Delta of Venus': 599,\n",
       " 'Angus': 600,\n",
       " 'Faces': 601,\n",
       " 'Boys': 8938,\n",
       " 'The Quest': 603,\n",
       " 'Cosi': 604,\n",
       " 'Mulholland Falls': 605,\n",
       " 'The Truth About Cats & Dogs': 606,\n",
       " 'Oliver & Company': 607,\n",
       " 'Celtic Pride': 608,\n",
       " 'Flipper': 5629,\n",
       " 'Dead Man': 610,\n",
       " 'The Horseman on the Roof': 611,\n",
       " 'The Visitors': 612,\n",
       " 'Multiplicity': 613,\n",
       " 'The Haunted World of Edward D. Wood, Jr.': 614,\n",
       " 'The Craft': 615,\n",
       " 'The Great White Hype': 616,\n",
       " 'Last Dance': 617,\n",
       " 'Cold Comfort Farm': 618,\n",
       " \"Heaven's Prisoners\": 619,\n",
       " 'The Rock': 620,\n",
       " 'Cemetery Man': 621,\n",
       " 'Twister': 622,\n",
       " 'Barb Wire': 623,\n",
       " 'Ghost in the Shell': 624,\n",
       " 'Thinner': 625,\n",
       " 'Spy Hard': 626,\n",
       " 'A Close Shave': 627,\n",
       " 'Force of Evil': 628,\n",
       " 'The Stupids': 629,\n",
       " 'The Arrival': 630,\n",
       " 'Dr. Strangelove or: How I Learned to Stop Worrying and Love the Bomb': 631,\n",
       " 'A Month by the Lake': 632,\n",
       " 'Gold Diggers: The Secret of Bear Mountain': 633,\n",
       " 'Kim': 634,\n",
       " 'Carmen Miranda: Bananas Is My Business': 635,\n",
       " 'Ashes of Time': 636,\n",
       " 'Maya Lin: A Strong Clear Vision': 637,\n",
       " 'Stalingrad': 638,\n",
       " 'The Phantom': 639,\n",
       " 'Striptease': 640,\n",
       " 'Heavy': 641,\n",
       " 'Jack': 642,\n",
       " 'I Shot Andy Warhol': 643,\n",
       " 'The Grass Harp': 644,\n",
       " 'Spirits of the Dead': 645,\n",
       " 'Trainspotting': 646,\n",
       " 'Til There Was You': 647,\n",
       " 'Independence Day': 648,\n",
       " 'Stealing Beauty': 649,\n",
       " 'The Fan': 4287,\n",
       " 'The Hunchback of Notre Dame': 5028,\n",
       " 'The Cable Guy': 652,\n",
       " 'Kingpin': 653,\n",
       " 'Eraser': 654,\n",
       " 'The Gate of Heavenly Peace': 655,\n",
       " 'The Nutty Professor': 1711,\n",
       " 'My Life and Times With Antonin Artaud': 657,\n",
       " 'Daylight': 658,\n",
       " 'The Frighteners': 659,\n",
       " 'Lone Star': 660,\n",
       " 'Harriet the Spy': 661,\n",
       " 'Phenomenon': 662,\n",
       " 'Walking and Talking': 663,\n",
       " \"She's the One\": 664,\n",
       " 'A Time to Kill': 665,\n",
       " 'American Buffalo': 666,\n",
       " 'Alaska': 667,\n",
       " 'Fled': 668,\n",
       " 'Kazaam': 669,\n",
       " 'Larger Than Life': 670,\n",
       " 'Two Deaths': 671,\n",
       " 'A Very Brady Sequel': 672,\n",
       " 'Death in the Garden': 673,\n",
       " 'Kaspar Hauser': 674,\n",
       " 'The Adventures of Pinocchio': 675,\n",
       " \"Joe's Apartment\": 676,\n",
       " 'The First Wives Club': 677,\n",
       " 'Stonewall': 678,\n",
       " 'Ransom': 679,\n",
       " 'High School High': 680,\n",
       " 'Phat Beach': 681,\n",
       " 'Foxfire': 8418,\n",
       " 'Chain Reaction': 683,\n",
       " 'Matilda': 684,\n",
       " 'Emma': 7819,\n",
       " 'The Crow: City of Angels': 686,\n",
       " 'House Arrest': 687,\n",
       " 'Eyes Without a Face': 688,\n",
       " 'Bordello of Blood': 689,\n",
       " 'The Story of Xinghua': 690,\n",
       " 'The Day the Sun Turned Cold': 691,\n",
       " 'Flirt': 692,\n",
       " 'The Spitfire Grill': 693,\n",
       " 'Escape from L.A.': 694,\n",
       " 'Cyclo': 695,\n",
       " 'Basquiat': 696,\n",
       " 'Tin Cup': 697,\n",
       " 'The Ballad of Narayama': 698,\n",
       " 'The Godfather': 699,\n",
       " 'Police Story 3: Supercop': 700,\n",
       " 'Wife': 708,\n",
       " 'Small Faces': 709,\n",
       " 'Bound': 710,\n",
       " 'Carpool': 711,\n",
       " 'Kansas City': 712,\n",
       " \"Gone Fishin'\": 713,\n",
       " \"Vive L'Amour\": 714,\n",
       " 'Nothing to Lose': 5004,\n",
       " 'Project S': 716,\n",
       " 'The Relic': 717,\n",
       " 'The Island of Dr. Moreau': 7642,\n",
       " 'First Kid': 719,\n",
       " 'The Trigger Effect': 720,\n",
       " 'Bogus': 721,\n",
       " 'Bulletproof': 722,\n",
       " 'The Land Before Time III: The Time of the Great Giving': 723,\n",
       " '1-900': 724,\n",
       " 'Halloween: The Curse of Michael Myers': 725,\n",
       " 'Twelfth Night': 726,\n",
       " 'Mother Night': 727,\n",
       " 'Wild Reeds': 728,\n",
       " 'For Whom the Bell Tolls': 729,\n",
       " 'The Philadelphia Story': 730,\n",
       " \"Singin' in the Rain\": 731,\n",
       " 'An American in Paris': 732,\n",
       " 'Funny Face': 733,\n",
       " \"Breakfast at Tiffany's\": 734,\n",
       " 'Vertigo': 735,\n",
       " 'Rear Window': 736,\n",
       " 'It Happened One Night': 737,\n",
       " 'Gaslight': 5744,\n",
       " 'The Gay Divorcee': 739,\n",
       " 'North by Northwest': 740,\n",
       " 'The Apartment': 741,\n",
       " 'Some Like It Hot': 742,\n",
       " 'Charade': 743,\n",
       " 'Casablanca': 744,\n",
       " 'The Maltese Falcon': 5419,\n",
       " 'My Fair Lady': 746,\n",
       " 'Roman Holiday': 748,\n",
       " 'The Little Princess': 749,\n",
       " 'Meet Me in St. Louis': 750,\n",
       " 'The Wizard of Oz': 751,\n",
       " 'Gone with the Wind': 752,\n",
       " 'My Favorite Year': 753,\n",
       " 'Sunset Boulevard': 754,\n",
       " 'Citizen Kane': 755,\n",
       " '2001: A Space Odyssey': 756,\n",
       " 'All About Eve': 757,\n",
       " 'The Women': 7102,\n",
       " 'Rebecca': 759,\n",
       " 'Foreign Correspondent': 760,\n",
       " 'Notorious': 761,\n",
       " 'Spellbound': 4633,\n",
       " 'An Affair to Remember': 763,\n",
       " 'To Catch a Thief': 764,\n",
       " 'Father of the Bride': 4933,\n",
       " 'The Band Wagon': 766,\n",
       " 'Ninotchka': 767,\n",
       " 'Love in the Afternoon': 768,\n",
       " 'Gigi': 769,\n",
       " 'The Reluctant Debutante': 770,\n",
       " 'The Adventures of Robin Hood': 771,\n",
       " 'The Mark of Zorro': 7040,\n",
       " 'Laura': 773,\n",
       " 'The Ghost and Mrs. Muir': 774,\n",
       " 'Lost Horizon': 775,\n",
       " 'Top Hat': 776,\n",
       " 'To Be or Not to Be': 777,\n",
       " 'My Man Godfrey': 2504,\n",
       " 'Giant': 779,\n",
       " 'East of Eden': 780,\n",
       " 'The Thin Man': 781,\n",
       " 'His Girl Friday': 782,\n",
       " 'Around the World in Eighty Days': 783,\n",
       " \"It's a Wonderful Life\": 784,\n",
       " 'Mr. Smith Goes to Washington': 785,\n",
       " 'Bringing Up Baby': 786,\n",
       " 'Penny Serenade': 787,\n",
       " 'Angel on My Shoulder': 789,\n",
       " 'Little Lord Fauntleroy': 790,\n",
       " 'They Made Me a Criminal': 791,\n",
       " 'The Inspector General': 792,\n",
       " 'Angel and the Badman': 793,\n",
       " 'The 39 Steps': 794,\n",
       " 'A Walk in the Sun': 795,\n",
       " 'Night of the Living Dead': 5418,\n",
       " 'The African Queen': 797,\n",
       " 'Beat the Devil': 798,\n",
       " 'Cat on a Hot Tin Roof': 799,\n",
       " 'The Last Time I Saw Paris': 800,\n",
       " 'Meet John Doe': 801,\n",
       " 'A Farewell to Arms': 809,\n",
       " 'Yes, Madam': 810,\n",
       " 'Dangerous Ground': 811,\n",
       " 'Picnic': 812,\n",
       " 'The Pompatus of Love': 813,\n",
       " 'Fly Away Home': 814,\n",
       " 'Bliss': 815,\n",
       " 'Grace of My Heart': 816,\n",
       " 'Maximum Risk': 817,\n",
       " 'Michael Collins': 818,\n",
       " \"The Rich Man's Wife\": 819,\n",
       " 'Big Night': 820,\n",
       " 'Last Man Standing': 821,\n",
       " 'Caught': 822,\n",
       " 'Set It Off': 823,\n",
       " '2 Days in the Valley': 824,\n",
       " 'Extreme Measures': 825,\n",
       " 'The Glimmer Man': 826,\n",
       " 'D3: The Mighty Ducks': 827,\n",
       " 'The Chamber': 828,\n",
       " 'The Apple Dumpling Gang': 829,\n",
       " 'Davy Crockett, King of the Wild Frontier': 830,\n",
       " 'Escape to Witch Mountain': 831,\n",
       " 'The Love Bug': 832,\n",
       " 'Herbie Rides Again': 833,\n",
       " 'Old Yeller': 834,\n",
       " 'The Parent Trap': 1637,\n",
       " 'Pollyanna': 836,\n",
       " 'Homeward Bound: The Incredible Journey': 837,\n",
       " 'The Shaggy Dog': 838,\n",
       " 'Swiss Family Robinson': 839,\n",
       " 'That Darn Cat!': 840,\n",
       " '20,000 Leagues Under the Sea': 7122,\n",
       " 'Cool Runnings': 842,\n",
       " 'Angels in the Outfield': 843,\n",
       " 'Cinderella': 8926,\n",
       " 'Winnie the Pooh and the Blustery Day': 845,\n",
       " 'The Three Caballeros': 846,\n",
       " 'The Sword in the Stone': 847,\n",
       " 'So Dear to My Heart': 848,\n",
       " 'Robin Hood: Prince of Thieves': 849,\n",
       " 'Mary Poppins': 850,\n",
       " 'Dumbo': 851,\n",
       " \"Pete's Dragon\": 852,\n",
       " 'Bedknobs and Broomsticks': 853,\n",
       " 'Alice in Wonderland': 7705,\n",
       " 'The Fox and the Hound': 855,\n",
       " 'Freeway': 856,\n",
       " 'The Sound of Music': 857,\n",
       " 'Die Hard': 858,\n",
       " 'The Lawnmower Man': 859,\n",
       " 'The Secret Agent': 860,\n",
       " 'Secrets & Lies': 861,\n",
       " 'That Thing You Do!': 862,\n",
       " 'To Gillian on Her 37th Birthday': 863,\n",
       " 'Surviving Picasso': 864,\n",
       " 'Beautiful Thing': 865,\n",
       " 'The Long Kiss Goodnight': 866,\n",
       " 'The Ghost and the Darkness': 867,\n",
       " 'Looking for Richard': 868,\n",
       " 'Trees Lounge': 869,\n",
       " 'Normal Life': 870,\n",
       " 'Get on the Bus': 871,\n",
       " 'Shadow Conspiracy': 872,\n",
       " 'Jude': 873,\n",
       " 'Everyone Says I Love You': 874,\n",
       " 'Romeo + Juliet': 875,\n",
       " 'Swingers': 876,\n",
       " 'Sleepers': 877,\n",
       " 'Johns': 878,\n",
       " 'Aladdin and the King of Thieves': 879,\n",
       " 'Shall We Dance': 880,\n",
       " 'A Damsel in Distress': 881,\n",
       " 'Crossfire': 882,\n",
       " 'Murder, My Sweet': 883,\n",
       " 'Willy Wonka & the Chocolate Factory': 884,\n",
       " 'The Innocents': 885,\n",
       " 'Sleeper': 886,\n",
       " 'Bananas': 887,\n",
       " 'A Fish Called Wanda': 888,\n",
       " 'Life of Brian': 889,\n",
       " 'Victor/Victoria': 890,\n",
       " 'The Candidate': 891,\n",
       " 'The Great Race': 892,\n",
       " 'Bonnie and Clyde': 893,\n",
       " 'The Old Man and the Sea': 894,\n",
       " 'Dial M for Murder': 895,\n",
       " 'Madame Butterfly': 896,\n",
       " 'Dirty Dancing': 897,\n",
       " 'Reservoir Dogs': 898,\n",
       " 'Platoon': 899,\n",
       " \"Weekend at Bernie's\": 900,\n",
       " 'Basic Instinct': 901,\n",
       " 'The Doors': 902,\n",
       " 'The Crying Game': 903,\n",
       " 'Glengarry Glen Ross': 904,\n",
       " \"Sophie's Choice\": 905,\n",
       " 'E.T. the Extra-Terrestrial': 906,\n",
       " 'A Christmas Carol': 7455,\n",
       " 'Days of Thunder': 908,\n",
       " 'Top Gun': 909,\n",
       " 'Rebel Without a Cause': 910,\n",
       " 'A Streetcar Named Desire': 911,\n",
       " 'Children of the Corn IV: The Gathering': 912,\n",
       " 'Microcosmos': 913,\n",
       " 'Palookaville': 914,\n",
       " 'The Associate': 915,\n",
       " 'The Funeral': 916,\n",
       " 'The People vs. Larry Flynt': 917,\n",
       " 'A Perfect Candidate': 918,\n",
       " 'On Golden Pond': 919,\n",
       " 'The Return of the Pink Panther': 920,\n",
       " 'Drop Dead Fred': 921,\n",
       " 'The Abyss': 922,\n",
       " 'The Fog': 923,\n",
       " 'Escape from New York': 924,\n",
       " 'The Howling': 925,\n",
       " 'Jean de Florette': 926,\n",
       " 'Manon of the Spring': 927,\n",
       " 'Private Benjamin': 928,\n",
       " 'Monty Python and the Holy Grail': 929,\n",
       " 'Hustler White': 930,\n",
       " 'Snowriders': 931,\n",
       " 'When We Were Kings': 932,\n",
       " 'The Wrong Trousers': 933,\n",
       " 'The Return of Martin Guerre': 934,\n",
       " 'Faust': 3505,\n",
       " 'He Walked by Night': 936,\n",
       " 'Raw Deal': 937,\n",
       " 'T-Men': 938,\n",
       " 'The Tin Drum': 939,\n",
       " 'The Ruling Class': 940,\n",
       " 'Mina Tannenbaum': 941,\n",
       " '2 or 3 Things I Know About Her': 942,\n",
       " 'The Bloody Child': 943,\n",
       " 'Dear God': 944,\n",
       " 'Bad Moon': 945,\n",
       " 'American Dream': 946,\n",
       " 'Bob Roberts': 947,\n",
       " 'Cinema Paradiso': 948,\n",
       " 'The Cook, the Thief, His Wife & Her Lover': 949,\n",
       " 'Dead Tired': 950,\n",
       " 'Delicatessen': 951,\n",
       " 'The Double Life of Veronique': 952,\n",
       " 'Enchanted April': 953,\n",
       " 'Paths of Glory': 954,\n",
       " 'The Grifters': 955,\n",
       " 'Hear My Song': 956,\n",
       " 'The Shooter': 957,\n",
       " 'The English Patient': 958,\n",
       " 'Mediterraneo': 959,\n",
       " 'My Left Foot: The Story of Christy Brown': 960,\n",
       " 'Sex, Lies, and Videotape': 961,\n",
       " 'Passion Fish': 962,\n",
       " 'Strictly Ballroom': 963,\n",
       " 'The Thin Blue Line': 964,\n",
       " 'Tie Me Up! Tie Me Down!': 965,\n",
       " 'Madonna: Truth or Dare': 966,\n",
       " 'Paris is Burning': 967,\n",
       " \"One Flew Over the Cuckoo's Nest\": 968,\n",
       " 'Up in Smoke': 969,\n",
       " 'The Empire Strikes Back': 970,\n",
       " 'The Princess Bride': 971,\n",
       " 'Raiders of the Lost Ark': 972,\n",
       " 'Brazil': 973,\n",
       " 'Aliens': 974,\n",
       " 'The Good, the Bad and the Ugly': 975,\n",
       " 'Withnail & I': 976,\n",
       " '12 Angry Men': 7606,\n",
       " 'Lawrence of Arabia': 978,\n",
       " 'A Clockwork Orange': 979,\n",
       " 'To Kill a Mockingbird': 980,\n",
       " 'Apocalypse Now': 981,\n",
       " 'Once Upon a Time in the West': 982,\n",
       " 'Return of the Jedi': 983,\n",
       " 'Wings of Desire': 984,\n",
       " 'The Third Man': 985,\n",
       " 'GoodFellas': 986,\n",
       " 'Alien': 987,\n",
       " 'Army of Darkness': 988,\n",
       " 'The Big Blue': 989,\n",
       " 'Ran': 990,\n",
       " 'The Killer': 991,\n",
       " 'Psycho': 1916,\n",
       " 'The Blues Brothers': 993,\n",
       " 'The Godfather: Part II': 994,\n",
       " 'Full Metal Jacket': 995,\n",
       " 'A Grand Day Out': 996,\n",
       " 'Henry V': 5754,\n",
       " 'Amadeus': 998,\n",
       " 'The Quiet Man': 999,\n",
       " 'Once Upon a Time in America': 1000,\n",
       " 'Raging Bull': 1001,\n",
       " 'Annie Hall': 1002,\n",
       " 'The Right Stuff': 1003,\n",
       " 'Stalker': 1004,\n",
       " 'Das Boot': 1005,\n",
       " 'The Sting': 1006,\n",
       " 'Harold and Maude': 1007,\n",
       " 'Trust': 1008,\n",
       " 'The Seventh Seal': 1009,\n",
       " 'Local Hero': 1010,\n",
       " 'The Terminator': 1011,\n",
       " 'Braindead': 1012,\n",
       " 'Glory': 1013,\n",
       " 'Rosencrantz & Guildenstern Are Dead': 1014,\n",
       " 'Manhattan': 1015,\n",
       " \"Miller's Crossing\": 1016,\n",
       " 'Dead Poets Society': 1017,\n",
       " 'The Graduate': 1018,\n",
       " 'Touch of Evil': 1019,\n",
       " 'La Femme Nikita': 1020,\n",
       " 'The Bridge on the River Kwai': 1021,\n",
       " '8½': 1022,\n",
       " ...}"
      ]
     },
     "execution_count": 134,
     "metadata": {},
     "output_type": "execute_result"
    }
   ],
   "source": [
    "indices"
   ]
  },
  {
   "cell_type": "code",
   "execution_count": null,
   "metadata": {},
   "outputs": [],
   "source": []
  }
 ],
 "metadata": {
  "kaggle": {
   "accelerator": "none",
   "dataSources": [
    {
     "datasetId": 3405,
     "sourceId": 6663,
     "sourceType": "datasetVersion"
    }
   ],
   "dockerImageVersionId": 30673,
   "isGpuEnabled": false,
   "isInternetEnabled": true,
   "language": "python",
   "sourceType": "notebook"
  },
  "kernelspec": {
   "display_name": "Python 3 (ipykernel)",
   "language": "python",
   "name": "python3"
  },
  "language_info": {
   "codemirror_mode": {
    "name": "ipython",
    "version": 3
   },
   "file_extension": ".py",
   "mimetype": "text/x-python",
   "name": "python",
   "nbconvert_exporter": "python",
   "pygments_lexer": "ipython3",
   "version": "3.11.3"
  }
 },
 "nbformat": 4,
 "nbformat_minor": 4
}
